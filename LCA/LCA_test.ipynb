{
 "cells": [
  {
   "cell_type": "markdown",
   "id": "fd240554",
   "metadata": {},
   "source": [
    "# 1. Import relevant libraries and modules"
   ]
  },
  {
   "cell_type": "code",
   "execution_count": 2,
   "id": "189fe2ee",
   "metadata": {},
   "outputs": [],
   "source": [
    "# Import relevant libraries and modules\n",
    "import os\n",
    "import matplotlib.pyplot as plt\n",
    "import numpy as np\n",
    "import pandas as pd\n",
    "import brightway2 as bw\n",
    "import math\n",
    "import sys\n",
    "from brightway2 import *\n",
    "from bw2data.parameters import ActivityParameter, DatabaseParameter, ProjectParameter, Group"
   ]
  },
  {
   "cell_type": "code",
   "execution_count": 3,
   "id": "6def7c0f",
   "metadata": {},
   "outputs": [],
   "source": [
    "import scienceplots as sp"
   ]
  },
  {
   "cell_type": "markdown",
   "id": "c5062f65",
   "metadata": {},
   "source": [
    "# 2.1 If new project is set up, check the followings"
   ]
  },
  {
   "cell_type": "code",
   "execution_count": 4,
   "id": "30bcf0c5",
   "metadata": {},
   "outputs": [
    {
     "name": "stdout",
     "output_type": "stream",
     "text": [
      "Current Project: Rooftop_Garden_Tomato\n"
     ]
    }
   ],
   "source": [
    "# Check all the projects in the bw\n",
    "bw.projects\n",
    "\n",
    "# Set current project to \"Rooftop_Garden_Tomato\"\n",
    "projects.set_current(\"Rooftop_Garden_Tomato\")\n",
    "\n",
    "# Get the current project\n",
    "current_project = projects.current\n",
    "\n",
    "# Print the current project\n",
    "print(\"Current Project:\", current_project)\n",
    "\n",
    "# Check databases available in the project\n",
    "bw.databases\n",
    "\n",
    "# Select the ecoinvent database\n",
    "eidb = bw.Database('ecoinvent 3.6_cut-off_ecoSpold02')"
   ]
  },
  {
   "cell_type": "markdown",
   "id": "03937881",
   "metadata": {},
   "source": [
    "# 2.2 If new project is not set up, follow the below steps"
   ]
  },
  {
   "cell_type": "code",
   "execution_count": 3,
   "id": "3fb2f114",
   "metadata": {},
   "outputs": [
    {
     "data": {
      "text/plain": [
       "'C:\\\\Users\\\\DELL\\\\AppData\\\\Local\\\\pylca\\\\Brightway3\\\\default.c21f969b5f03d33d43e04f8f136e7682'"
      ]
     },
     "execution_count": 3,
     "metadata": {},
     "output_type": "execute_result"
    }
   ],
   "source": [
    "# See where the projects stored\n",
    "bw.projects.dir # 'C:\\\\Users\\\\DELL\\\\AppData\\\\Local\\\\pylca\\\\Brightway3\\\\default.c21f969b5f03d33d43e04f8f136e7682'"
   ]
  },
  {
   "cell_type": "code",
   "execution_count": 3,
   "id": "65f34045",
   "metadata": {},
   "outputs": [
    {
     "name": "stdout",
     "output_type": "stream",
     "text": [
      "Biosphere database already present!!! No setup is needed\n"
     ]
    }
   ],
   "source": [
    "### Setup a project ###\n",
    "# Create a new project called \"Rooftop_Garden_Tomato\"\n",
    "bw.projects.set_current(\"Rooftop_Garden_Tomato\")\n",
    "bw.bw2setup() #Importing elementary flows, LCIA methods and some other data"
   ]
  },
  {
   "cell_type": "code",
   "execution_count": 8,
   "id": "1ee720bf",
   "metadata": {
    "collapsed": true
   },
   "outputs": [
    {
     "name": "stdout",
     "output_type": "stream",
     "text": [
      "Extracting XML data from 18121 datasets\n",
      "Extracted 18121 datasets in 423.82 seconds\n",
      "Applying strategy: normalize_units\n",
      "Applying strategy: update_ecoinvent_locations\n",
      "Applying strategy: remove_zero_amount_coproducts\n",
      "Applying strategy: remove_zero_amount_inputs_with_no_activity\n",
      "Applying strategy: remove_unnamed_parameters\n",
      "Applying strategy: es2_assign_only_product_with_amount_as_reference_product\n",
      "Applying strategy: assign_single_product_as_activity\n",
      "Applying strategy: create_composite_code\n",
      "Applying strategy: drop_unspecified_subcategories\n",
      "Applying strategy: fix_ecoinvent_flows_pre35\n",
      "Applying strategy: drop_temporary_outdated_biosphere_flows\n",
      "Applying strategy: link_biosphere_by_flow_uuid\n",
      "Applying strategy: link_internal_technosphere_by_composite_code\n",
      "Applying strategy: delete_exchanges_missing_activity\n",
      "Applying strategy: delete_ghost_exchanges\n",
      "Applying strategy: remove_uncertainty_from_negative_loss_exchanges\n",
      "Applying strategy: fix_unreasonably_high_lognormal_uncertainties\n",
      "Applying strategy: set_lognormal_loc_value\n",
      "Applying strategy: convert_activity_parameters_to_list\n",
      "Applying strategy: add_cpc_classification_from_single_reference_product\n",
      "Applying strategy: delete_none_synonyms\n",
      "Applied 21 strategies in 43.81 seconds\n",
      "18121 datasets\n",
      "615644 exchanges\n",
      "2038 unlinked exchanges\n",
      "  Type biosphere: 17 unique unlinked exchanges\n"
     ]
    }
   ],
   "source": [
    "### Database import/setup ###\n",
    "#list the available databases\n",
    "bw.databases\n",
    "# Import ecoinvent 3.6\n",
    "if 'ecoinvent 3.6_cut-off_ecoSpold02' in bw.databases:\n",
    "    print(\"Database has already been imported.\")\n",
    "else:\n",
    "    # mind that the ecoinvent file must be unzipped; then: path to the datasets subfolder\n",
    "    file_path_ei36cut = r\"C:\\Users\\DELL\\OneDrive\\Desktop\\IC Project\\LCA\\Ecoinvent\\3.6\\ecoinvent 3.6_cut-off_ecoSpold02\\datasets\"\n",
    "    # the \"r\" makes sure that the path is read as a string - especially useful when you have spaces in your string\n",
    "    ei36cut = bw.SingleOutputEcospold2Importer(file_path_ei36cut, 'ecoinvent 3.6_cut-off_ecoSpold02')\n",
    "    ei36cut\n",
    "    ei36cut.apply_strategies()\n",
    "    ei36cut.statistics()"
   ]
  },
  {
   "cell_type": "code",
   "execution_count": 10,
   "id": "75a3a28e",
   "metadata": {},
   "outputs": [],
   "source": [
    "# Iterate over all datasets in your data\n",
    "for dataset in ei36cut:\n",
    "    # Keep only valid exchanges\n",
    "    dataset['exchanges'] = [exc for exc in dataset['exchanges'] if 'input' in exc and 'amount' in exc]"
   ]
  },
  {
   "cell_type": "code",
   "execution_count": 11,
   "id": "23ee9a79",
   "metadata": {
    "scrolled": true
   },
   "outputs": [
    {
     "name": "stderr",
     "output_type": "stream",
     "text": [
      "Writing activities to SQLite3 database:\n",
      "0% [##############################] 100% | ETA: 00:00:00\n",
      "Total time elapsed: 00:03:44\n"
     ]
    },
    {
     "name": "stdout",
     "output_type": "stream",
     "text": [
      "Title: Writing activities to SQLite3 database:\n",
      "  Started: 06/23/2023 20:45:27\n",
      "  Finished: 06/23/2023 20:49:12\n",
      "  Total time elapsed: 00:03:44\n",
      "  CPU %: 87.30\n",
      "  Memory %: 34.01\n",
      "Created database: ecoinvent 3.6_cut-off_ecoSpold02\n"
     ]
    },
    {
     "data": {
      "text/plain": [
       "Brightway2 SQLiteBackend: ecoinvent 3.6_cut-off_ecoSpold02"
      ]
     },
     "execution_count": 11,
     "metadata": {},
     "output_type": "execute_result"
    }
   ],
   "source": [
    "#write database to disk --> actually saves it\n",
    "ei36cut.write_database()"
   ]
  },
  {
   "cell_type": "code",
   "execution_count": 2,
   "id": "33e90e0a",
   "metadata": {},
   "outputs": [
    {
     "data": {
      "text/plain": [
       "Databases dictionary with 1 object(s):\n",
       "\tforwast"
      ]
     },
     "execution_count": 2,
     "metadata": {},
     "output_type": "execute_result"
    }
   ],
   "source": [
    "#list the available databases\n",
    "bw.databases"
   ]
  },
  {
   "cell_type": "code",
   "execution_count": null,
   "id": "ad7292b0",
   "metadata": {},
   "outputs": [],
   "source": [
    "# check which project you are working with\n",
    "print(bw.projects.current)"
   ]
  },
  {
   "cell_type": "markdown",
   "id": "64f12a1e",
   "metadata": {},
   "source": [
    "# 3 Start input\n",
    "## Activity 1: Cultivation system (Raised bed construction)"
   ]
  },
  {
   "cell_type": "code",
   "execution_count": 259,
   "id": "635c782b",
   "metadata": {},
   "outputs": [],
   "source": [
    "results = eidb.search('mixed_waste')\n",
    "\n",
    "for activity in results:\n",
    "    print(activity['name'])\n",
    "    print(activity['code'])"
   ]
  },
  {
   "cell_type": "code",
   "execution_count": 261,
   "id": "7d21643f",
   "metadata": {},
   "outputs": [
    {
     "name": "stdout",
     "output_type": "stream",
     "text": [
      "'nutrient supply from vinasse, from fermentation of sugarcane' (kilogram, GLO, None)\n"
     ]
    }
   ],
   "source": [
    "activity = bw.Database('ecoinvent 3.6_cut-off_ecoSpold02').get('033358f5f277a630e25b22f9686f2e91')\n",
    "print(activity)\n",
    "activity.as_dict()"
   ]
  },
  {
   "cell_type": "code",
   "execution_count": 17,
   "id": "88d2220b",
   "metadata": {
    "scrolled": false
   },
   "outputs": [],
   "source": [
    "# Select the ecoinvent database\n",
    "eidb = bw.Database('ecoinvent 3.6_cut-off_ecoSpold02')"
   ]
  },
  {
   "cell_type": "code",
   "execution_count": 15,
   "id": "e19c8f38",
   "metadata": {},
   "outputs": [
    {
     "name": "stdout",
     "output_type": "stream",
     "text": [
      "'transport, freight, lorry 3.5-7.5 metric ton, EURO6' (ton kilometer, RoW, None)\n",
      "fc2a9e3501d62d5a0ed4c1a7aa4ec170\n"
     ]
    }
   ],
   "source": [
    "for act in [act for act in eidb if 'lorry 3.5-7.5 metric ton, EURO6' in act['name'] and 'market' not in act['name'] and 'RoW' in act['location']]:\n",
    "    print(act)\n",
    "    print(act['code'])"
   ]
  },
  {
   "cell_type": "code",
   "execution_count": 12,
   "id": "9a32a1f5",
   "metadata": {},
   "outputs": [],
   "source": [
    "# check activity details\n",
    "a = eidb.get('ea3caae65d0a28b616f0a2442504098c')\n",
    "a.as_dict()\n",
    "#for exchange in a.exchanges():\n",
    "#    print(exchange)"
   ]
  },
  {
   "cell_type": "code",
   "execution_count": 8,
   "id": "1f27a21e",
   "metadata": {},
   "outputs": [],
   "source": [
    "# construction of the raised bed\n",
    "# create a new activity\n",
    "raised_bed = eidb.new_activity(code = 'raised_bed', name = \"raised_bed\", unit = \"unit\")\n",
    "raised_bed.save()\n",
    "\n",
    "# Search for items in ecoinvent, use the first result (you might want to ensure that you've got the right one)\n",
    "# Create exchanges for each item\n",
    "# Save changes\n",
    "wood = [act for act in eidb if 'sawnwood production, softwood, dried (u=10%)' in act['name'] and 'RER' in act['location']][0] \n",
    "# 'sawnwood production, softwood, dried (u=10%), planed' (cubic meter, RER, None)\n",
    "raised_bed.new_exchange(input=wood.key, amount=0.001184, type='technosphere').save()\n",
    "raised_bed.save()\n",
    "\n",
    "screws = [act for act in eidb if 'steel production, electric, chromium steel 18/8' in act['name'] and 'RER' in act['location']][0] \n",
    "# steel production, electric, chromium steel 18/8' (kilogram, RER, None)\n",
    "raised_bed.new_exchange(input=screws.key, amount=0.012, type='technosphere').save()\n",
    "raised_bed.save()\n",
    "\n",
    "geotextile = [act for act in eidb if 'textile production, non woven polypropylene' in act['name'] and 'RoW' in act['location']][0] \n",
    "# 'textile production, non woven polypropylene, spun bond' (kilogram, RoW, None)\n",
    "raised_bed.new_exchange(input=geotextile.key, amount=0.015, type='technosphere').save()\n",
    "raised_bed.save()\n",
    "\n",
    "clay_balls = [act for act in eidb if 'expanded clay production' in act['name'] and 'RoW' in act['location']][0] \n",
    "# 'expanded clay production' (kilogram, RoW, None)\n",
    "raised_bed.new_exchange(input=clay_balls.key, amount=1.14, type='technosphere').save()\n",
    "raised_bed.save()\n",
    "\n",
    "EPDM = [act for act in eidb if 'synthetic rubber production' in act['name'] and 'RER' in act['location']][0] \n",
    "# 'synthetic rubber production' (kilogram, RER, None)\n",
    "raised_bed.new_exchange(input=EPDM.key, amount=0.337, type='technosphere').save()\n",
    "raised_bed.save()\n",
    "\n",
    "construction = [act for act in eidb if 'electricity, low voltage' in act['name'] and 'GB' in act['location']][0] \n",
    "# 'market for electricity, low voltage' (kilowatt hour, GB, None)\n",
    "raised_bed.new_exchange(input=construction.key, amount=0.000667, type='technosphere').save()\n",
    "raised_bed.save()\n",
    "\n",
    "transport = [act for act in eidb if 'lorry 3.5-7.5 metric ton, EURO6' in act['name'] and 'market' not in act['name'] and 'RoW' in act['location']][0] \n",
    "# 'transport, freight, lorry 3.5-7.5 metric ton, EURO6' (ton kilometer, RoW, None)\n",
    "raised_bed.new_exchange(input=transport.key, amount=0.011289, type='technosphere').save()\n",
    "raised_bed.save()\n"
   ]
  },
  {
   "cell_type": "code",
   "execution_count": 7,
   "id": "e28354fd",
   "metadata": {},
   "outputs": [],
   "source": [
    "# delete all waste handling activities that were accidentally created\n",
    "for activity in [act for act in eidb if act['name']=='raised_bed']:\n",
    "    activity.delete()\n",
    "# delete individual raised_bed activity\n",
    "# raised_bed.delete"
   ]
  },
  {
   "cell_type": "code",
   "execution_count": 31,
   "id": "972e44c9",
   "metadata": {
    "scrolled": true
   },
   "outputs": [
    {
     "data": {
      "text/plain": [
       "['raised_bed' (unit, GLO, None)]"
      ]
     },
     "execution_count": 31,
     "metadata": {},
     "output_type": "execute_result"
    }
   ],
   "source": [
    "# get general information on the new activity\n",
    "eidb.search('raised_bed')"
   ]
  },
  {
   "cell_type": "code",
   "execution_count": 9,
   "id": "fba74b91",
   "metadata": {
    "scrolled": false
   },
   "outputs": [
    {
     "name": "stdout",
     "output_type": "stream",
     "text": [
      "Exchange: 0.001184 cubic meter 'sawnwood production, softwood, dried (u=10%), planed' (cubic meter, RER, None) to 'raised_bed' (unit, GLO, None)>\n",
      "Exchange: 0.012 kilogram 'steel production, electric, chromium steel 18/8' (kilogram, RER, None) to 'raised_bed' (unit, GLO, None)>\n",
      "Exchange: 0.015 kilogram 'textile production, non woven polypropylene, spun bond' (kilogram, RoW, None) to 'raised_bed' (unit, GLO, None)>\n",
      "Exchange: 1.14 kilogram 'expanded clay production' (kilogram, RoW, None) to 'raised_bed' (unit, GLO, None)>\n",
      "Exchange: 0.337 kilogram 'synthetic rubber production' (kilogram, RER, None) to 'raised_bed' (unit, GLO, None)>\n",
      "Exchange: 0.000667 kilowatt hour 'market for electricity, low voltage' (kilowatt hour, GB, None) to 'raised_bed' (unit, GLO, None)>\n",
      "Exchange: 0.011289 ton kilometer 'transport, freight, lorry 3.5-7.5 metric ton, EURO6' (ton kilometer, RoW, None) to 'raised_bed' (unit, GLO, None)>\n"
     ]
    }
   ],
   "source": [
    "# Have a look at all exchanges of the selected activity\n",
    "for exc in raised_bed.exchanges():\n",
    "    print(exc)"
   ]
  },
  {
   "cell_type": "markdown",
   "id": "3cb6db6a",
   "metadata": {},
   "source": [
    "### Activity 1 LCA and Monte Carlo"
   ]
  },
  {
   "cell_type": "code",
   "execution_count": 15,
   "id": "4b966c11",
   "metadata": {},
   "outputs": [],
   "source": [
    "functional_unit1 = {raised_bed:1}"
   ]
  },
  {
   "cell_type": "code",
   "execution_count": 16,
   "id": "d6929d51",
   "metadata": {},
   "outputs": [],
   "source": [
    "IPCC_method1 = [m for m in bw.methods if 'IPCC 2021' in str(m) and  'climate change' in str(m) and 'GWP100' in str(m) and not 'no LT' in str(m)][0]"
   ]
  },
  {
   "cell_type": "code",
   "execution_count": 17,
   "id": "41bab1d4",
   "metadata": {},
   "outputs": [],
   "source": [
    "lca1 = bw.LCA(functional_unit1,IPCC_method1)"
   ]
  },
  {
   "cell_type": "code",
   "execution_count": 18,
   "id": "beeefcbd",
   "metadata": {},
   "outputs": [],
   "source": [
    "lca1.lci()\n",
    "lca1.lcia()"
   ]
  },
  {
   "cell_type": "code",
   "execution_count": 19,
   "id": "521df96f",
   "metadata": {},
   "outputs": [],
   "source": [
    "mean_score1 = lca1.score"
   ]
  },
  {
   "cell_type": "code",
   "execution_count": 20,
   "id": "a57742e0",
   "metadata": {},
   "outputs": [
    {
     "name": "stdout",
     "output_type": "stream",
     "text": [
      "The raised_bed process accounts for 1.500482 kg CO2-Eq.\n"
     ]
    }
   ],
   "source": [
    "print(\"The {} process accounts for {:f} {}.\".format(\n",
    "    list(functional_unit1.keys())[0]['name'],\n",
    "    lca1.score,\n",
    "    bw.methods.get(IPCC_method1).get('unit')\n",
    "    ))"
   ]
  },
  {
   "cell_type": "code",
   "execution_count": 22,
   "id": "55864b1e",
   "metadata": {},
   "outputs": [],
   "source": [
    "np.random.seed(0)\n",
    "mc1 = bw.MonteCarloLCA({raised_bed:1},  ('IPCC 2021', 'climate change', 'global warming potential (GWP100)'))\n",
    "scores1 = [next(mc1) for iteration in range(1000)]"
   ]
  },
  {
   "cell_type": "code",
   "execution_count": 218,
   "id": "7fc50855",
   "metadata": {},
   "outputs": [
    {
     "name": "stdout",
     "output_type": "stream",
     "text": [
      "1.3832350388318093\n"
     ]
    }
   ],
   "source": [
    "lower = np.percentile(scores1, 2.5)\n",
    "b = np.percentile(scores1, 97.5)\n",
    "print(lower)"
   ]
  },
  {
   "cell_type": "code",
   "execution_count": 211,
   "id": "5cbc1653",
   "metadata": {
    "scrolled": true
   },
   "outputs": [
    {
     "data": {
      "text/plain": [
       "(array([ 1.,  0.,  0.,  1.,  1.,  5.,  3.,  2.,  6.,  6.,  7., 15., 19.,\n",
       "        20., 15., 25., 26., 24., 25., 34., 39., 46., 35., 37., 49., 45.,\n",
       "        42., 32., 36., 34., 40., 26., 36., 42., 26., 19., 17., 17., 14.,\n",
       "        17., 11., 11.,  8.,  9., 13.,  9.,  8.,  5.,  6.,  6.,  2.,  2.,\n",
       "         6.,  2.,  1.,  1.,  2.,  1.,  4.,  1.,  1.,  0.,  0.,  2.,  1.,\n",
       "         1.,  1.,  1.,  0.,  0.,  0.,  0.,  0.,  0.,  0.,  0.,  0.,  0.,\n",
       "         0.,  0.,  0.,  0.,  0.,  0.,  0.,  0.,  0.,  0.,  0.,  0.,  0.,\n",
       "         0.,  0.,  0.,  0.,  0.,  0.,  0.,  0.,  1.]),\n",
       " array([1.16771602, 1.18916459, 1.21061316, 1.23206172, 1.25351029,\n",
       "        1.27495886, 1.29640743, 1.317856  , 1.33930457, 1.36075313,\n",
       "        1.3822017 , 1.40365027, 1.42509884, 1.44654741, 1.46799598,\n",
       "        1.48944454, 1.51089311, 1.53234168, 1.55379025, 1.57523882,\n",
       "        1.59668739, 1.61813595, 1.63958452, 1.66103309, 1.68248166,\n",
       "        1.70393023, 1.72537879, 1.74682736, 1.76827593, 1.7897245 ,\n",
       "        1.81117307, 1.83262164, 1.8540702 , 1.87551877, 1.89696734,\n",
       "        1.91841591, 1.93986448, 1.96131305, 1.98276161, 2.00421018,\n",
       "        2.02565875, 2.04710732, 2.06855589, 2.09000446, 2.11145302,\n",
       "        2.13290159, 2.15435016, 2.17579873, 2.1972473 , 2.21869587,\n",
       "        2.24014443, 2.261593  , 2.28304157, 2.30449014, 2.32593871,\n",
       "        2.34738728, 2.36883584, 2.39028441, 2.41173298, 2.43318155,\n",
       "        2.45463012, 2.47607869, 2.49752725, 2.51897582, 2.54042439,\n",
       "        2.56187296, 2.58332153, 2.6047701 , 2.62621866, 2.64766723,\n",
       "        2.6691158 , 2.69056437, 2.71201294, 2.73346151, 2.75491007,\n",
       "        2.77635864, 2.79780721, 2.81925578, 2.84070435, 2.86215292,\n",
       "        2.88360148, 2.90505005, 2.92649862, 2.94794719, 2.96939576,\n",
       "        2.99084433, 3.01229289, 3.03374146, 3.05519003, 3.0766386 ,\n",
       "        3.09808717, 3.11953574, 3.1409843 , 3.16243287, 3.18388144,\n",
       "        3.20533001, 3.22677858, 3.24822715, 3.26967571, 3.29112428,\n",
       "        3.31257285]),\n",
       " <BarContainer object of 100 artists>)"
      ]
     },
     "execution_count": 211,
     "metadata": {},
     "output_type": "execute_result"
    },
    {
     "data": {
      "image/png": "[encoded data removed]",
      "text/plain": [
       "<Figure size 640x480 with 1 Axes>"
      ]
     },
     "metadata": {},
     "output_type": "display_data"
    }
   ],
   "source": [
    "plt.hist(scores1, bins=100)"
   ]
  },
  {
   "cell_type": "markdown",
   "id": "de5b49d9",
   "metadata": {},
   "source": [
    "### Activity 1 Data Record"
   ]
  },
  {
   "cell_type": "code",
   "execution_count": 98,
   "id": "8853335c",
   "metadata": {},
   "outputs": [],
   "source": [
    "import pandas as pd"
   ]
  },
  {
   "cell_type": "code",
   "execution_count": 99,
   "id": "825a6a31",
   "metadata": {},
   "outputs": [],
   "source": [
    "# Put the Monte Carlo result in a dataframe\n",
    "df = pd.DataFrame({'raised_bed_MC': scores1})"
   ]
  },
  {
   "cell_type": "code",
   "execution_count": 100,
   "id": "62e4cb9f",
   "metadata": {},
   "outputs": [],
   "source": [
    "# Save in Excel\n",
    "with pd.ExcelWriter('output2.xlsx') as writer:\n",
    "    df.to_excel(writer, index=False, sheet_name='Sheet1')"
   ]
  },
  {
   "cell_type": "markdown",
   "id": "52f8ed8d",
   "metadata": {},
   "source": [
    "## Activity 2: Ausxiliary equipment"
   ]
  },
  {
   "cell_type": "code",
   "execution_count": 3,
   "id": "23d97af0",
   "metadata": {},
   "outputs": [],
   "source": [
    "# Select the ecoinvent database\n",
    "eidb = bw.Database('ecoinvent 3.6_cut-off_ecoSpold02')"
   ]
  },
  {
   "cell_type": "code",
   "execution_count": 89,
   "id": "568404b8",
   "metadata": {},
   "outputs": [
    {
     "name": "stdout",
     "output_type": "stream",
     "text": [
      "'molasses, from sugar beet, to generic market for energy feed' (kilogram, GLO, None)\n",
      "999f67acb4d3d1056460eb33b1a55daa\n"
     ]
    }
   ],
   "source": [
    "for act in [act for act in eidb if 'molasses, from sugar beet, to generic market for energy feed' in act['name'] and 'kilogram' in act['unit'] and 'GLO' in act['location']]:\n",
    "    print(act)\n",
    "    print(act['code'])"
   ]
  },
  {
   "cell_type": "code",
   "execution_count": 16,
   "id": "9b5b96a4",
   "metadata": {
    "collapsed": true
   },
   "outputs": [
    {
     "name": "stdout",
     "output_type": "stream",
     "text": [
      "'market for transport, freight, lorry 3.5-7.5 metric ton, EURO4' (ton kilometer, RoW, None)\n",
      "7f9d35965ec0576eb5e7e06200e5ad71\n",
      "'market for transport, freight, lorry 3.5-7.5 metric ton, EURO5' (ton kilometer, RoW, None)\n",
      "15e01858e2694ef0f562ed10ab382dd4\n",
      "'transport, freight, lorry 3.5-7.5 metric ton, EURO3' (ton kilometer, RoW, None)\n",
      "8de043af16f4c967c2a3fe2bddc849b6\n",
      "'transport, freight, lorry 3.5-7.5 metric ton, EURO5' (ton kilometer, RoW, None)\n",
      "b991399fc4d14ca8bd53b9474622d5c9\n",
      "'market for transport, freight, lorry 3.5-7.5 metric ton, EURO3' (ton kilometer, RoW, None)\n",
      "54a0d2bc8693feacb024193c912e1153\n",
      "'market for transport, freight, lorry 3.5-7.5 metric ton, EURO6' (ton kilometer, RoW, None)\n",
      "76b417d1d52af0fcb7820d8b2fa7f800\n",
      "'transport, freight, lorry 3.5-7.5 metric ton, EURO4' (ton kilometer, RoW, None)\n",
      "54f4cdbb2a63a58b567a6e148e76b000\n",
      "'transport, freight, lorry 3.5-7.5 metric ton, EURO6' (ton kilometer, RoW, None)\n",
      "fc2a9e3501d62d5a0ed4c1a7aa4ec170\n"
     ]
    }
   ],
   "source": [
    "for act in [act for act in eidb if 'lorry 3.5-7.5 metric ton' in act['name'] and 'RoW' in act['location']]:\n",
    "    print(act)\n",
    "    print(act['code'])"
   ]
  },
  {
   "cell_type": "code",
   "execution_count": 262,
   "id": "ab1f332c",
   "metadata": {},
   "outputs": [],
   "source": [
    "process = [act for act in eidb if 'polyethylene production, low density, granulate' in act['name'] and 'production' in act['name'] and 'RER' in act['location']][1]\n",
    "process.as_dict()"
   ]
  },
  {
   "cell_type": "code",
   "execution_count": 21,
   "id": "8d0e46da",
   "metadata": {
    "collapsed": true
   },
   "outputs": [
    {
     "data": {
      "text/plain": [
       "{'comment': 'High-pressure polymerisation is carried out at pressures of 1500 to 3500 bar and temperatures of about 200°C. Under those conditions, oxygen or peroxides work as initiators to start the radical polymerisation process. The reaction may take place either in an autoclave or a tubular reactor. The polymerisation is an exothermic reaction. The ethylene gas is used as a heat sink for the resulting heat, which means that the ethylene gas cannot be to-tally converted to polymer. The unreacted gas is directly recycled back into the process and combined with fresh ethylene. Furthermore, the heat of the exothermic reaction can be recuperated to generate low pressure steam.\\nThe initiator concentrations usually vary between 0.1 and 0.5 wt.-%. Decomposed metal alkyl residues of the initiator remain in the product and sometimes have an influence on end-use properties. Dissociation products of the radical initiator are removed from the polymer or built in.\\n\\nAfter the reaction phase, most of the residual (unreacted) monomers (which are mostly present as gases) are separated from the polymer and are either recycled back into the process or flared of. Depending on the purity of the separated monomers, the gas can either be fed directly back into the production line or the monomers are returned to a purification unit. To limit the accumulation of impurities in the process, usually a small side-stream (purge) of the unreacted gas is sent back to the cracker or to a dedicated purification unit. After polymerisation, the polymer is usually fed di-rectly into a hot melt extruder, where additives can be added to the melted polymer if required. The polymer is then pelletised in an underwater pelletiser. The pelletised product is dried, blended where required and degassed.\\nLDPE is produced through high-pressure polymerisation. As typical initiators to start the polymerisation process, organic peroxides and oxygen are used. Furthermore, polar modifiers (aldehydes, ketones, or alcohols) or aliphatic hydrocarbons are fed into the monomer stream to control the molecular weight distribution.\\nThe dataset represents the production mix of commercial LDPE production technologies: high pressure polymerisation using oxygen and/or organic peroxides as initiator\\nGeography:  EU27 including Norway and Switzerland\\nTechnology:  Coverage of production capacity in Europe: 72%\\nTime period:  Data was collected for the year 2011, processed in 2013 and published in 2014',\n",
       " 'classifications': [('ISIC rev.4 ecoinvent',\n",
       "   '2013:Manufacture of plastics and synthetic rubber in primary forms'),\n",
       "  ('CPC', '34710: Polymers of ethylene, in primary forms')],\n",
       " 'activity type': 'ordinary transforming activity',\n",
       " 'activity': 'db1fc0bf-8008-426b-b695-b9f2dd936a4c',\n",
       " 'database': 'ecoinvent 3.6_cut-off_ecoSpold02',\n",
       " 'filename': 'db1fc0bf-8008-426b-b695-b9f2dd936a4c_947a85fa-114e-4d9e-b36c-3293e48ea5ae.spold',\n",
       " 'location': 'RER',\n",
       " 'name': 'polyethylene production, low density, granulate',\n",
       " 'synonyms': ['LDPE'],\n",
       " 'parameters': [],\n",
       " 'authors': {'data entry': {'name': 'Thomas Froehlich',\n",
       "   'email': 'thomas.froehlich@ifeu.de'},\n",
       "  'data generator': {'name': 'Thomas Fröhlich',\n",
       "   'email': 'thomas.froehlich@ifeu.de'}},\n",
       " 'type': 'process',\n",
       " 'reference product': 'polyethylene, low density, granulate',\n",
       " 'flow': '947a85fa-114e-4d9e-b36c-3293e48ea5ae',\n",
       " 'unit': 'kilogram',\n",
       " 'production amount': 1.0,\n",
       " 'code': 'fbc4181dbdf65ac7a47a28cd3e6f86ac'}"
      ]
     },
     "execution_count": 21,
     "metadata": {},
     "output_type": "execute_result"
    }
   ],
   "source": [
    "# Check select activity details\n",
    "a = eidb.get('fbc4181dbdf65ac7a47a28cd3e6f86ac')\n",
    "a.as_dict()\n",
    "#for exchange in a.exchanges():\n",
    "#    print(exchange)"
   ]
  },
  {
   "cell_type": "code",
   "execution_count": 11,
   "id": "b59c0031",
   "metadata": {},
   "outputs": [],
   "source": [
    "# auxiliary equipment\n",
    "# create a new activity\n",
    "auxiliary_equipment = eidb.new_activity(code = 'auxiliary_equipment', name = \"auxiliary_equipment\", unit = \"unit\")\n",
    "auxiliary_equipment.save()\n",
    "\n",
    "# Search for items in ecoinvent, use the first result (you might want to ensure that you've got the right one)\n",
    "# Create exchanges for each item\n",
    "# Save changes\n",
    "support_system_steel = [act for act in eidb if 'steel production, electric, chromium steel 18/8' in act['name'] and 'RER' in act['location']][0] \n",
    "# steel production, electric, chromium steel 18/8' (kilogram, RER, None)\n",
    "auxiliary_equipment.new_exchange(input=support_system_steel.key, amount=0.036364, type='technosphere').save()\n",
    "auxiliary_equipment.save()\n",
    "\n",
    "support_system_pvc = [act for act in eidb if 'polyvinylchloride production, bulk polymerisation' in act['name'] and 'RER' in act['location']][0] \n",
    "# polyvinylchloride production, bulk polymerisation' (kilogram, RER, None)\n",
    "auxiliary_equipment.new_exchange(input=support_system_pvc.key, amount=0.036364, type='technosphere').save()\n",
    "auxiliary_equipment.save()\n",
    "\n",
    "netting = [act for act in eidb if 'polyethylene' in act['name'] and 'fleece' in act['name'] and 'RER' in act['location']][0] \n",
    "# fleece production, polyethylene' (kilogram, RER, None)\n",
    "auxiliary_equipment.new_exchange(input=netting.key, amount=0.078, type='technosphere').save()\n",
    "auxiliary_equipment.save()\n",
    "\n",
    "irrigation_pipe = [act for act in eidb if 'polypropylene' in act['name'] and 'production' in act['name'] and 'RER' in act['location']][0] \n",
    "# polypropylene production, granulate' (kilogram, RER, None)\n",
    "auxiliary_equipment.new_exchange(input=irrigation_pipe.key, amount=0.0018, type='technosphere').save()\n",
    "auxiliary_equipment.save()\n",
    "\n",
    "drip_head = eidb.get('fbc4181dbdf65ac7a47a28cd3e6f86ac')\n",
    "# 'polyethylene production, low density, granulate' (kilogram, RER, None) -- 2 identical, select by unique code\n",
    "auxiliary_equipment.new_exchange(input=drip_head.key, amount=0.0007, type='technosphere').save()\n",
    "auxiliary_equipment.save()\n",
    "\n",
    "transport = [act for act in eidb if 'lorry 3.5-7.5 metric ton, EURO6' in act['name'] and 'market' not in act['name'] and 'RoW' in act['location']][0]\n",
    "# 'transport, freight, lorry 3.5-7.5 metric ton, EURO6' (ton kilometer, RoW, None)\n",
    "auxiliary_equipment.new_exchange(input=transport.key, amount=0.000672, type='technosphere').save()\n",
    "auxiliary_equipment.save()\n"
   ]
  },
  {
   "cell_type": "code",
   "execution_count": 10,
   "id": "44e30755",
   "metadata": {},
   "outputs": [],
   "source": [
    "# delete all waste handling activities that were accidentally created\n",
    "for activity in [act for act in eidb if act['name']=='auxiliary_equipment']:\n",
    "    activity.delete()\n",
    "# delete individual raised_bed activity\n",
    "# raised_bed.delete"
   ]
  },
  {
   "cell_type": "code",
   "execution_count": 47,
   "id": "1f24cd2c",
   "metadata": {},
   "outputs": [
    {
     "data": {
      "text/plain": [
       "['auxiliary_equipment' (unit, GLO, None)]"
      ]
     },
     "execution_count": 47,
     "metadata": {},
     "output_type": "execute_result"
    }
   ],
   "source": [
    "# get general information on the new activity\n",
    "eidb.search('auxiliary_equipment')"
   ]
  },
  {
   "cell_type": "code",
   "execution_count": 23,
   "id": "1f3327a9",
   "metadata": {
    "scrolled": true
   },
   "outputs": [
    {
     "name": "stdout",
     "output_type": "stream",
     "text": [
      "Exchange: 0.036364 kilogram 'steel production, electric, chromium steel 18/8' (kilogram, RER, None) to 'auxiliary_equipment' (unit, GLO, None)>\n",
      "Exchange: 0.036364 kilogram 'polyvinylchloride production, bulk polymerisation' (kilogram, RER, None) to 'auxiliary_equipment' (unit, GLO, None)>\n",
      "Exchange: 0.078 kilogram 'fleece production, polyethylene' (kilogram, RER, None) to 'auxiliary_equipment' (unit, GLO, None)>\n",
      "Exchange: 0.0018 kilogram 'polypropylene production, granulate' (kilogram, RER, None) to 'auxiliary_equipment' (unit, GLO, None)>\n",
      "Exchange: 0.0007 kilogram 'polyethylene production, low density, granulate' (kilogram, RER, None) to 'auxiliary_equipment' (unit, GLO, None)>\n",
      "Exchange: 0.000672 ton kilometer 'transport, freight, lorry 3.5-7.5 metric ton, EURO6' (ton kilometer, RoW, None) to 'auxiliary_equipment' (unit, GLO, None)>\n"
     ]
    }
   ],
   "source": [
    "# Have a look at all exchanges of the selected activity\n",
    "for exc in auxiliary_equipment.exchanges():\n",
    "    print(exc)"
   ]
  },
  {
   "cell_type": "markdown",
   "id": "e2ea9ddc",
   "metadata": {},
   "source": [
    "### Activity 2 LCA and Monte Carlo"
   ]
  },
  {
   "cell_type": "code",
   "execution_count": 39,
   "id": "22d1a16f",
   "metadata": {},
   "outputs": [],
   "source": [
    "functional_unit2 = {auxiliary_equipment:1}"
   ]
  },
  {
   "cell_type": "code",
   "execution_count": 40,
   "id": "7490b18f",
   "metadata": {},
   "outputs": [],
   "source": [
    "IPCC_method2 = [m for m in bw.methods if 'IPCC 2021' in str(m) and  'climate change' in str(m) and 'GWP100' in str(m) and not 'no LT' in str(m)][0]"
   ]
  },
  {
   "cell_type": "code",
   "execution_count": 41,
   "id": "2e28ae46",
   "metadata": {},
   "outputs": [],
   "source": [
    "lca2 = bw.LCA(functional_unit2,IPCC_method2)"
   ]
  },
  {
   "cell_type": "code",
   "execution_count": 42,
   "id": "3947a8f7",
   "metadata": {},
   "outputs": [],
   "source": [
    "lca2.lci()\n",
    "lca2.lcia()"
   ]
  },
  {
   "cell_type": "code",
   "execution_count": 43,
   "id": "bb99fccb",
   "metadata": {},
   "outputs": [],
   "source": [
    "mean_score2 = lca2.score"
   ]
  },
  {
   "cell_type": "code",
   "execution_count": 44,
   "id": "62b1cc80",
   "metadata": {},
   "outputs": [
    {
     "name": "stdout",
     "output_type": "stream",
     "text": [
      "The auxiliary_equipment process accounts for 0.474859 kg CO2-Eq.\n"
     ]
    }
   ],
   "source": [
    "print(\"The {} process accounts for {:f} {}.\".format(\n",
    "    list(functional_unit2.keys())[0]['name'],\n",
    "    lca2.score,\n",
    "    bw.methods.get(IPCC_method2).get('unit')\n",
    "    ))"
   ]
  },
  {
   "cell_type": "code",
   "execution_count": 45,
   "id": "ac389938",
   "metadata": {},
   "outputs": [],
   "source": [
    "np.random.seed(12)\n",
    "mc2 = bw.MonteCarloLCA({auxiliary_equipment:1},  ('IPCC 2021', 'climate change', 'global warming potential (GWP100)'))\n",
    "scores2 = [next(mc2) for iteration in range(1000)]"
   ]
  },
  {
   "cell_type": "code",
   "execution_count": 63,
   "id": "7640aff5",
   "metadata": {
    "scrolled": true
   },
   "outputs": [
    {
     "data": {
      "text/plain": [
       "(array([ 2.,  0.,  0.,  3.,  0.,  1.,  3.,  0.,  5.,  2.,  5.,  5.,  6.,\n",
       "        14.,  9., 15., 15., 20., 11., 18., 21., 31., 19., 22., 25., 20.,\n",
       "        23., 21., 27., 33., 28., 39., 31., 28., 28., 29., 33., 35., 19.,\n",
       "        28., 24., 19., 19., 24., 17., 21., 16., 19., 15., 10., 15., 13.,\n",
       "        12.,  5.,  8.,  2., 12.,  7.,  7., 11.,  5.,  7.,  6.,  5.,  2.,\n",
       "         1.,  2.,  2.,  1.,  1.,  3.,  1.,  1.,  3.,  3.,  0.,  0.,  1.,\n",
       "         3.,  0.,  0.,  0.,  0.,  0.,  1.,  0.,  0.,  0.,  0.,  0.,  0.,\n",
       "         0.,  0.,  1.,  0.,  0.,  0.,  0.,  0.,  1.]),\n",
       " array([0.34585098, 0.35120768, 0.35656439, 0.36192109, 0.3672778 ,\n",
       "        0.3726345 , 0.37799121, 0.38334791, 0.38870462, 0.39406132,\n",
       "        0.39941803, 0.40477473, 0.41013144, 0.41548814, 0.42084485,\n",
       "        0.42620155, 0.43155826, 0.43691496, 0.44227167, 0.44762837,\n",
       "        0.45298508, 0.45834178, 0.46369849, 0.46905519, 0.4744119 ,\n",
       "        0.4797686 , 0.48512531, 0.49048201, 0.49583872, 0.50119542,\n",
       "        0.50655213, 0.51190883, 0.51726554, 0.52262224, 0.52797895,\n",
       "        0.53333565, 0.53869236, 0.54404906, 0.54940577, 0.55476247,\n",
       "        0.56011918, 0.56547588, 0.57083259, 0.57618929, 0.581546  ,\n",
       "        0.5869027 , 0.59225941, 0.59761611, 0.60297282, 0.60832952,\n",
       "        0.61368623, 0.61904293, 0.62439964, 0.62975634, 0.63511305,\n",
       "        0.64046975, 0.64582646, 0.65118316, 0.65653986, 0.66189657,\n",
       "        0.66725327, 0.67260998, 0.67796668, 0.68332339, 0.68868009,\n",
       "        0.6940368 , 0.6993935 , 0.70475021, 0.71010691, 0.71546362,\n",
       "        0.72082032, 0.72617703, 0.73153373, 0.73689044, 0.74224714,\n",
       "        0.74760385, 0.75296055, 0.75831726, 0.76367396, 0.76903067,\n",
       "        0.77438737, 0.77974408, 0.78510078, 0.79045749, 0.79581419,\n",
       "        0.8011709 , 0.8065276 , 0.81188431, 0.81724101, 0.82259772,\n",
       "        0.82795442, 0.83331113, 0.83866783, 0.84402454, 0.84938124,\n",
       "        0.85473795, 0.86009465, 0.86545136, 0.87080806, 0.87616477,\n",
       "        0.88152147]),\n",
       " <BarContainer object of 100 artists>)"
      ]
     },
     "execution_count": 63,
     "metadata": {},
     "output_type": "execute_result"
    },
    {
     "data": {
      "image/png": "[encoded data removed]",
      "text/plain": [
       "<Figure size 640x480 with 1 Axes>"
      ]
     },
     "metadata": {},
     "output_type": "display_data"
    }
   ],
   "source": [
    "plt.hist(scores2, bins=100)"
   ]
  },
  {
   "cell_type": "markdown",
   "id": "6eb5f56c",
   "metadata": {},
   "source": [
    "### Activity 2 Data Record"
   ]
  },
  {
   "cell_type": "code",
   "execution_count": 101,
   "id": "de9db8a1",
   "metadata": {},
   "outputs": [],
   "source": [
    "import pandas as pd"
   ]
  },
  {
   "cell_type": "code",
   "execution_count": 102,
   "id": "e5e1f4f8",
   "metadata": {},
   "outputs": [],
   "source": [
    "# Access the existing data frame\n",
    "df_existing2 = pd.read_excel('output2.xlsx')\n",
    "# Put the Monte Carlo result in a dataframe\n",
    "df_new2 = pd.DataFrame({'auxiliary_equipment_MC': scores2})\n",
    "# Append new data as a new column to the existing DataFrame\n",
    "df_updated2 = pd.concat([df_existing2, df_new2], axis=1)"
   ]
  },
  {
   "cell_type": "code",
   "execution_count": 103,
   "id": "aaf9f6c4",
   "metadata": {},
   "outputs": [],
   "source": [
    "# Save in Excel\n",
    "with pd.ExcelWriter('output2.xlsx') as writer:\n",
    "    df_updated2.to_excel(writer, index=False, sheet_name='Sheet1')"
   ]
  },
  {
   "cell_type": "markdown",
   "id": "8534c7da",
   "metadata": {},
   "source": [
    "## Activity 3: Growing Medium"
   ]
  },
  {
   "cell_type": "code",
   "execution_count": null,
   "id": "86ed677d",
   "metadata": {},
   "outputs": [],
   "source": [
    "# Select the ecoinvent database\n",
    "eidb = bw.Database('ecoinvent 3.6_cut-off_ecoSpold02')"
   ]
  },
  {
   "cell_type": "code",
   "execution_count": 20,
   "id": "5f5e77de",
   "metadata": {},
   "outputs": [
    {
     "name": "stdout",
     "output_type": "stream",
     "text": [
      "'treatment of biowaste, industrial composting' (kilogram, RoW, None)\n",
      "a699b572e6fc8b34f9f4f19e388ada69\n",
      "'treatment of biowaste, industrial composting' (kilogram, RoW, None)\n",
      "e6db7a4717ee1889bf40851a49c702b3\n"
     ]
    }
   ],
   "source": [
    "for act in [act for act in eidb if 'treatment of biowaste, industrial composting' in act['name'] and 'RoW' in act['location']]:\n",
    "    print(act)\n",
    "    print(act['code'])"
   ]
  },
  {
   "cell_type": "code",
   "execution_count": 25,
   "id": "9bf5cbed",
   "metadata": {},
   "outputs": [
    {
     "data": {
      "text/plain": [
       "{'comment': 'The proposed method to account for humus C is based on the following methodology:\\nDifferent substrates have different capacities of organic matter to form humus (see following table)\\n[This dataset is meant to replace the following datasets:\\n - treatment of biowaste, composting, GLO, 1999 - 1999 (220f3802-d00e-4447-95e5-c0f5b164db4a)]\\nMore detailed descriptions and background information can be found in the corresponding report.\\nThe organic carbon content of soil (Corg) is normally used to declare the amount of organic matter of soil. The content of humus is calculated from Corg, using the assumption that humus contains 58% carbon on average.\\nThe amount of humus is therefore calculated out of Corg as follows: \\nhumus content [%] or [mg g-1] = (Ctotal – Cinorg) / 0.58\\nThe composting treatment is a process of controlled decomposition and humification of biodegradable materials under managed conditions, which is aerobic and which allows the development of temperatures suitable for mesophilic and thermophilic bacteria as a result of biologically produced heat.\\nIf an allocation approach with substution is applied, the corresponding amounts of substitutes are calculated based on their capacity to build up humus. The conversion is based on the humus factors, which are listed in the next table:\\n\\nBiodegradable garden and park waste, food and kitchen waste from households, restaurants, caterers and retail premises, comparable waste from food processing plants, it also includes forestry or agricultural residues and manure. It does not include sewage sludge, or other biodegradable waste such as natural textiles, paper or processed wood. \\nBiowaste in the current process is defined as follows: \\nThe relevant resulting emissions to air are summarised in the following table:\\nThe output compost uses a special property \"humus equivalents\" which depicts the amount of organic carbon, which would lead to a buildup of humus.\\nThe heavy metal contents of compost are presented in the following table:\\nPrevious studies in the corresponding field showed that the evaluation of heavy metal emissions into soil with various single score methods such as Eco-Indicator 99 and ecological scarcity have a significant impact on the overall results. It is therefore advised to take special care when evaluating these systems, especially to avoid potential double counting.\\nThe resulting output \"compost\" inventory refers to 1 kg fresh weight of biogenic waste. The process modelled describes industrial composting. Compost is defined as humified solid particulate material that is the result of composting, which has been sanitised and stabilised, and which confers beneficial effects when it is added to soil It is used as growing media constituent, or used in another way in conjunction with plants.\\n\\nThe contents of compost are as follows:\\nImage: https://db3.ecoinvent.org/images/623d4a32-52ed-4380-88a1-09ad6d64f7c9\\nImage: https://db3.ecoinvent.org/images/aa15745b-7452-4da2-a2a5-f52b85a6d3ab\\nImage: https://db3.ecoinvent.org/images/f1cb74ba-c87b-421e-acda-cb1ac9c157b9\\nImage: https://db3.ecoinvent.org/images/d61661a5-50d0-43f7-a9f9-1af330f7dbde\\nImage: https://db3.ecoinvent.org/images/53ff6b9b-99a6-40e2-ad68-7e11f1ab4935\\nGeography:  Values refer to the situation in Switzerland.',\n",
       " 'classifications': [('EcoSpold01Categories',\n",
       "   'agricultural means of production/organic fertiliser'),\n",
       "  ('ISIC rev.4 ecoinvent',\n",
       "   '3821:Treatment and disposal of non-hazardous waste'),\n",
       "  ('CPC', '391: Wastes from food and tobacco industry')],\n",
       " 'activity type': 'ordinary transforming activity',\n",
       " 'activity': 'b0b1473b-57e0-4212-ae70-b1290d910818',\n",
       " 'database': 'ecoinvent 3.6_cut-off_ecoSpold02',\n",
       " 'filename': 'b0b1473b-57e0-4212-ae70-b1290d910818_f43c95e7-40e6-4ba9-9ab1-d1bc10d3fa79.spold',\n",
       " 'location': 'RoW',\n",
       " 'name': 'treatment of biowaste, industrial composting',\n",
       " 'synonyms': [],\n",
       " 'parameters': [],\n",
       " 'authors': {'data entry': {'name': 'Mischa Zschokke-Gohl',\n",
       "   'email': 'm.zschokke@carbotech.ch'},\n",
       "  'data generator': {'name': 'Mischa Zschokke-Gohl',\n",
       "   'email': 'm.zschokke@carbotech.ch'}},\n",
       " 'type': 'process',\n",
       " 'reference product': 'compost',\n",
       " 'flow': 'f43c95e7-40e6-4ba9-9ab1-d1bc10d3fa79',\n",
       " 'unit': 'kilogram',\n",
       " 'production amount': 1.0,\n",
       " 'code': 'e6db7a4717ee1889bf40851a49c702b3'}"
      ]
     },
     "execution_count": 25,
     "metadata": {},
     "output_type": "execute_result"
    }
   ],
   "source": [
    "# Check select activity details\n",
    "a = eidb.get('e6db7a4717ee1889bf40851a49c702b3')\n",
    "a.as_dict()"
   ]
  },
  {
   "cell_type": "code",
   "execution_count": 56,
   "id": "70c67db3",
   "metadata": {},
   "outputs": [
    {
     "name": "stdout",
     "output_type": "stream",
     "text": [
      "{'uncertainty type': 0, 'loc': -1.0}\n",
      "{'uncertainty type': 2, 'loc': -18.720435397638415, 'scale': 0.5596427431853289}\n",
      "{'uncertainty type': 2, 'loc': -7.951559331155252, 'scale': 0.12884098726725127}\n",
      "{'uncertainty type': 2, 'loc': -8.97849124719841, 'scale': 0.11489125293076058}\n",
      "{'uncertainty type': 2, 'loc': -10.719249778597819, 'scale': 0.11489125293076058}\n",
      "{'uncertainty type': 2, 'loc': -7.597763498055371, 'scale': 0.11489125293076058}\n",
      "{'uncertainty type': 2, 'loc': -6.320934874295903, 'scale': 0.11489125293076058}\n",
      "{'uncertainty type': 2, 'loc': -7.919288375762678, 'scale': 0.11489125293076058}\n",
      "{'uncertainty type': 2, 'loc': -5.203077452407179, 'scale': 0.11489125293076058}\n",
      "{'uncertainty type': 2, 'loc': -7.005905338005954, 'scale': 0.11489125293076058}\n",
      "{'uncertainty type': 2, 'loc': -5.959124764343722, 'scale': 0.11489125293076058}\n",
      "{'uncertainty type': 2, 'loc': -17.539558499769015, 'scale': 0.11489125293076058}\n",
      "{'uncertainty type': 2, 'loc': -18.91798405236243, 'scale': 0.11489125293076058}\n",
      "{'uncertainty type': 2, 'loc': -13.485411167754403, 'scale': 0.11489125293076058}\n",
      "{'uncertainty type': 2, 'loc': -18.560967412294023, 'scale': 0.11489125293076058}\n",
      "{'uncertainty type': 2, 'loc': -10.978188913240947, 'scale': 0.11489125293076058}\n",
      "{'uncertainty type': 0, 'loc': -7.27633744205336e-05}\n",
      "{'uncertainty type': 0, 'loc': -0.000152236625579466}\n",
      "{'uncertainty type': 2, 'loc': -6.907755278982137, 'scale': 0.15231546211727817}\n",
      "{'uncertainty type': 0, 'loc': 0.000125}\n",
      "{'uncertainty type': 2, 'loc': -7.264430222920869, 'scale': 0.15231546211727817}\n",
      "{'uncertainty type': 2, 'loc': -10.596634733096073, 'scale': 0.20784609690826528}\n",
      "{'uncertainty type': 2, 'loc': -1.5141277326297755, 'scale': 0.11489125293076058}\n",
      "{'uncertainty type': 2, 'loc': -7.550209345226564, 'scale': 0.2306512518934159}\n"
     ]
    }
   ],
   "source": [
    "a = eidb.get('a699b572e6fc8b34f9f4f19e388ada69')\n",
    "for exchange in a.exchanges():\n",
    "    print(exchange.uncertainty)"
   ]
  },
  {
   "cell_type": "code",
   "execution_count": 14,
   "id": "08f1325a",
   "metadata": {},
   "outputs": [],
   "source": [
    "# growing medium\n",
    "# create a new activity\n",
    "growing_medium = eidb.new_activity(code = 'growing_medium', name = \"growing_medium\", unit = \"unit\")\n",
    "growing_medium.save()\n",
    "\n",
    "# Search for items in ecoinvent, use the first result (you might want to ensure that you've got the right one)\n",
    "# Create exchanges for each item\n",
    "# Save changes\n",
    "wood_chips = [act for act in eidb if 'wood chips production, hardwood' in act['name'] and 'RoW' in act['location']][0] \n",
    "# wood chips production, hardwood, at sawmill' (kilogram, RoW, None)\n",
    "growing_medium.new_exchange(input=wood_chips.key, amount=1.4, type='technosphere').save()\n",
    "growing_medium.save()\n",
    "\n",
    "substrate = eidb.get('a699b572e6fc8b34f9f4f19e388ada69')\n",
    "# treatment of biowaste, industrial composting' (kilogram, RoW, None) -- 2 identical, select by unique code\n",
    "growing_medium.new_exchange(input=substrate.key, amount=14.44, type='technosphere').save()\n",
    "growing_medium.save()\n",
    "\n",
    "substrate_avoided = eidb.get('e6db7a4717ee1889bf40851a49c702b3')\n",
    "# treatment of biowaste, industrial composting' (kilogram, RoW, None) -- 2 identical, select by unique code, reference product is compost\n",
    "growing_medium.new_exchange(input=substrate_avoided.key, amount=-0.46, type='technosphere').save()\n",
    "growing_medium.save()\n",
    "\n",
    "transport = [act for act in eidb if 'lorry 3.5-7.5 metric ton, EURO6' in act['name'] and 'market' not in act['name'] and 'RoW' in act['location']][0]\n",
    "# 'transport, freight, lorry 3.5-7.5 metric ton, EURO6' (ton kilometer, RoW, None)\n",
    "growing_medium.new_exchange(input=transport.key, amount=0.1188, type='technosphere').save()\n",
    "growing_medium.save()\n",
    "    "
   ]
  },
  {
   "cell_type": "code",
   "execution_count": 13,
   "id": "11e8772b",
   "metadata": {},
   "outputs": [
    {
     "name": "stdout",
     "output_type": "stream",
     "text": [
      "Exchange: 7.41e-09 unit 'market for composting facility, open' (unit, GLO, None) to 'treatment of biowaste, industrial composting' (kilogram, RoW, None)>\n",
      "Exchange: 0.000352112676056338 hour 'market for machine operation, diesel, >= 74.57 kW, low load factor' (hour, GLO, None) to 'treatment of biowaste, industrial composting' (kilogram, RoW, None)>\n",
      "Exchange: 0.000126092947146191 kilowatt hour 'market for electricity, low voltage' (kilowatt hour, AU, None) to 'treatment of biowaste, industrial composting' (kilogram, RoW, None)>\n",
      "Exchange: 2.21151032340819e-05 kilowatt hour 'market for electricity, low voltage' (kilowatt hour, NZ, None) to 'treatment of biowaste, industrial composting' (kilogram, RoW, None)>\n",
      "Exchange: 0.000501571946592553 kilowatt hour 'market for electricity, low voltage' (kilowatt hour, RU, None) to 'treatment of biowaste, industrial composting' (kilogram, RoW, None)>\n",
      "Exchange: 0.00179826157163375 kilowatt hour 'market group for electricity, low voltage' (kilowatt hour, Europe without Switzerland, None) to 'treatment of biowaste, industrial composting' (kilogram, RoW, None)>\n",
      "Exchange: 0.000363661024435426 kilowatt hour 'market group for electricity, low voltage' (kilowatt hour, RAF, None) to 'treatment of biowaste, industrial composting' (kilogram, RoW, None)>\n",
      "Exchange: 0.00549961355242809 kilowatt hour 'market group for electricity, low voltage' (kilowatt hour, RAS, None) to 'treatment of biowaste, industrial composting' (kilogram, RoW, None)>\n",
      "Exchange: 0.000906512863111797 kilowatt hour 'market group for electricity, low voltage' (kilowatt hour, RLA, None) to 'treatment of biowaste, industrial composting' (kilogram, RoW, None)>\n",
      "Exchange: 0.00258217099141811 kilowatt hour 'market group for electricity, low voltage' (kilowatt hour, RNA, None) to 'treatment of biowaste, industrial composting' (kilogram, RoW, None)>\n",
      "Exchange: -2.41360684333959e-08 kilogram 'market for municipal solid waste' (kilogram, CA-QC, None) to 'treatment of biowaste, industrial composting' (kilogram, RoW, None)>\n",
      "Exchange: -6.08168493215087e-09 kilogram 'market for municipal solid waste' (kilogram, CY, None) to 'treatment of biowaste, industrial composting' (kilogram, RoW, None)>\n",
      "Exchange: -1.3911063839485e-06 kilogram 'market group for municipal solid waste' (kilogram, Europe without Switzerland, None) to 'treatment of biowaste, industrial composting' (kilogram, RoW, None)>\n",
      "Exchange: -8.69109053633125e-09 kilogram 'market for municipal solid waste' (kilogram, IN, None) to 'treatment of biowaste, industrial composting' (kilogram, RoW, None)>\n",
      "Exchange: -1.70699847721496e-05 kilogram 'market for municipal solid waste' (kilogram, RoW, None) to 'treatment of biowaste, industrial composting' (kilogram, RoW, None)>\n",
      "Exchange: -7.27633744205336e-05 cubic meter 'market for wastewater, average' (cubic meter, Europe without Switzerland, None) to 'treatment of biowaste, industrial composting' (kilogram, RoW, None)>\n",
      "Exchange: -0.000152236625579466 cubic meter 'market for wastewater, average' (cubic meter, RoW, None) to 'treatment of biowaste, industrial composting' (kilogram, RoW, None)>\n"
     ]
    }
   ],
   "source": [
    "# Check details of \"treatment of biowaste, industrial composting' (kilogram, RoW, None)\"\n",
    "substrate = eidb.get('a699b572e6fc8b34f9f4f19e388ada69')\n",
    "inputs = substrate.technosphere()\n",
    "for exchange in inputs:\n",
    "    print(exchange)"
   ]
  },
  {
   "cell_type": "code",
   "execution_count": 14,
   "id": "7633d413",
   "metadata": {},
   "outputs": [
    {
     "name": "stdout",
     "output_type": "stream",
     "text": [
      "Exchange: 0.001 kilogram 'Methane, non-fossil' (kilogram, None, ('air', 'urban air close to ground')) to 'treatment of biowaste, industrial composting' (kilogram, RoW, None)>\n",
      "Exchange: 0.000125 cubic meter 'Water' (cubic meter, None, ('air',)) to 'treatment of biowaste, industrial composting' (kilogram, RoW, None)>\n",
      "Exchange: 0.0007 kilogram 'Ammonia' (kilogram, None, ('air', 'urban air close to ground')) to 'treatment of biowaste, industrial composting' (kilogram, RoW, None)>\n",
      "Exchange: 2.5e-05 kilogram 'Dinitrogen monoxide' (kilogram, None, ('air', 'urban air close to ground')) to 'treatment of biowaste, industrial composting' (kilogram, RoW, None)>\n",
      "Exchange: 0.22 kilogram 'Carbon dioxide, non-fossil' (kilogram, None, ('air', 'urban air close to ground')) to 'treatment of biowaste, industrial composting' (kilogram, RoW, None)>\n",
      "Exchange: 0.000526 kilogram 'Hydrogen sulfide' (kilogram, None, ('air', 'urban air close to ground')) to 'treatment of biowaste, industrial composting' (kilogram, RoW, None)>\n"
     ]
    }
   ],
   "source": [
    "outputs = substrate.biosphere()\n",
    "for exchange in outputs:\n",
    "    print(exchange)"
   ]
  },
  {
   "cell_type": "code",
   "execution_count": 13,
   "id": "435cdc1c",
   "metadata": {},
   "outputs": [],
   "source": [
    "# delete all waste handling activities that were accidentally created\n",
    "for activity in [act for act in eidb if act['name']=='growing_medium']:\n",
    "    activity.delete()\n",
    "# delete individual raised_bed activity\n",
    "# raised_bed.delete"
   ]
  },
  {
   "cell_type": "code",
   "execution_count": 4,
   "id": "09b03caa",
   "metadata": {},
   "outputs": [
    {
     "data": {
      "text/plain": [
       "['growing_medium' (unit, GLO, None)]"
      ]
     },
     "execution_count": 4,
     "metadata": {},
     "output_type": "execute_result"
    }
   ],
   "source": [
    "# get general information on the new activity\n",
    "eidb.search('growing_medium')"
   ]
  },
  {
   "cell_type": "code",
   "execution_count": 46,
   "id": "4ccd989e",
   "metadata": {
    "scrolled": true
   },
   "outputs": [
    {
     "name": "stdout",
     "output_type": "stream",
     "text": [
      "Exchange: 1.4 kilogram 'wood chips production, hardwood, at sawmill' (kilogram, RoW, None) to 'growing_medium' (unit, GLO, None)>\n",
      "Exchange: 14.44 kilogram 'treatment of biowaste, industrial composting' (kilogram, RoW, None) to 'growing_medium' (unit, GLO, None)>\n",
      "Exchange: -0.46 kilogram 'treatment of biowaste, industrial composting' (kilogram, RoW, None) to 'growing_medium' (unit, GLO, None)>\n",
      "Exchange: 0.1188 ton kilometer 'transport, freight, lorry 3.5-7.5 metric ton, EURO6' (ton kilometer, RoW, None) to 'growing_medium' (unit, GLO, None)>\n"
     ]
    }
   ],
   "source": [
    "# Have a look at all exchanges of the selected activity\n",
    "for exc in growing_medium.exchanges():\n",
    "    print(exc)"
   ]
  },
  {
   "cell_type": "markdown",
   "id": "5fbd4eac",
   "metadata": {},
   "source": [
    "### Activity 3 LCA and Monte Carlo"
   ]
  },
  {
   "cell_type": "code",
   "execution_count": 47,
   "id": "160cd735",
   "metadata": {},
   "outputs": [],
   "source": [
    "functional_unit3 = {growing_medium:1}"
   ]
  },
  {
   "cell_type": "code",
   "execution_count": 48,
   "id": "3c90fca5",
   "metadata": {},
   "outputs": [],
   "source": [
    "IPCC_method3 = [m for m in bw.methods if 'IPCC 2021' in str(m) and  'climate change' in str(m) and 'GWP100' in str(m) and not 'no LT' in str(m)][0]"
   ]
  },
  {
   "cell_type": "code",
   "execution_count": 49,
   "id": "8e292edf",
   "metadata": {},
   "outputs": [],
   "source": [
    "lca3 = bw.LCA(functional_unit3,IPCC_method3)"
   ]
  },
  {
   "cell_type": "code",
   "execution_count": 50,
   "id": "0c7c0ed4",
   "metadata": {},
   "outputs": [],
   "source": [
    "lca3.lci()\n",
    "lca3.lcia()"
   ]
  },
  {
   "cell_type": "code",
   "execution_count": 51,
   "id": "d0fe39c1",
   "metadata": {},
   "outputs": [],
   "source": [
    "mean_score3 = lca3.score"
   ]
  },
  {
   "cell_type": "code",
   "execution_count": 52,
   "id": "c04ec134",
   "metadata": {},
   "outputs": [
    {
     "name": "stdout",
     "output_type": "stream",
     "text": [
      "The growing_medium process accounts for -0.740750 kg CO2-Eq.\n"
     ]
    }
   ],
   "source": [
    "print(\"The {} process accounts for {:f} {}.\".format(\n",
    "    list(functional_unit3.keys())[0]['name'],\n",
    "    lca3.score,\n",
    "    bw.methods.get(IPCC_method3).get('unit')\n",
    "    ))"
   ]
  },
  {
   "cell_type": "code",
   "execution_count": 53,
   "id": "e4454db2",
   "metadata": {
    "scrolled": true
   },
   "outputs": [],
   "source": [
    "np.random.seed(123)\n",
    "mc3 = bw.MonteCarloLCA({growing_medium:1},  ('IPCC 2021', 'climate change', 'global warming potential (GWP100)'))\n",
    "scores3 = [next(mc3) for iteration in range(1000)]"
   ]
  },
  {
   "cell_type": "code",
   "execution_count": 89,
   "id": "83f5da88",
   "metadata": {
    "scrolled": true
   },
   "outputs": [
    {
     "data": {
      "text/plain": [
       "(array([ 1.,  0.,  0.,  1.,  0.,  0.,  0.,  0.,  0.,  0.,  0.,  0.,  0.,\n",
       "         0.,  0.,  0.,  0.,  0.,  0.,  2.,  0.,  0.,  0.,  0.,  0.,  0.,\n",
       "         1.,  0.,  0.,  0.,  0.,  0.,  0.,  0.,  0.,  0.,  1.,  0.,  2.,\n",
       "         0.,  1.,  1.,  0.,  2.,  1.,  1.,  2.,  0.,  5.,  2.,  3.,  1.,\n",
       "         5.,  4.,  5.,  8.,  6.,  9.,  5.,  9.,  4., 13., 11., 14., 15.,\n",
       "        21., 19., 17., 24., 17., 37., 26., 37., 40., 38., 28., 43., 41.,\n",
       "        39., 43., 38., 24., 44., 41., 39., 24., 30., 32., 23., 28., 12.,\n",
       "        13.,  9., 12.,  7.,  4.,  4.,  4.,  2.,  5.]),\n",
       " array([-1.56879528, -1.55860995, -1.54842462, -1.53823928, -1.52805395,\n",
       "        -1.51786862, -1.50768328, -1.49749795, -1.48731262, -1.47712729,\n",
       "        -1.46694195, -1.45675662, -1.44657129, -1.43638595, -1.42620062,\n",
       "        -1.41601529, -1.40582995, -1.39564462, -1.38545929, -1.37527395,\n",
       "        -1.36508862, -1.35490329, -1.34471796, -1.33453262, -1.32434729,\n",
       "        -1.31416196, -1.30397662, -1.29379129, -1.28360596, -1.27342062,\n",
       "        -1.26323529, -1.25304996, -1.24286462, -1.23267929, -1.22249396,\n",
       "        -1.21230863, -1.20212329, -1.19193796, -1.18175263, -1.17156729,\n",
       "        -1.16138196, -1.15119663, -1.14101129, -1.13082596, -1.12064063,\n",
       "        -1.11045529, -1.10026996, -1.09008463, -1.0798993 , -1.06971396,\n",
       "        -1.05952863, -1.0493433 , -1.03915796, -1.02897263, -1.0187873 ,\n",
       "        -1.00860196, -0.99841663, -0.9882313 , -0.97804596, -0.96786063,\n",
       "        -0.9576753 , -0.94748997, -0.93730463, -0.9271193 , -0.91693397,\n",
       "        -0.90674863, -0.8965633 , -0.88637797, -0.87619263, -0.8660073 ,\n",
       "        -0.85582197, -0.84563663, -0.8354513 , -0.82526597, -0.81508063,\n",
       "        -0.8048953 , -0.79470997, -0.78452464, -0.7743393 , -0.76415397,\n",
       "        -0.75396864, -0.7437833 , -0.73359797, -0.72341264, -0.7132273 ,\n",
       "        -0.70304197, -0.69285664, -0.6826713 , -0.67248597, -0.66230064,\n",
       "        -0.65211531, -0.64192997, -0.63174464, -0.62155931, -0.61137397,\n",
       "        -0.60118864, -0.59100331, -0.58081797, -0.57063264, -0.56044731,\n",
       "        -0.55026197]),\n",
       " <BarContainer object of 100 artists>)"
      ]
     },
     "execution_count": 89,
     "metadata": {},
     "output_type": "execute_result"
    },
    {
     "data": {
      "image/png": "[encoded data removed]",
      "text/plain": [
       "<Figure size 640x480 with 1 Axes>"
      ]
     },
     "metadata": {},
     "output_type": "display_data"
    }
   ],
   "source": [
    "plt.hist(scores3, bins=100)"
   ]
  },
  {
   "cell_type": "markdown",
   "id": "b1ffc4a6",
   "metadata": {},
   "source": [
    "### Activity 3 Data Record"
   ]
  },
  {
   "cell_type": "code",
   "execution_count": 104,
   "id": "e82c2e3e",
   "metadata": {},
   "outputs": [],
   "source": [
    "import pandas as pd"
   ]
  },
  {
   "cell_type": "code",
   "execution_count": 105,
   "id": "0fcc8537",
   "metadata": {},
   "outputs": [],
   "source": [
    "# Access the existing data frame\n",
    "df_existing3 = pd.read_excel('output2.xlsx')\n",
    "# Put the Monte Carlo result in a dataframe\n",
    "df_new3 = pd.DataFrame({'growing_medium_MC': scores3})\n",
    "# Append new data as a new column to the existing DataFrame\n",
    "df_updated3 = pd.concat([df_existing3, df_new3], axis=1)"
   ]
  },
  {
   "cell_type": "code",
   "execution_count": 106,
   "id": "cbf121b2",
   "metadata": {},
   "outputs": [],
   "source": [
    "# Save in Excel\n",
    "with pd.ExcelWriter('output2.xlsx') as writer:\n",
    "    df_updated3.to_excel(writer, index=False, sheet_name='Sheet1')"
   ]
  },
  {
   "cell_type": "markdown",
   "id": "47bd1337",
   "metadata": {},
   "source": [
    "## Activity 4: Crop Growth"
   ]
  },
  {
   "cell_type": "code",
   "execution_count": null,
   "id": "c9b62895",
   "metadata": {},
   "outputs": [],
   "source": [
    "# Select the ecoinvent database\n",
    "eidb = bw.Database('ecoinvent 3.6_cut-off_ecoSpold02')  "
   ]
  },
  {
   "cell_type": "code",
   "execution_count": 28,
   "id": "1dac5b4a",
   "metadata": {},
   "outputs": [
    {
     "name": "stdout",
     "output_type": "stream",
     "text": [
      "'tap water production, conventional treatment' (kilogram, Europe without Switzerland, None)\n",
      "d6a50b679dcd88daea80e9f6f6d5ef43\n"
     ]
    }
   ],
   "source": [
    "for act in [act for act in eidb if 'tap water production, conventional treatment' in act['name'] and 'Europe without Switzerland' in act['location']]:\n",
    "    print(act)\n",
    "    print(act['code'])"
   ]
  },
  {
   "cell_type": "code",
   "execution_count": null,
   "id": "55b05481",
   "metadata": {},
   "outputs": [],
   "source": [
    "# Check select activity details\n",
    "a = eidb.get('e6db7a4717ee1889bf40851a49c702b3')\n",
    "a.as_dict()"
   ]
  },
  {
   "cell_type": "code",
   "execution_count": null,
   "id": "e6445870",
   "metadata": {},
   "outputs": [],
   "source": [
    "a = eidb.get('a699b572e6fc8b34f9f4f19e388ada69')\n",
    "for exchange in a.exchanges():\n",
    "    print(exchange)"
   ]
  },
  {
   "cell_type": "code",
   "execution_count": 56,
   "id": "60de5eab",
   "metadata": {},
   "outputs": [],
   "source": [
    "# Define the crop growth\n",
    "# create a new activity\n",
    "crop_growth = eidb.new_activity(code = 'crop_growth', name = \"crop_growth\", unit = \"unit\")\n",
    "crop_growth.save()\n",
    "\n",
    "# Search for items in ecoinvent, use the first result (you might want to ensure that you've got the right one)\n",
    "# Create exchanges for each item\n",
    "# Save changes\n",
    "fertiliser_chicken_manure = [act for act in eidb if 'poultry manure, dried, Recycled Content cut-off' in act['name']][0] \n",
    "# poultry manure, dried, Recycled Content cut-off (kilogram, GLO, None)\n",
    "crop_growth.new_exchange(input=fertiliser_chicken_manure.key, amount=0.018182, type='technosphere').save()\n",
    "crop_growth.save()\n",
    "\n",
    "fertiliser_molasses = [act for act in eidb if 'molasses, from sugar beet, to generic market for energy feed' in act['name'] and 'kilogram' in act['unit'] and 'GLO' in act['location']][0] \n",
    "# molasses, from sugar beet, to generic market for energy feed' (kilogram, GLO, None)\n",
    "crop_growth.new_exchange(input=fertiliser_molasses.key, amount=0.338182, type='technosphere').save()\n",
    "crop_growth.save()\n",
    "\n",
    "irrigation = [act for act in eidb if 'tap water production, conventional treatment' in act['name'] and 'Europe without Switzerland' in act['location']][0] \n",
    "# tap water production, conventional treatment' (kilogram, Europe without Switzerland, None)\n",
    "crop_growth.new_exchange(input=irrigation.key, amount=118.8, type='technosphere').save()\n",
    "crop_growth.save()\n",
    "\n",
    "transport = [act for act in eidb if 'lorry 3.5-7.5 metric ton, EURO6' in act['name'] and 'market' not in act['name'] and 'RoW' in act['location']][0] \n",
    "# 'transport, freight, lorry 3.5-7.5 metric ton, EURO6' (ton kilometer, RoW, None)\n",
    "crop_growth.new_exchange(input=transport.key, amount=0.002673, type='technosphere').save()\n",
    "crop_growth.save()\n"
   ]
  },
  {
   "cell_type": "code",
   "execution_count": 55,
   "id": "b874ad6d",
   "metadata": {},
   "outputs": [],
   "source": [
    "# delete all waste handling activities that were accidentally created\n",
    "for activity in [act for act in eidb if act['name']=='crop_growth']:\n",
    "    activity.delete()\n",
    "# delete individual raised_bed activity\n",
    "# raised_bed.delete"
   ]
  },
  {
   "cell_type": "code",
   "execution_count": null,
   "id": "977d0684",
   "metadata": {},
   "outputs": [],
   "source": [
    "# get general information on the new activity\n",
    "eidb.search('crop_growth')"
   ]
  },
  {
   "cell_type": "code",
   "execution_count": 57,
   "id": "2343e714",
   "metadata": {
    "scrolled": true
   },
   "outputs": [
    {
     "name": "stdout",
     "output_type": "stream",
     "text": [
      "Exchange: 0.018182 kilogram 'poultry manure, dried, Recycled Content cut-off' (kilogram, GLO, None) to 'crop_growth' (unit, GLO, None)>\n",
      "Exchange: 0.338182 kilogram 'molasses, from sugar beet, to generic market for energy feed' (kilogram, GLO, None) to 'crop_growth' (unit, GLO, None)>\n",
      "Exchange: 118.8 kilogram 'tap water production, conventional treatment' (kilogram, Europe without Switzerland, None) to 'crop_growth' (unit, GLO, None)>\n",
      "Exchange: 0.002673 ton kilometer 'transport, freight, lorry 3.5-7.5 metric ton, EURO6' (ton kilometer, RoW, None) to 'crop_growth' (unit, GLO, None)>\n"
     ]
    }
   ],
   "source": [
    "# Have a look at all exchanges of the selected activity\n",
    "for exc in crop_growth.exchanges():\n",
    "    print(exc)"
   ]
  },
  {
   "cell_type": "markdown",
   "id": "fc52ce78",
   "metadata": {},
   "source": [
    "### Activity 4 LCA and Monte Carlo"
   ]
  },
  {
   "cell_type": "code",
   "execution_count": 58,
   "id": "eb61321b",
   "metadata": {},
   "outputs": [],
   "source": [
    "functional_unit4 = {crop_growth:1}"
   ]
  },
  {
   "cell_type": "code",
   "execution_count": 59,
   "id": "4b40e50e",
   "metadata": {},
   "outputs": [],
   "source": [
    "IPCC_method4 = [m for m in bw.methods if 'IPCC 2021' in str(m) and  'climate change' in str(m) and 'GWP100' in str(m) and not 'no LT' in str(m)][0]"
   ]
  },
  {
   "cell_type": "code",
   "execution_count": 60,
   "id": "6a3b2cab",
   "metadata": {},
   "outputs": [],
   "source": [
    "lca4 = bw.LCA(functional_unit4,IPCC_method4)"
   ]
  },
  {
   "cell_type": "code",
   "execution_count": 61,
   "id": "624ff211",
   "metadata": {},
   "outputs": [],
   "source": [
    "lca4.lci()\n",
    "lca4.lcia()"
   ]
  },
  {
   "cell_type": "code",
   "execution_count": 62,
   "id": "c18d2076",
   "metadata": {},
   "outputs": [],
   "source": [
    "mean_score4 =lca4.score"
   ]
  },
  {
   "cell_type": "code",
   "execution_count": 63,
   "id": "f5ac2923",
   "metadata": {},
   "outputs": [
    {
     "name": "stdout",
     "output_type": "stream",
     "text": [
      "The crop_growth process accounts for 0.076065 kg CO2-Eq.\n"
     ]
    }
   ],
   "source": [
    "print(\"The {} process accounts for {:f} {}.\".format(\n",
    "    list(functional_unit4.keys())[0]['name'],\n",
    "    lca4.score,\n",
    "    bw.methods.get(IPCC_method4).get('unit')\n",
    "    ))"
   ]
  },
  {
   "cell_type": "code",
   "execution_count": 64,
   "id": "9ead28d0",
   "metadata": {},
   "outputs": [],
   "source": [
    "np.random.seed(1234)\n",
    "mc4 = bw.MonteCarloLCA({crop_growth:1},  ('IPCC 2021', 'climate change', 'global warming potential (GWP100)'))\n",
    "scores4 = [next(mc4) for iteration in range(1000)]"
   ]
  },
  {
   "cell_type": "code",
   "execution_count": 102,
   "id": "ec5612fd",
   "metadata": {
    "scrolled": true
   },
   "outputs": [
    {
     "data": {
      "text/plain": [
       "(array([ 1.,  2.,  1.,  2.,  1.,  2.,  6.,  4.,  7.,  9.,  5., 15.,  8.,\n",
       "        11., 16., 18., 22., 20., 29., 31., 29., 38., 29., 24., 28., 37.,\n",
       "        35., 29., 29., 29., 36., 27., 28., 31., 27., 33., 23., 21., 18.,\n",
       "        17., 21., 13., 15., 17.,  8., 13.,  8., 20., 14.,  6., 10., 12.,\n",
       "        11.,  6., 10.,  4.,  2.,  2.,  3.,  1.,  2.,  1.,  5.,  2.,  6.,\n",
       "         1.,  0.,  2.,  0.,  1.,  0.,  0.,  2.,  1.,  0.,  0.,  0.,  1.,\n",
       "         0.,  1.,  0.,  0.,  0.,  0.,  0.,  0.,  0.,  0.,  0.,  0.,  0.,\n",
       "         0.,  0.,  0.,  0.,  0.,  0.,  0.,  0.,  1.]),\n",
       " array([0.06582866, 0.06646301, 0.06709735, 0.0677317 , 0.06836604,\n",
       "        0.06900038, 0.06963473, 0.07026907, 0.07090342, 0.07153776,\n",
       "        0.0721721 , 0.07280645, 0.07344079, 0.07407514, 0.07470948,\n",
       "        0.07534383, 0.07597817, 0.07661251, 0.07724686, 0.0778812 ,\n",
       "        0.07851555, 0.07914989, 0.07978423, 0.08041858, 0.08105292,\n",
       "        0.08168727, 0.08232161, 0.08295595, 0.0835903 , 0.08422464,\n",
       "        0.08485899, 0.08549333, 0.08612768, 0.08676202, 0.08739636,\n",
       "        0.08803071, 0.08866505, 0.0892994 , 0.08993374, 0.09056808,\n",
       "        0.09120243, 0.09183677, 0.09247112, 0.09310546, 0.0937398 ,\n",
       "        0.09437415, 0.09500849, 0.09564284, 0.09627718, 0.09691153,\n",
       "        0.09754587, 0.09818021, 0.09881456, 0.0994489 , 0.10008325,\n",
       "        0.10071759, 0.10135193, 0.10198628, 0.10262062, 0.10325497,\n",
       "        0.10388931, 0.10452365, 0.105158  , 0.10579234, 0.10642669,\n",
       "        0.10706103, 0.10769538, 0.10832972, 0.10896406, 0.10959841,\n",
       "        0.11023275, 0.1108671 , 0.11150144, 0.11213578, 0.11277013,\n",
       "        0.11340447, 0.11403882, 0.11467316, 0.1153075 , 0.11594185,\n",
       "        0.11657619, 0.11721054, 0.11784488, 0.11847923, 0.11911357,\n",
       "        0.11974791, 0.12038226, 0.1210166 , 0.12165095, 0.12228529,\n",
       "        0.12291963, 0.12355398, 0.12418832, 0.12482267, 0.12545701,\n",
       "        0.12609136, 0.1267257 , 0.12736004, 0.12799439, 0.12862873,\n",
       "        0.12926308]),\n",
       " <BarContainer object of 100 artists>)"
      ]
     },
     "execution_count": 102,
     "metadata": {},
     "output_type": "execute_result"
    },
    {
     "data": {
      "image/png": "[encoded data removed]",
      "text/plain": [
       "<Figure size 640x480 with 1 Axes>"
      ]
     },
     "metadata": {},
     "output_type": "display_data"
    }
   ],
   "source": [
    "plt.hist(scores4, bins=100)"
   ]
  },
  {
   "cell_type": "markdown",
   "id": "b46f90b3",
   "metadata": {},
   "source": [
    "### Activity 4 Data Record"
   ]
  },
  {
   "cell_type": "code",
   "execution_count": 107,
   "id": "27ea6a11",
   "metadata": {},
   "outputs": [],
   "source": [
    "import pandas as pd"
   ]
  },
  {
   "cell_type": "code",
   "execution_count": 108,
   "id": "88ba189f",
   "metadata": {},
   "outputs": [],
   "source": [
    "# Access the existing data frame\n",
    "df_existing4 = pd.read_excel('output2.xlsx')\n",
    "# Put the Monte Carlo result in a dataframe\n",
    "df_new4 = pd.DataFrame({'crop_growth_MC': scores4})\n",
    "# Append new data as a new column to the existing DataFrame\n",
    "df_updated4 = pd.concat([df_existing4, df_new4], axis=1)"
   ]
  },
  {
   "cell_type": "code",
   "execution_count": 109,
   "id": "66eb4365",
   "metadata": {},
   "outputs": [],
   "source": [
    "# Save in Excel\n",
    "with pd.ExcelWriter('output2.xlsx') as writer:\n",
    "    df_updated4.to_excel(writer, index=False, sheet_name='Sheet1')"
   ]
  },
  {
   "cell_type": "markdown",
   "id": "13c6e7a1",
   "metadata": {},
   "source": [
    "## Activity 5: Storage"
   ]
  },
  {
   "cell_type": "code",
   "execution_count": null,
   "id": "0d9ff868",
   "metadata": {},
   "outputs": [],
   "source": [
    "# Select the ecoinvent database\n",
    "eidb = bw.Database('ecoinvent 3.6_cut-off_ecoSpold02')  "
   ]
  },
  {
   "cell_type": "code",
   "execution_count": 29,
   "id": "e9527a84",
   "metadata": {},
   "outputs": [
    {
     "name": "stdout",
     "output_type": "stream",
     "text": [
      "'market for electricity, low voltage' (kilowatt hour, GB, None)\n",
      "d587f48143178aa2f423d4baa1ff1831\n"
     ]
    }
   ],
   "source": [
    "for act in [act for act in eidb if 'electricity, low voltage' in act['name'] and 'GB' in act['location']]:\n",
    "    print(act)\n",
    "    print(act['code'])"
   ]
  },
  {
   "cell_type": "code",
   "execution_count": null,
   "id": "1eba8b6c",
   "metadata": {},
   "outputs": [],
   "source": [
    "# Check select activity details\n",
    "a = eidb.get('e6db7a4717ee1889bf40851a49c702b3')\n",
    "a.as_dict()"
   ]
  },
  {
   "cell_type": "code",
   "execution_count": null,
   "id": "ab723fff",
   "metadata": {},
   "outputs": [],
   "source": [
    "# Check all exchanges of each activity\n",
    "a = eidb.get('a699b572e6fc8b34f9f4f19e388ada69')\n",
    "for exchange in a.exchanges():\n",
    "    print(exchange)"
   ]
  },
  {
   "cell_type": "code",
   "execution_count": 66,
   "id": "16c24115",
   "metadata": {},
   "outputs": [],
   "source": [
    "# Define the crop growth\n",
    "# create a new activity\n",
    "storage_tomato = eidb.new_activity(code = 'storage_tomato', name = \"storage_tomato\", unit = \"unit\")\n",
    "storage_tomato.save()\n",
    "\n",
    "# Search for items in ecoinvent, use the first result (you might want to ensure that you've got the right one)\n",
    "# Create exchanges for each item\n",
    "# Save changes\n",
    "refrigerator = [act for act in eidb if 'electricity, low voltage' in act['name'] and 'GB' in act['location']][0] \n",
    "# 'market for electricity, low voltage' (kilowatt hour, GB, None)\n",
    "storage_tomato.new_exchange(input=refrigerator.key, amount=0.2025, type='technosphere').save()\n",
    "storage_tomato.save()\n"
   ]
  },
  {
   "cell_type": "code",
   "execution_count": 65,
   "id": "77036d79",
   "metadata": {},
   "outputs": [],
   "source": [
    "# delete all waste handling activities that were accidentally created\n",
    "for activity in [act for act in eidb if act['name']=='storage_tomato']:\n",
    "    activity.delete()\n",
    "# delete individual raised_bed activity\n",
    "# raised_bed.delete"
   ]
  },
  {
   "cell_type": "code",
   "execution_count": null,
   "id": "b69cda93",
   "metadata": {},
   "outputs": [],
   "source": [
    "# get general information on the new activity\n",
    "eidb.search('storage_tomato')"
   ]
  },
  {
   "cell_type": "code",
   "execution_count": 76,
   "id": "e25a75ef",
   "metadata": {},
   "outputs": [
    {
     "name": "stdout",
     "output_type": "stream",
     "text": [
      "Exchange: 0.2025 kilowatt hour 'market for electricity, low voltage' (kilowatt hour, GB, None) to 'storage_tomato' (unit, GLO, None)>\n"
     ]
    }
   ],
   "source": [
    "# Have a look at all exchanges of the selected activity\n",
    "for exc in storage_tomato.exchanges():\n",
    "    print(exc)"
   ]
  },
  {
   "cell_type": "markdown",
   "id": "69b2d0d7",
   "metadata": {},
   "source": [
    "### Activity 5 LCA and Monte Carlo"
   ]
  },
  {
   "cell_type": "code",
   "execution_count": 68,
   "id": "6d22d465",
   "metadata": {},
   "outputs": [],
   "source": [
    "functional_unit5 = {storage_tomato:1}"
   ]
  },
  {
   "cell_type": "code",
   "execution_count": 69,
   "id": "5068fe57",
   "metadata": {},
   "outputs": [],
   "source": [
    "IPCC_method5 = [m for m in bw.methods if 'IPCC 2021' in str(m) and  'climate change' in str(m) and 'GWP100' in str(m) and not 'no LT' in str(m)][0]"
   ]
  },
  {
   "cell_type": "code",
   "execution_count": 70,
   "id": "5cf6f15d",
   "metadata": {},
   "outputs": [],
   "source": [
    "lca5 = bw.LCA(functional_unit5,IPCC_method5)"
   ]
  },
  {
   "cell_type": "code",
   "execution_count": 71,
   "id": "159f97ce",
   "metadata": {},
   "outputs": [],
   "source": [
    "lca5.lci()\n",
    "lca5.lcia()"
   ]
  },
  {
   "cell_type": "code",
   "execution_count": 72,
   "id": "d72ae86e",
   "metadata": {},
   "outputs": [],
   "source": [
    "mean_score5 = lca5.score"
   ]
  },
  {
   "cell_type": "code",
   "execution_count": 73,
   "id": "0dc137b1",
   "metadata": {},
   "outputs": [
    {
     "name": "stdout",
     "output_type": "stream",
     "text": [
      "The storage_tomato process accounts for 0.077399 kg CO2-Eq.\n"
     ]
    }
   ],
   "source": [
    "print(\"The {} process accounts for {:f} {}.\".format(\n",
    "    list(functional_unit5.keys())[0]['name'],\n",
    "    lca5.score,\n",
    "    bw.methods.get(IPCC_method5).get('unit')\n",
    "    ))"
   ]
  },
  {
   "cell_type": "code",
   "execution_count": 74,
   "id": "fbeeb5da",
   "metadata": {},
   "outputs": [],
   "source": [
    "np.random.seed(12345)\n",
    "mc5 = bw.MonteCarloLCA({storage_tomato:1},  ('IPCC 2021', 'climate change', 'global warming potential (GWP100)'))\n",
    "scores5 = [next(mc5) for iteration in range(1000)]"
   ]
  },
  {
   "cell_type": "code",
   "execution_count": 115,
   "id": "557768ed",
   "metadata": {
    "scrolled": true
   },
   "outputs": [
    {
     "data": {
      "text/plain": [
       "(array([ 4.,  2.,  3.,  6., 10.,  5.,  6.,  5., 11., 14., 15., 20., 23.,\n",
       "        19., 23., 33., 30., 24., 31., 25., 30., 23., 22., 35., 28., 13.,\n",
       "        29., 27., 27., 23., 30., 26., 20., 16., 26., 18., 22., 16., 22.,\n",
       "        17., 11., 12., 19., 17., 13., 12., 11., 10.,  4.,  7.,  9., 11.,\n",
       "         4.,  4.,  5.,  7.,  5.,  5.,  1.,  4.,  6.,  1.,  3.,  2.,  4.,\n",
       "         2.,  1.,  1.,  3.,  2.,  2.,  4.,  0.,  1.,  0.,  2.,  4.,  0.,\n",
       "         2.,  1.,  2.,  0.,  1.,  0.,  1.,  0.,  0.,  2.,  2.,  0.,  0.,\n",
       "         0.,  0.,  0.,  0.,  0.,  0.,  0.,  0.,  1.]),\n",
       " array([0.03038376, 0.03224386, 0.03410397, 0.03596407, 0.03782418,\n",
       "        0.03968428, 0.04154439, 0.04340449, 0.0452646 , 0.0471247 ,\n",
       "        0.04898481, 0.05084491, 0.05270502, 0.05456512, 0.05642523,\n",
       "        0.05828533, 0.06014544, 0.06200554, 0.06386565, 0.06572576,\n",
       "        0.06758586, 0.06944597, 0.07130607, 0.07316618, 0.07502628,\n",
       "        0.07688639, 0.07874649, 0.0806066 , 0.0824667 , 0.08432681,\n",
       "        0.08618691, 0.08804702, 0.08990712, 0.09176723, 0.09362733,\n",
       "        0.09548744, 0.09734754, 0.09920765, 0.10106775, 0.10292786,\n",
       "        0.10478796, 0.10664807, 0.10850817, 0.11036828, 0.11222838,\n",
       "        0.11408849, 0.11594859, 0.1178087 , 0.1196688 , 0.12152891,\n",
       "        0.12338901, 0.12524912, 0.12710922, 0.12896933, 0.13082943,\n",
       "        0.13268954, 0.13454964, 0.13640975, 0.13826985, 0.14012996,\n",
       "        0.14199006, 0.14385017, 0.14571027, 0.14757038, 0.14943048,\n",
       "        0.15129059, 0.15315069, 0.1550108 , 0.1568709 , 0.15873101,\n",
       "        0.16059112, 0.16245122, 0.16431133, 0.16617143, 0.16803154,\n",
       "        0.16989164, 0.17175175, 0.17361185, 0.17547196, 0.17733206,\n",
       "        0.17919217, 0.18105227, 0.18291238, 0.18477248, 0.18663259,\n",
       "        0.18849269, 0.1903528 , 0.1922129 , 0.19407301, 0.19593311,\n",
       "        0.19779322, 0.19965332, 0.20151343, 0.20337353, 0.20523364,\n",
       "        0.20709374, 0.20895385, 0.21081395, 0.21267406, 0.21453416,\n",
       "        0.21639427]),\n",
       " <BarContainer object of 100 artists>)"
      ]
     },
     "execution_count": 115,
     "metadata": {},
     "output_type": "execute_result"
    },
    {
     "data": {
      "image/png": "[encoded data removed]",
      "text/plain": [
       "<Figure size 640x480 with 1 Axes>"
      ]
     },
     "metadata": {},
     "output_type": "display_data"
    }
   ],
   "source": [
    "plt.hist(scores5, bins=100)"
   ]
  },
  {
   "cell_type": "markdown",
   "id": "00c2af21",
   "metadata": {},
   "source": [
    "### Activity 5 Data Record"
   ]
  },
  {
   "cell_type": "code",
   "execution_count": 42,
   "id": "eedf5505",
   "metadata": {},
   "outputs": [],
   "source": [
    "import pandas as pd"
   ]
  },
  {
   "cell_type": "code",
   "execution_count": 110,
   "id": "163db653",
   "metadata": {},
   "outputs": [],
   "source": [
    "# Access the existing data frame\n",
    "df_existing5 = pd.read_excel('output2.xlsx')\n",
    "# Put the Monte Carlo result in a dataframe\n",
    "df_new5 = pd.DataFrame({'storage_tomato_MC': scores5})\n",
    "# Append new data as a new column to the existing DataFrame\n",
    "df_updated5 = pd.concat([df_existing5, df_new5], axis=1)"
   ]
  },
  {
   "cell_type": "code",
   "execution_count": 111,
   "id": "0aa7b85a",
   "metadata": {},
   "outputs": [],
   "source": [
    "# Save in Excel\n",
    "with pd.ExcelWriter('output2.xlsx') as writer:\n",
    "    df_updated5.to_excel(writer, index=False, sheet_name='Sheet1')"
   ]
  },
  {
   "cell_type": "markdown",
   "id": "6ec012a5",
   "metadata": {},
   "source": [
    "## Activity 6: Waste Treatment"
   ]
  },
  {
   "cell_type": "code",
   "execution_count": null,
   "id": "2cfc3936",
   "metadata": {},
   "outputs": [],
   "source": [
    "# Select the ecoinvent database\n",
    "eidb = bw.Database('ecoinvent 3.6_cut-off_ecoSpold02')  "
   ]
  },
  {
   "cell_type": "code",
   "execution_count": 32,
   "id": "c42543fa",
   "metadata": {
    "scrolled": true
   },
   "outputs": [
    {
     "name": "stdout",
     "output_type": "stream",
     "text": [
      "'treatment of kitchen and garden biowaste, home composting in heaps and containers' (kilogram, RoW, None)\n",
      "02cf6e9c4e449706ca510afd8ed300e1\n",
      "'treatment of kitchen and garden biowaste, home composting in heaps and containers' (kilogram, RoW, None)\n",
      "3103f3b7eac480f3157aa9a87dc9019d\n"
     ]
    }
   ],
   "source": [
    "for act in [act for act in eidb if 'treatment of kitchen and garden biowaste' in act['name'] and 'RoW' in act['location']]:\n",
    "    print(act)\n",
    "    print(act['code'])"
   ]
  },
  {
   "cell_type": "code",
   "execution_count": 34,
   "id": "ef7cb400",
   "metadata": {
    "collapsed": true
   },
   "outputs": [
    {
     "data": {
      "text/plain": [
       "{'comment': 'Comment on the dry mass (DM) loss: The dry mass (DM) loss for this inventory is lower than for the inventory for home composting of garden waste. This is for the following reasons:\\n1/ This inventory has actually a mix of kitchen and green waste (used as structurant) in a 1:2 proportion as input. Indeed, mixed waste (kitchen waste + structurant) is less biodegradable than garden waste, because of:\\n- A difference in composition: green waste (used as structurant) comes from the maintenance of public gardens. Garden waste was a sample taken from the same source (maintenance of public gardens) but only composed of grass cutting and pruning residues, removing more woody types of residues like branches. The objective was to have a garden waste more representative of the waste from domestic gardens. Because of this difference in composition, while kitchen waste alone was more degradable than garden waste, green waste (used as structurant) was less biodegradable than garden waste.\\n- A difference in the way the waste streams were treated: garden waste was taken fresh while green waste (used as structurant for the composting of kitchen waste) was stored up to 5 weeks before being shredded. Green waste may have started to degrade before being put in the composters / heaps.\\n2/ For the composting of garden waste, the heap was bigger than for kitchen waste (kitchen waste is less voluminous), consequently the temperature increase was higher for the garden waste experiment.\\n3/ The inherent uncertainties of the measurement devices and methodology have to be taken into account. In particular:\\n- While the DM measurement of the compost is quite robust because the compost is quite homogeneous, the DM measurement of the waste streams is more subject to variability because waste streams are more heterogeneous. Also, the DM measurement was done only at certain points in time during the whole campaign. Consequently, the variability of the composition of the waste depending on the season introduces uncertainty.\\n- DM measurements were done on fresh matter, and kitchen waste was put in the composters directly after being collected while the garden waste (structurant) was stored before being incorporated in the composters on a weekly basis.\\n4/ There is a certain influence of the external conditions (weather, humidity, etc.), especially for heaps, which are open systems. Regarding perturbations from animals, for heaps, a grid was put around the experimental set up, but this could not prevent birds and worms from withdrawing matter.\\nThis home composting inventory refers to 1 kg of biowaste as input. Data represent an average between home composting in heaps and in closed containers, taking into account the turning over the compost. Biowaste is a mixture of kitchen waste and green waste (balance 2:1 by volume).\\nKitchen waste consists of peelings, fruits and vegetables cut into pieces, remains of vegetable meal: rice, pasta, bread, eggshells, paper filters, coffee grounds excluding meat and fish.\\nGreen waste consists of leftover clippings and flowers.\\nThe inventory is based on an experiment using 136,5 kg of biowaste (113,1 kg of kitchen waste and 23,4 kg of green waste). The experience lasted 1 year. \\n58,8 kg of compost were produced.\\nAccording to the ADEME study \"Enquête nationale sur la gestion domestique des déchets organiques - 2008\" 64% of people practicing home composting performs the process  composter in heaps and 36% in closed containers.\\nThe composition of kitchen, garden waste and compost are in the report in french \"Impact sanitaire et environnementaux du compostage domestique - rapport, ADEME, 2015\"\\n: https://www.ademe.fr/sites/default/files/assets/documents/impact-sanitaire-environnemental-compostage-domestique-201512-rapport-final-partiea.pdf. This inventory represents a mix of  different forms of home composting in heaps and containers\\nImage: https://db3.ecoinvent.org/images/a9af422e-0555-42c1-ae5a-5622ac5c4576\\nImage: https://db3.ecoinvent.org/images/7913b31c-dc9f-4f29-a7ba-36f2b26e10c1\\nGeography:  Production of home compost refers to the situation in south west France at Pau. \\nTechnology:  The dataset represents the practice of home composting in heaps and in closed containers with biowaste (kitchen waste and green waste), based on data from a composting experiment. The experiment was performed in the south of France starting March 2014, during 1 year. Several practices of turning over the compost are considered for each type of composter (without turning, quarterly, quaterly on the top half of the tank and turning intake).\\nThe online report (in French only) provides details on the experiment (composting practice, measurements and calculation of inventory data).\\n According to ADEME study:\"Enquête nationale sur la gestion domestique des déchets organiques - 2008\" for the composting in heaps, 22% of people turn over  the compost and 78% do not turn over. \\nAccording to ADEME study:\"Enquête nationale sur la gestion domestique des déchets organiques - 2008\" for the composting in closed containers, 39% of people turn over the compost and 61% do not turn over.\\n\\nTime period:  Time period corresponds to the duration of the experiment',\n",
       " 'classifications': [('ISIC rev.4 ecoinvent',\n",
       "   '3821:Treatment and disposal of non-hazardous waste'),\n",
       "  ('CPC', '391: Wastes from food and tobacco industry')],\n",
       " 'activity type': 'ordinary transforming activity',\n",
       " 'activity': 'da017cd6-9520-41ee-9e66-1d98ec16b5bf',\n",
       " 'database': 'ecoinvent 3.6_cut-off_ecoSpold02',\n",
       " 'filename': 'da017cd6-9520-41ee-9e66-1d98ec16b5bf_f43c95e7-40e6-4ba9-9ab1-d1bc10d3fa79.spold',\n",
       " 'location': 'RoW',\n",
       " 'name': 'treatment of kitchen and garden biowaste, home composting in heaps and containers',\n",
       " 'synonyms': [],\n",
       " 'parameters': [],\n",
       " 'authors': {'data entry': {'name': 'Kuch', 'email': 'pkuch@bio.deloitte.fr'},\n",
       "  'data generator': {'name': 'Kuch', 'email': 'pkuch@bio.deloitte.fr'}},\n",
       " 'type': 'process',\n",
       " 'reference product': 'compost',\n",
       " 'flow': 'f43c95e7-40e6-4ba9-9ab1-d1bc10d3fa79',\n",
       " 'unit': 'kilogram',\n",
       " 'production amount': 1.0,\n",
       " 'code': '3103f3b7eac480f3157aa9a87dc9019d'}"
      ]
     },
     "execution_count": 34,
     "metadata": {},
     "output_type": "execute_result"
    }
   ],
   "source": [
    "# Check select activity details\n",
    "a = eidb.get('3103f3b7eac480f3157aa9a87dc9019d')\n",
    "a.as_dict()"
   ]
  },
  {
   "cell_type": "code",
   "execution_count": null,
   "id": "ed441675",
   "metadata": {},
   "outputs": [],
   "source": [
    "# Check all exchanges of each activity\n",
    "a = eidb.get('a699b572e6fc8b34f9f4f19e388ada69')\n",
    "for exchange in a.exchanges():\n",
    "    print(exchange)"
   ]
  },
  {
   "cell_type": "code",
   "execution_count": 79,
   "id": "937d4f9f",
   "metadata": {},
   "outputs": [],
   "source": [
    "# waste management\n",
    "# create a new activity\n",
    "waste_management = eidb.new_activity(code = 'waste_management', name = \"waste_management\", unit = \"unit\")\n",
    "waste_management.save()\n",
    "\n",
    "# Search for items in ecoinvent, use the first result (you might want to ensure that you've got the right one)\n",
    "# Create exchanges for each item\n",
    "# Save changes\n",
    "auxiliary_equipment_recycled = [act for act in eidb if 'treatment of waste polyethylene' in act['name'] and 'market' not in act['name'] and 'recycling' in act['name'] and 'terephthalate' not in act['name'] and 'Europe' in act['location']][0] \n",
    "# treatment of waste polyethylene, for recycling, unsorted, sorting' (kilogram, Europe without Switzerland, None)\n",
    "waste_management.new_exchange(input=auxiliary_equipment_recycled.key, amount=0.1, type='technosphere').save()\n",
    "waste_management.save()\n",
    "\n",
    "auxiliary_equipment_incinerated = [act for act in eidb if 'treatment of municipal solid waste' in act['name'] and 'GB' in act['location'] and 'kilogram' in act['unit']][0] \n",
    "# treatment of municipal solid waste, incineration' (kilogram, GB, None)\n",
    "waste_management.new_exchange(input=auxiliary_equipment_incinerated.key, amount=2.1, type='technosphere').save()\n",
    "waste_management.save()\n",
    "\n",
    "plant_composting = eidb.get('3103f3b7eac480f3157aa9a87dc9019d')\n",
    "# treatment of kitchen and garden biowaste, home composting in heaps and containers' (kilogram, RoW, None) -- 2 identical activities, select by unique code, reference product is compost\n",
    "waste_management.new_exchange(input=plant_composting.key, amount=0.46, type='technosphere').save()\n",
    "waste_management.save()\n",
    "\n",
    "transport = [act for act in eidb if 'lorry 3.5-7.5 metric ton, EURO6' in act['name'] and 'market' not in act['name'] and 'RoW' in act['location']][0]  \n",
    "# 'transport, freight, lorry 3.5-7.5 metric ton, EURO6' (ton kilometer, RoW, None)\n",
    "waste_management.new_exchange(input=transport.key, amount=0.00911, type='technosphere').save()\n",
    "waste_management.save()\n"
   ]
  },
  {
   "cell_type": "code",
   "execution_count": 78,
   "id": "922d66c2",
   "metadata": {},
   "outputs": [],
   "source": [
    "# delete all waste handling activities that were accidentally created\n",
    "for activity in [act for act in eidb if act['name']=='waste_management']:\n",
    "    activity.delete()\n",
    "# delete individual raised_bed activity\n",
    "# raised_bed.delete"
   ]
  },
  {
   "cell_type": "code",
   "execution_count": null,
   "id": "b6a032bb",
   "metadata": {},
   "outputs": [],
   "source": [
    "# get general information on the new activity\n",
    "eidb.search('waste_management')"
   ]
  },
  {
   "cell_type": "code",
   "execution_count": 80,
   "id": "b6d8a959",
   "metadata": {
    "scrolled": false
   },
   "outputs": [
    {
     "name": "stdout",
     "output_type": "stream",
     "text": [
      "Exchange: 0.1 kilogram 'treatment of waste polyethylene, for recycling, unsorted, sorting' (kilogram, Europe without Switzerland, None) to 'waste_management' (unit, GLO, None)>\n",
      "Exchange: 2.1 kilogram 'treatment of municipal solid waste, incineration' (kilogram, GB, None) to 'waste_management' (unit, GLO, None)>\n",
      "Exchange: 0.46 kilogram 'treatment of kitchen and garden biowaste, home composting in heaps and containers' (kilogram, RoW, None) to 'waste_management' (unit, GLO, None)>\n",
      "Exchange: 0.00911 ton kilometer 'transport, freight, lorry 3.5-7.5 metric ton, EURO6' (ton kilometer, RoW, None) to 'waste_management' (unit, GLO, None)>\n"
     ]
    }
   ],
   "source": [
    "# Have a look at all exchanges of the selected activity\n",
    "for exc in waste_management.exchanges():\n",
    "    print(exc)"
   ]
  },
  {
   "cell_type": "markdown",
   "id": "6f3108a4",
   "metadata": {},
   "source": [
    "### Activity 6 LCA and Monte Carlo"
   ]
  },
  {
   "cell_type": "code",
   "execution_count": 81,
   "id": "c031f61b",
   "metadata": {},
   "outputs": [],
   "source": [
    "functional_unit6 = {waste_management:1}"
   ]
  },
  {
   "cell_type": "code",
   "execution_count": 82,
   "id": "4a0cc484",
   "metadata": {},
   "outputs": [],
   "source": [
    "IPCC_method6 = [m for m in bw.methods if 'IPCC 2021' in str(m) and  'climate change' in str(m) and 'GWP100' in str(m) and not 'no LT' in str(m)][0]"
   ]
  },
  {
   "cell_type": "code",
   "execution_count": 83,
   "id": "89ebe5df",
   "metadata": {},
   "outputs": [],
   "source": [
    "lca6 = bw.LCA(functional_unit6,IPCC_method6)"
   ]
  },
  {
   "cell_type": "code",
   "execution_count": 84,
   "id": "5e42521e",
   "metadata": {},
   "outputs": [],
   "source": [
    "lca6.lci()\n",
    "lca6.lcia()"
   ]
  },
  {
   "cell_type": "code",
   "execution_count": 85,
   "id": "4dfcdf1f",
   "metadata": {},
   "outputs": [],
   "source": [
    "mean_score6 = lca6.score"
   ]
  },
  {
   "cell_type": "code",
   "execution_count": 86,
   "id": "69c528b4",
   "metadata": {},
   "outputs": [
    {
     "name": "stdout",
     "output_type": "stream",
     "text": [
      "The waste_management process accounts for -1.048244 kg CO2-Eq.\n"
     ]
    }
   ],
   "source": [
    "print(\"The {} process accounts for {:f} {}.\".format(\n",
    "    list(functional_unit6.keys())[0]['name'],\n",
    "    lca6.score,\n",
    "    bw.methods.get(IPCC_method6).get('unit')\n",
    "    ))"
   ]
  },
  {
   "cell_type": "code",
   "execution_count": 87,
   "id": "03795ca4",
   "metadata": {},
   "outputs": [],
   "source": [
    "np.random.seed(123456)\n",
    "mc6 = bw.MonteCarloLCA({waste_management:1},  ('IPCC 2021', 'climate change', 'global warming potential (GWP100)'))\n",
    "scores6 = [next(mc6) for iteration in range(1000)]"
   ]
  },
  {
   "cell_type": "code",
   "execution_count": 128,
   "id": "cc60e845",
   "metadata": {
    "scrolled": true
   },
   "outputs": [
    {
     "data": {
      "text/plain": [
       "(array([ 1.,  0.,  0.,  0.,  0.,  0.,  0.,  1.,  0.,  0.,  1.,  0.,  0.,\n",
       "         0.,  0.,  0.,  0.,  1.,  1.,  0.,  0.,  0.,  2.,  0.,  0.,  0.,\n",
       "         0.,  1.,  0.,  0.,  1.,  0.,  3.,  2.,  1.,  2.,  0.,  2.,  4.,\n",
       "         2.,  5.,  8.,  4.,  2.,  5.,  6.,  8.,  4.,  6., 12.,  8.,  8.,\n",
       "         5., 14., 20., 17., 14., 24., 15., 24., 19., 23., 25., 31., 22.,\n",
       "        27., 25., 26., 28., 28., 37., 23., 38., 25., 30., 33., 27., 30.,\n",
       "        31., 36., 29., 28., 27., 18., 16., 22.,  3., 11., 16.,  4.,  9.,\n",
       "         4.,  5.,  1.,  2.,  3.,  1.,  1.,  1.,  1.]),\n",
       " array([-2.17057632, -2.15500263, -2.13942894, -2.12385526, -2.10828157,\n",
       "        -2.09270788, -2.0771342 , -2.06156051, -2.04598682, -2.03041314,\n",
       "        -2.01483945, -1.99926576, -1.98369208, -1.96811839, -1.9525447 ,\n",
       "        -1.93697102, -1.92139733, -1.90582364, -1.89024996, -1.87467627,\n",
       "        -1.85910258, -1.8435289 , -1.82795521, -1.81238152, -1.79680784,\n",
       "        -1.78123415, -1.76566046, -1.75008678, -1.73451309, -1.7189394 ,\n",
       "        -1.70336572, -1.68779203, -1.67221834, -1.65664465, -1.64107097,\n",
       "        -1.62549728, -1.60992359, -1.59434991, -1.57877622, -1.56320253,\n",
       "        -1.54762885, -1.53205516, -1.51648147, -1.50090779, -1.4853341 ,\n",
       "        -1.46976041, -1.45418673, -1.43861304, -1.42303935, -1.40746567,\n",
       "        -1.39189198, -1.37631829, -1.36074461, -1.34517092, -1.32959723,\n",
       "        -1.31402355, -1.29844986, -1.28287617, -1.26730249, -1.2517288 ,\n",
       "        -1.23615511, -1.22058143, -1.20500774, -1.18943405, -1.17386037,\n",
       "        -1.15828668, -1.14271299, -1.1271393 , -1.11156562, -1.09599193,\n",
       "        -1.08041824, -1.06484456, -1.04927087, -1.03369718, -1.0181235 ,\n",
       "        -1.00254981, -0.98697612, -0.97140244, -0.95582875, -0.94025506,\n",
       "        -0.92468138, -0.90910769, -0.893534  , -0.87796032, -0.86238663,\n",
       "        -0.84681294, -0.83123926, -0.81566557, -0.80009188, -0.7845182 ,\n",
       "        -0.76894451, -0.75337082, -0.73779714, -0.72222345, -0.70664976,\n",
       "        -0.69107608, -0.67550239, -0.6599287 , -0.64435502, -0.62878133,\n",
       "        -0.61320764]),\n",
       " <BarContainer object of 100 artists>)"
      ]
     },
     "execution_count": 128,
     "metadata": {},
     "output_type": "execute_result"
    },
    {
     "data": {
      "image/png": "[encoded data removed]",
      "text/plain": [
       "<Figure size 640x480 with 1 Axes>"
      ]
     },
     "metadata": {},
     "output_type": "display_data"
    }
   ],
   "source": [
    "plt.hist(scores6, bins=100)"
   ]
  },
  {
   "cell_type": "markdown",
   "id": "8356e142",
   "metadata": {},
   "source": [
    "### Activity 6 Data Record"
   ]
  },
  {
   "cell_type": "code",
   "execution_count": 42,
   "id": "bef0bb76",
   "metadata": {},
   "outputs": [],
   "source": [
    "import pandas as pd"
   ]
  },
  {
   "cell_type": "code",
   "execution_count": 112,
   "id": "db0ca8e8",
   "metadata": {},
   "outputs": [],
   "source": [
    "# Access the existing data frame\n",
    "df_existing6 = pd.read_excel('output2.xlsx')\n",
    "# Put the Monte Carlo result in a dataframe\n",
    "df_new6 = pd.DataFrame({'waste_management_MC': scores6})\n",
    "# Append new data as a new column to the existing DataFrame\n",
    "df_updated6 = pd.concat([df_existing6, df_new6], axis=1)"
   ]
  },
  {
   "cell_type": "code",
   "execution_count": 113,
   "id": "cee4f9fe",
   "metadata": {},
   "outputs": [],
   "source": [
    "# Save in Excel\n",
    "with pd.ExcelWriter('output2.xlsx') as writer:\n",
    "    df_updated6.to_excel(writer, index=False, sheet_name='Sheet1')"
   ]
  },
  {
   "cell_type": "markdown",
   "id": "4547866e",
   "metadata": {},
   "source": [
    "# 4 LCA"
   ]
  },
  {
   "cell_type": "markdown",
   "id": "450d6805",
   "metadata": {},
   "source": [
    "## 4.1 Combine all activities"
   ]
  },
  {
   "cell_type": "code",
   "execution_count": 202,
   "id": "713de993",
   "metadata": {},
   "outputs": [
    {
     "name": "stdout",
     "output_type": "stream",
     "text": [
      "'storage_tomato' (unit, GLO, None)\n",
      "storage_tomato\n"
     ]
    }
   ],
   "source": [
    "for act in [act for act in eidb if 'storage_tomato' in act['name']]:\n",
    "    print(act)\n",
    "    print(act['code'])"
   ]
  },
  {
   "cell_type": "code",
   "execution_count": 5,
   "id": "5b920b5c",
   "metadata": {},
   "outputs": [],
   "source": [
    "# Define All Activities Combined\n",
    "# create a new activity\n",
    "tomato_production = eidb.new_activity(code = 'tomato_production', name = \"tomato_production\", unit = \"unit\")\n",
    "tomato_production.save()\n",
    "\n",
    "# Search for items in ecoinvent, use the first result (you might want to ensure that you've got the right one)\n",
    "# Create exchanges for each item\n",
    "# Save changes\n",
    "raised_bed = [act for act in eidb if 'raised_bed' in act['name']][0]\n",
    "tomato_production.new_exchange(input=raised_bed.key, amount=1, type='technosphere').save()\n",
    "tomato_production.save()\n",
    "\n",
    "auxiliary_equipment = [act for act in eidb if 'auxiliary_equipment' in act['name']][0]\n",
    "tomato_production.new_exchange(input=auxiliary_equipment.key, amount=1, type='technosphere').save()\n",
    "tomato_production.save()\n",
    "\n",
    "growing_medium = [act for act in eidb if 'growing_medium' in act['name']][0]\n",
    "tomato_production.new_exchange(input=growing_medium.key, amount=1, type='technosphere').save()\n",
    "tomato_production.save()\n",
    "\n",
    "crop_growth = [act for act in eidb if 'crop_growth' in act['name']][0]\n",
    "tomato_production.new_exchange(input=crop_growth.key, amount=1, type='technosphere').save()\n",
    "tomato_production.save()\n",
    "\n",
    "storage_tomato = [act for act in eidb if 'storage_tomato' in act['name']][0]\n",
    "tomato_production.new_exchange(input=storage_tomato.key, amount=1, type='technosphere').save()\n",
    "tomato_production.save()\n",
    "\n",
    "waste_management = [act for act in eidb if 'waste_management' in act['name']][0]\n",
    "tomato_production.new_exchange(input=waste_management.key, amount=1, type='technosphere').save()\n",
    "tomato_production.save()\n",
    "    "
   ]
  },
  {
   "cell_type": "code",
   "execution_count": 4,
   "id": "ca6bde16",
   "metadata": {},
   "outputs": [],
   "source": [
    "# delete all waste handling activities that were accidentally created\n",
    "for activity in [act for act in eidb if act['name']=='tomato_production']:\n",
    "    activity.delete()\n",
    "# delete individual raised_bed activity\n",
    "# raised_bed.delete"
   ]
  },
  {
   "cell_type": "code",
   "execution_count": 6,
   "id": "0cc50903",
   "metadata": {},
   "outputs": [
    {
     "name": "stdout",
     "output_type": "stream",
     "text": [
      "Exchange: 1 unit 'raised_bed' (unit, GLO, None) to 'tomato_production' (unit, GLO, None)>\n",
      "Exchange: 1 unit 'auxiliary_equipment' (unit, GLO, None) to 'tomato_production' (unit, GLO, None)>\n",
      "Exchange: 1 unit 'growing_medium' (unit, GLO, None) to 'tomato_production' (unit, GLO, None)>\n",
      "Exchange: 1 unit 'crop_growth' (unit, GLO, None) to 'tomato_production' (unit, GLO, None)>\n",
      "Exchange: 1 unit 'storage_tomato' (unit, GLO, None) to 'tomato_production' (unit, GLO, None)>\n",
      "Exchange: 1 unit 'waste_management' (unit, GLO, None) to 'tomato_production' (unit, GLO, None)>\n"
     ]
    }
   ],
   "source": [
    "# Have a look at all exchanges of the selected activity\n",
    "for exc in tomato_production.exchanges():\n",
    "    print(exc)"
   ]
  },
  {
   "cell_type": "markdown",
   "id": "a5f17f0d",
   "metadata": {},
   "source": [
    "## 4.2 Definition of LCIA methods and functional unit"
   ]
  },
  {
   "cell_type": "markdown",
   "id": "c07e2f36",
   "metadata": {},
   "source": [
    "### LCA Calculation"
   ]
  },
  {
   "cell_type": "code",
   "execution_count": 35,
   "id": "bd85db59",
   "metadata": {},
   "outputs": [
    {
     "data": {
      "text/plain": [
       "[('CML v4.8 2016 no LT',\n",
       "  'acidification no LT',\n",
       "  'acidification (incl. fate, average Europe total, A&B) no LT'),\n",
       " ('CML v4.8 2016 no LT',\n",
       "  'climate change no LT',\n",
       "  'global warming potential (GWP100) no LT'),\n",
       " ('CML v4.8 2016 no LT',\n",
       "  'ecotoxicity: freshwater no LT',\n",
       "  'freshwater aquatic ecotoxicity (FAETP inf) no LT'),\n",
       " ('CML v4.8 2016 no LT',\n",
       "  'ecotoxicity: marine no LT',\n",
       "  'marine aquatic ecotoxicity (MAETP inf) no LT'),\n",
       " ('CML v4.8 2016 no LT',\n",
       "  'ecotoxicity: terrestrial no LT',\n",
       "  'terrestrial ecotoxicity (TETP inf) no LT'),\n",
       " ('CML v4.8 2016 no LT',\n",
       "  'energy resources: non-renewable no LT',\n",
       "  'abiotic depletion potential (ADP): fossil fuels no LT'),\n",
       " ('CML v4.8 2016 no LT',\n",
       "  'eutrophication no LT',\n",
       "  'eutrophication (fate not incl.) no LT'),\n",
       " ('CML v4.8 2016 no LT',\n",
       "  'human toxicity no LT',\n",
       "  'human toxicity (HTP inf) no LT'),\n",
       " ('CML v4.8 2016 no LT',\n",
       "  'material resources: metals/minerals no LT',\n",
       "  'abiotic depletion potential (ADP): elements (ultimate reserves) no LT'),\n",
       " ('CML v4.8 2016 no LT',\n",
       "  'ozone depletion no LT',\n",
       "  'ozone layer depletion (ODP steady state) no LT'),\n",
       " ('CML v4.8 2016 no LT',\n",
       "  'photochemical oxidant formation no LT',\n",
       "  'photochemical oxidation (high NOx) no LT'),\n",
       " ('CML v4.8 2016',\n",
       "  'acidification',\n",
       "  'acidification (incl. fate, average Europe total, A&B)'),\n",
       " ('CML v4.8 2016', 'climate change', 'global warming potential (GWP100)'),\n",
       " ('CML v4.8 2016',\n",
       "  'ecotoxicity: freshwater',\n",
       "  'freshwater aquatic ecotoxicity (FAETP inf)'),\n",
       " ('CML v4.8 2016',\n",
       "  'ecotoxicity: marine',\n",
       "  'marine aquatic ecotoxicity (MAETP inf)'),\n",
       " ('CML v4.8 2016',\n",
       "  'ecotoxicity: terrestrial',\n",
       "  'terrestrial ecotoxicity (TETP inf)'),\n",
       " ('CML v4.8 2016',\n",
       "  'energy resources: non-renewable',\n",
       "  'abiotic depletion potential (ADP): fossil fuels'),\n",
       " ('CML v4.8 2016', 'eutrophication', 'eutrophication (fate not incl.)'),\n",
       " ('CML v4.8 2016', 'human toxicity', 'human toxicity (HTP inf)'),\n",
       " ('CML v4.8 2016',\n",
       "  'material resources: metals/minerals',\n",
       "  'abiotic depletion potential (ADP): elements (ultimate reserves)'),\n",
       " ('CML v4.8 2016',\n",
       "  'ozone depletion',\n",
       "  'ozone layer depletion (ODP steady state)'),\n",
       " ('CML v4.8 2016',\n",
       "  'photochemical oxidant formation',\n",
       "  'photochemical oxidation (high NOx)'),\n",
       " ('Crustal Scarcity Indicator 2020',\n",
       "  'material resources: metals/minerals',\n",
       "  'crustal scarcity potential (CSP)'),\n",
       " ('Cumulative Energy Demand (CED)',\n",
       "  'energy resources: non-renewable',\n",
       "  'energy content (HHV)'),\n",
       " ('Cumulative Energy Demand (CED)',\n",
       "  'energy resources: non-renewable, biomass',\n",
       "  'energy content (HHV)'),\n",
       " ('Cumulative Energy Demand (CED)',\n",
       "  'energy resources: non-renewable, fossil',\n",
       "  'energy content (HHV)'),\n",
       " ('Cumulative Energy Demand (CED)',\n",
       "  'energy resources: non-renewable, nuclear',\n",
       "  'energy content (HHV)'),\n",
       " ('Cumulative Energy Demand (CED)',\n",
       "  'energy resources: renewable',\n",
       "  'energy content (HHV)'),\n",
       " ('Cumulative Energy Demand (CED)',\n",
       "  'energy resources: renewable, biomass',\n",
       "  'energy content (HHV)'),\n",
       " ('Cumulative Energy Demand (CED)',\n",
       "  'energy resources: renewable, geothermal',\n",
       "  'energy content (HHV)'),\n",
       " ('Cumulative Energy Demand (CED)',\n",
       "  'energy resources: renewable, geothermal, solar, wind',\n",
       "  'energy content (HHV)'),\n",
       " ('Cumulative Energy Demand (CED)',\n",
       "  'energy resources: renewable, solar',\n",
       "  'energy content (HHV)'),\n",
       " ('Cumulative Energy Demand (CED)',\n",
       "  'energy resources: renewable, water',\n",
       "  'energy content (HHV)'),\n",
       " ('Cumulative Energy Demand (CED)',\n",
       "  'energy resources: renewable, wind',\n",
       "  'energy content (HHV)'),\n",
       " ('Cumulative Energy Demand (CED)', 'total', 'energy content (HHV)'),\n",
       " ('Cumulative Exergy Demand (CExD)',\n",
       "  'energy resources: non-renewable',\n",
       "  'exergy content'),\n",
       " ('Cumulative Exergy Demand (CExD)',\n",
       "  'energy resources: non-renewable, biomass',\n",
       "  'exergy content'),\n",
       " ('Cumulative Exergy Demand (CExD)',\n",
       "  'energy resources: non-renewable, fossil',\n",
       "  'exergy content'),\n",
       " ('Cumulative Exergy Demand (CExD)',\n",
       "  'energy resources: non-renewable, nuclear',\n",
       "  'exergy content'),\n",
       " ('Cumulative Exergy Demand (CExD)',\n",
       "  'energy resources: renewable',\n",
       "  'exergy content'),\n",
       " ('Cumulative Exergy Demand (CExD)',\n",
       "  'energy resources: renewable, biomass',\n",
       "  'exergy content'),\n",
       " ('Cumulative Exergy Demand (CExD)',\n",
       "  'energy resources: renewable, solar',\n",
       "  'exergy content'),\n",
       " ('Cumulative Exergy Demand (CExD)',\n",
       "  'energy resources: renewable, water',\n",
       "  'exergy content'),\n",
       " ('Cumulative Exergy Demand (CExD)',\n",
       "  'energy resources: renewable, wind',\n",
       "  'exergy content'),\n",
       " ('Cumulative Exergy Demand (CExD)', 'material resources', 'exergy content'),\n",
       " ('Cumulative Exergy Demand (CExD)',\n",
       "  'material resources: metals',\n",
       "  'exergy content'),\n",
       " ('Cumulative Exergy Demand (CExD)',\n",
       "  'material resources: minerals',\n",
       "  'exergy content'),\n",
       " ('Cumulative Exergy Demand (CExD)',\n",
       "  'material resources: water',\n",
       "  'exergy content'),\n",
       " ('Cumulative Exergy Demand (CExD)', 'total', 'exergy content'),\n",
       " ('Ecological Footprint', 'CO2', 'global hectares'),\n",
       " ('Ecological Footprint', 'land occupation', 'global hectares'),\n",
       " ('Ecological Footprint', 'nuclear', 'global hectares'),\n",
       " ('Ecological Footprint', 'total', 'global hectares'),\n",
       " ('Ecological Scarcity 2021 no LT',\n",
       "  'climate change no LT',\n",
       "  'global warming potential (GWP100) no LT'),\n",
       " ('Ecological Scarcity 2021 no LT',\n",
       "  'emissions to air no LT',\n",
       "  'air pollutants and PM no LT'),\n",
       " ('Ecological Scarcity 2021 no LT',\n",
       "  'emissions to air no LT',\n",
       "  'carcinogenic substances into air no LT'),\n",
       " ('Ecological Scarcity 2021 no LT',\n",
       "  'emissions to air no LT',\n",
       "  'heavy metals into air no LT'),\n",
       " ('Ecological Scarcity 2021 no LT',\n",
       "  'emissions to air no LT',\n",
       "  'radioactive substances into air no LT'),\n",
       " ('Ecological Scarcity 2021 no LT',\n",
       "  'emissions to soil no LT',\n",
       "  'heavy metals into soil no LT'),\n",
       " ('Ecological Scarcity 2021 no LT',\n",
       "  'emissions to soil no LT',\n",
       "  'pesticides into soil no LT'),\n",
       " ('Ecological Scarcity 2021 no LT',\n",
       "  'emissions to water no LT',\n",
       "  'heavy metals into water no LT'),\n",
       " ('Ecological Scarcity 2021 no LT',\n",
       "  'emissions to water no LT',\n",
       "  'POP into water no LT'),\n",
       " ('Ecological Scarcity 2021 no LT',\n",
       "  'emissions to water no LT',\n",
       "  'radioactive substances into water no LT'),\n",
       " ('Ecological Scarcity 2021 no LT',\n",
       "  'emissions to water no LT',\n",
       "  'water pollutants no LT'),\n",
       " ('Ecological Scarcity 2021 no LT',\n",
       "  'energy resources no LT',\n",
       "  'energy resources no LT'),\n",
       " ('Ecological Scarcity 2021 no LT', 'land use no LT', 'land use no LT'),\n",
       " ('Ecological Scarcity 2021 no LT',\n",
       "  'mineral resources no LT',\n",
       "  'mineral resources no LT'),\n",
       " ('Ecological Scarcity 2021 no LT',\n",
       "  'natural resources no LT',\n",
       "  'biotic resources no LT'),\n",
       " ('Ecological Scarcity 2021 no LT',\n",
       "  'ozone depletion no LT',\n",
       "  'ozone depletion no LT'),\n",
       " ('Ecological Scarcity 2021 no LT', 'total no LT', 'UBP no LT'),\n",
       " ('Ecological Scarcity 2021 no LT',\n",
       "  'waste disposal no LT',\n",
       "  'radioactive waste to deposit no LT'),\n",
       " ('Ecological Scarcity 2021 no LT',\n",
       "  'waste disposal no LT',\n",
       "  'waste, non radioactive no LT'),\n",
       " ('Ecological Scarcity 2021 no LT',\n",
       "  'water use no LT',\n",
       "  'water resources, evaporated no LT'),\n",
       " ('Ecological Scarcity 2021',\n",
       "  'climate change',\n",
       "  'global warming potential (GWP100)'),\n",
       " ('Ecological Scarcity 2021', 'emissions to air', 'air pollutants and PM'),\n",
       " ('Ecological Scarcity 2021',\n",
       "  'emissions to air',\n",
       "  'carcinogenic substances into air'),\n",
       " ('Ecological Scarcity 2021', 'emissions to air', 'heavy metals into air'),\n",
       " ('Ecological Scarcity 2021',\n",
       "  'emissions to air',\n",
       "  'radioactive substances into air'),\n",
       " ('Ecological Scarcity 2021', 'emissions to soil', 'heavy metals into soil'),\n",
       " ('Ecological Scarcity 2021', 'emissions to soil', 'pesticides into soil'),\n",
       " ('Ecological Scarcity 2021', 'emissions to water', 'heavy metals into water'),\n",
       " ('Ecological Scarcity 2021', 'emissions to water', 'POP into water'),\n",
       " ('Ecological Scarcity 2021',\n",
       "  'emissions to water',\n",
       "  'radioactive substances into water'),\n",
       " ('Ecological Scarcity 2021', 'emissions to water', 'water pollutants'),\n",
       " ('Ecological Scarcity 2021', 'energy resources', 'energy resources'),\n",
       " ('Ecological Scarcity 2021', 'land use', 'land use'),\n",
       " ('Ecological Scarcity 2021', 'mineral resources', 'mineral resources'),\n",
       " ('Ecological Scarcity 2021', 'natural resources', 'biotic resources'),\n",
       " ('Ecological Scarcity 2021', 'ozone depletion', 'ozone depletion'),\n",
       " ('Ecological Scarcity 2021', 'total', 'UBP'),\n",
       " ('Ecological Scarcity 2021',\n",
       "  'waste disposal',\n",
       "  'radioactive waste to deposit'),\n",
       " ('Ecological Scarcity 2021', 'waste disposal', 'waste, non radioactive'),\n",
       " ('Ecological Scarcity 2021', 'water use', 'water resources, evaporated'),\n",
       " ('Ecosystem Damage Potential',\n",
       "  'land occupation',\n",
       "  'ecosystem damage potential'),\n",
       " ('Ecosystem Damage Potential',\n",
       "  'land transformation',\n",
       "  'ecosystem damage potential'),\n",
       " ('Ecosystem Damage Potential', 'total', 'ecosystem damage potential'),\n",
       " ('EDIP 2003 no LT', 'acidification no LT', 'acidification no LT'),\n",
       " ('EDIP 2003 no LT', 'ecotoxicity no LT', 'acute, in water no LT'),\n",
       " ('EDIP 2003 no LT', 'ecotoxicity no LT', 'chronic, in soil no LT'),\n",
       " ('EDIP 2003 no LT', 'ecotoxicity no LT', 'chronic, in water no LT'),\n",
       " ('EDIP 2003 no LT', 'ecotoxicity no LT', 'in sewage treatment plants no LT'),\n",
       " ('EDIP 2003 no LT', 'eutrophication no LT', 'combined potential no LT'),\n",
       " ('EDIP 2003 no LT', 'eutrophication no LT', 'separate N potential no LT'),\n",
       " ('EDIP 2003 no LT', 'eutrophication no LT', 'separate P potential no LT'),\n",
       " ('EDIP 2003 no LT',\n",
       "  'eutrophication no LT',\n",
       "  'terrestrial eutrophication no LT'),\n",
       " ('EDIP 2003 no LT', 'global warming no LT', 'GWP 100a no LT'),\n",
       " ('EDIP 2003 no LT', 'global warming no LT', 'GWP 20a no LT'),\n",
       " ('EDIP 2003 no LT', 'global warming no LT', 'GWP 500a no LT'),\n",
       " ('EDIP 2003 no LT', 'human toxicity no LT', 'via air no LT'),\n",
       " ('EDIP 2003 no LT', 'human toxicity no LT', 'via soil no LT'),\n",
       " ('EDIP 2003 no LT', 'human toxicity no LT', 'via surface water no LT'),\n",
       " ('EDIP 2003 no LT', 'land filling no LT', 'bulk waste no LT'),\n",
       " ('EDIP 2003 no LT', 'land filling no LT', 'hazardous waste no LT'),\n",
       " ('EDIP 2003 no LT', 'land filling no LT', 'radioactive waste no LT'),\n",
       " ('EDIP 2003 no LT', 'land filling no LT', 'slag and ashes no LT'),\n",
       " ('EDIP 2003 no LT', 'non-renewable resources no LT', 'aluminium no LT'),\n",
       " ('EDIP 2003 no LT', 'non-renewable resources no LT', 'antimony no LT'),\n",
       " ('EDIP 2003 no LT', 'non-renewable resources no LT', 'brown coal no LT'),\n",
       " ('EDIP 2003 no LT', 'non-renewable resources no LT', 'cadmium no LT'),\n",
       " ('EDIP 2003 no LT', 'non-renewable resources no LT', 'cerium no LT'),\n",
       " ('EDIP 2003 no LT', 'non-renewable resources no LT', 'coal no LT'),\n",
       " ('EDIP 2003 no LT', 'non-renewable resources no LT', 'cobalt no LT'),\n",
       " ('EDIP 2003 no LT', 'non-renewable resources no LT', 'copper no LT'),\n",
       " ('EDIP 2003 no LT', 'non-renewable resources no LT', 'gold no LT'),\n",
       " ('EDIP 2003 no LT', 'non-renewable resources no LT', 'iron no LT'),\n",
       " ('EDIP 2003 no LT', 'non-renewable resources no LT', 'lanthanum no LT'),\n",
       " ('EDIP 2003 no LT', 'non-renewable resources no LT', 'lead no LT'),\n",
       " ('EDIP 2003 no LT', 'non-renewable resources no LT', 'manganese no LT'),\n",
       " ('EDIP 2003 no LT', 'non-renewable resources no LT', 'mercury no LT'),\n",
       " ('EDIP 2003 no LT', 'non-renewable resources no LT', 'molybdenum no LT'),\n",
       " ('EDIP 2003 no LT', 'non-renewable resources no LT', 'natural gas no LT'),\n",
       " ('EDIP 2003 no LT', 'non-renewable resources no LT', 'nickel no LT'),\n",
       " ('EDIP 2003 no LT', 'non-renewable resources no LT', 'oil no LT'),\n",
       " ('EDIP 2003 no LT', 'non-renewable resources no LT', 'palladium no LT'),\n",
       " ('EDIP 2003 no LT', 'non-renewable resources no LT', 'platinum no LT'),\n",
       " ('EDIP 2003 no LT', 'non-renewable resources no LT', 'silver no LT'),\n",
       " ('EDIP 2003 no LT', 'non-renewable resources no LT', 'tantalum no LT'),\n",
       " ('EDIP 2003 no LT', 'non-renewable resources no LT', 'tin no LT'),\n",
       " ('EDIP 2003 no LT', 'non-renewable resources no LT', 'zinc no LT'),\n",
       " ('EDIP 2003 no LT',\n",
       "  'photochemical ozone formation no LT',\n",
       "  'impacts on human health no LT'),\n",
       " ('EDIP 2003 no LT',\n",
       "  'photochemical ozone formation no LT',\n",
       "  'impacts on vegetation no LT'),\n",
       " ('EDIP 2003 no LT', 'renewable resources no LT', 'wood no LT'),\n",
       " ('EDIP 2003 no LT', 'stratospheric ozone depletion no LT', 'ODP total no LT'),\n",
       " ('EDIP 2003', 'acidification', 'acidification'),\n",
       " ('EDIP 2003', 'ecotoxicity', 'acute, in water'),\n",
       " ('EDIP 2003', 'ecotoxicity', 'chronic, in soil'),\n",
       " ('EDIP 2003', 'ecotoxicity', 'chronic, in water'),\n",
       " ('EDIP 2003', 'ecotoxicity', 'in sewage treatment plants'),\n",
       " ('EDIP 2003', 'eutrophication', 'combined potential'),\n",
       " ('EDIP 2003', 'eutrophication', 'separate N potential'),\n",
       " ('EDIP 2003', 'eutrophication', 'separate P potential'),\n",
       " ('EDIP 2003', 'eutrophication', 'terrestrial eutrophication'),\n",
       " ('EDIP 2003', 'global warming', 'GWP 100a'),\n",
       " ('EDIP 2003', 'global warming', 'GWP 20a'),\n",
       " ('EDIP 2003', 'global warming', 'GWP 500a'),\n",
       " ('EDIP 2003', 'human toxicity', 'via air'),\n",
       " ('EDIP 2003', 'human toxicity', 'via soil'),\n",
       " ('EDIP 2003', 'human toxicity', 'via surface water'),\n",
       " ('EDIP 2003', 'land filling', 'bulk waste'),\n",
       " ('EDIP 2003', 'land filling', 'hazardous waste'),\n",
       " ('EDIP 2003', 'land filling', 'radioactive waste'),\n",
       " ('EDIP 2003', 'land filling', 'slag and ashes'),\n",
       " ('EDIP 2003', 'non-renewable resources', 'aluminium'),\n",
       " ('EDIP 2003', 'non-renewable resources', 'antimony'),\n",
       " ('EDIP 2003', 'non-renewable resources', 'brown coal'),\n",
       " ('EDIP 2003', 'non-renewable resources', 'cadmium'),\n",
       " ('EDIP 2003', 'non-renewable resources', 'cerium'),\n",
       " ('EDIP 2003', 'non-renewable resources', 'coal'),\n",
       " ('EDIP 2003', 'non-renewable resources', 'cobalt'),\n",
       " ('EDIP 2003', 'non-renewable resources', 'copper'),\n",
       " ('EDIP 2003', 'non-renewable resources', 'gold'),\n",
       " ('EDIP 2003', 'non-renewable resources', 'iron'),\n",
       " ('EDIP 2003', 'non-renewable resources', 'lanthanum'),\n",
       " ('EDIP 2003', 'non-renewable resources', 'lead'),\n",
       " ('EDIP 2003', 'non-renewable resources', 'manganese'),\n",
       " ('EDIP 2003', 'non-renewable resources', 'mercury'),\n",
       " ('EDIP 2003', 'non-renewable resources', 'molybdenum'),\n",
       " ('EDIP 2003', 'non-renewable resources', 'natural gas'),\n",
       " ('EDIP 2003', 'non-renewable resources', 'nickel'),\n",
       " ('EDIP 2003', 'non-renewable resources', 'oil'),\n",
       " ('EDIP 2003', 'non-renewable resources', 'palladium'),\n",
       " ('EDIP 2003', 'non-renewable resources', 'platinum'),\n",
       " ('EDIP 2003', 'non-renewable resources', 'silver'),\n",
       " ('EDIP 2003', 'non-renewable resources', 'tantalum'),\n",
       " ('EDIP 2003', 'non-renewable resources', 'tin'),\n",
       " ('EDIP 2003', 'non-renewable resources', 'zinc'),\n",
       " ('EDIP 2003', 'photochemical ozone formation', 'impacts on human health'),\n",
       " ('EDIP 2003', 'photochemical ozone formation', 'impacts on vegetation'),\n",
       " ('EDIP 2003', 'renewable resources', 'wood'),\n",
       " ('EDIP 2003', 'stratospheric ozone depletion', 'ODP total'),\n",
       " ('EF v3.0 no LT', 'acidification no LT', 'accumulated exceedance (AE) no LT'),\n",
       " ('EF v3.0 no LT',\n",
       "  'climate change no LT',\n",
       "  'global warming potential (GWP100) no LT'),\n",
       " ('EF v3.0 no LT',\n",
       "  'climate change: biogenic no LT',\n",
       "  'global warming potential (GWP100) no LT'),\n",
       " ('EF v3.0 no LT',\n",
       "  'climate change: fossil no LT',\n",
       "  'global warming potential (GWP100) no LT'),\n",
       " ('EF v3.0 no LT',\n",
       "  'climate change: land use and land use change no LT',\n",
       "  'global warming potential (GWP100) no LT'),\n",
       " ('EF v3.0 no LT',\n",
       "  'ecotoxicity: freshwater no LT',\n",
       "  'comparative toxic unit for ecosystems (CTUe) no LT'),\n",
       " ('EF v3.0 no LT',\n",
       "  'ecotoxicity: freshwater, inorganics no LT',\n",
       "  'comparative toxic unit for ecosystems (CTUe) no LT'),\n",
       " ('EF v3.0 no LT',\n",
       "  'ecotoxicity: freshwater, metals no LT',\n",
       "  'comparative toxic unit for ecosystems (CTUe) no LT'),\n",
       " ('EF v3.0 no LT',\n",
       "  'ecotoxicity: freshwater, organics no LT',\n",
       "  'comparative toxic unit for ecosystems (CTUe) no LT'),\n",
       " ('EF v3.0 no LT',\n",
       "  'energy resources: non-renewable no LT',\n",
       "  'abiotic depletion potential (ADP): fossil fuels no LT'),\n",
       " ('EF v3.0 no LT',\n",
       "  'eutrophication: freshwater no LT',\n",
       "  'fraction of nutrients reaching freshwater end compartment (P) no LT'),\n",
       " ('EF v3.0 no LT',\n",
       "  'eutrophication: marine no LT',\n",
       "  'fraction of nutrients reaching marine end compartment (N) no LT'),\n",
       " ('EF v3.0 no LT',\n",
       "  'eutrophication: terrestrial no LT',\n",
       "  'accumulated exceedance (AE) no LT'),\n",
       " ('EF v3.0 no LT',\n",
       "  'human toxicity: carcinogenic no LT',\n",
       "  'comparative toxic unit for human (CTUh) no LT'),\n",
       " ('EF v3.0 no LT',\n",
       "  'human toxicity: carcinogenic, inorganics no LT',\n",
       "  'comparative toxic unit for human (CTUh) no LT'),\n",
       " ('EF v3.0 no LT',\n",
       "  'human toxicity: carcinogenic, metals no LT',\n",
       "  'comparative toxic unit for human (CTUh) no LT'),\n",
       " ('EF v3.0 no LT',\n",
       "  'human toxicity: carcinogenic, organics no LT',\n",
       "  'comparative toxic unit for human (CTUh) no LT'),\n",
       " ('EF v3.0 no LT',\n",
       "  'human toxicity: non-carcinogenic no LT',\n",
       "  'comparative toxic unit for human (CTUh) no LT'),\n",
       " ('EF v3.0 no LT',\n",
       "  'human toxicity: non-carcinogenic, inorganics no LT',\n",
       "  'comparative toxic unit for human (CTUh) no LT'),\n",
       " ('EF v3.0 no LT',\n",
       "  'human toxicity: non-carcinogenic, metals no LT',\n",
       "  'comparative toxic unit for human (CTUh) no LT'),\n",
       " ('EF v3.0 no LT',\n",
       "  'human toxicity: non-carcinogenic, organics no LT',\n",
       "  'comparative toxic unit for human (CTUh) no LT'),\n",
       " ('EF v3.0 no LT',\n",
       "  'ionising radiation: human health no LT',\n",
       "  'human exposure efficiency relative to u235 no LT'),\n",
       " ('EF v3.0 no LT', 'land use no LT', 'soil quality index no LT'),\n",
       " ('EF v3.0 no LT',\n",
       "  'material resources: metals/minerals no LT',\n",
       "  'abiotic depletion potential (ADP): elements (ultimate reserves) no LT'),\n",
       " ('EF v3.0 no LT',\n",
       "  'ozone depletion no LT',\n",
       "  'ozone depletion potential (ODP) no LT'),\n",
       " ('EF v3.0 no LT',\n",
       "  'particulate matter formation no LT',\n",
       "  'impact on human health no LT'),\n",
       " ('EF v3.0 no LT',\n",
       "  'photochemical oxidant formation: human health no LT',\n",
       "  'tropospheric ozone concentration increase no LT'),\n",
       " ('EF v3.0 no LT',\n",
       "  'water use no LT',\n",
       "  'user deprivation potential (deprivation-weighted water consumption) no LT'),\n",
       " ('EF v3.0', 'acidification', 'accumulated exceedance (AE)'),\n",
       " ('EF v3.0', 'climate change', 'global warming potential (GWP100)'),\n",
       " ('EF v3.0', 'climate change: biogenic', 'global warming potential (GWP100)'),\n",
       " ('EF v3.0', 'climate change: fossil', 'global warming potential (GWP100)'),\n",
       " ('EF v3.0',\n",
       "  'climate change: land use and land use change',\n",
       "  'global warming potential (GWP100)'),\n",
       " ('EF v3.0',\n",
       "  'ecotoxicity: freshwater',\n",
       "  'comparative toxic unit for ecosystems (CTUe)'),\n",
       " ('EF v3.0',\n",
       "  'ecotoxicity: freshwater, inorganics',\n",
       "  'comparative toxic unit for ecosystems (CTUe)'),\n",
       " ('EF v3.0',\n",
       "  'ecotoxicity: freshwater, metals',\n",
       "  'comparative toxic unit for ecosystems (CTUe)'),\n",
       " ('EF v3.0',\n",
       "  'ecotoxicity: freshwater, organics',\n",
       "  'comparative toxic unit for ecosystems (CTUe)'),\n",
       " ('EF v3.0',\n",
       "  'energy resources: non-renewable',\n",
       "  'abiotic depletion potential (ADP): fossil fuels'),\n",
       " ('EF v3.0',\n",
       "  'eutrophication: freshwater',\n",
       "  'fraction of nutrients reaching freshwater end compartment (P)'),\n",
       " ('EF v3.0',\n",
       "  'eutrophication: marine',\n",
       "  'fraction of nutrients reaching marine end compartment (N)'),\n",
       " ('EF v3.0', 'eutrophication: terrestrial', 'accumulated exceedance (AE)'),\n",
       " ('EF v3.0',\n",
       "  'human toxicity: carcinogenic',\n",
       "  'comparative toxic unit for human (CTUh)'),\n",
       " ('EF v3.0',\n",
       "  'human toxicity: carcinogenic, inorganics',\n",
       "  'comparative toxic unit for human (CTUh)'),\n",
       " ('EF v3.0',\n",
       "  'human toxicity: carcinogenic, metals',\n",
       "  'comparative toxic unit for human (CTUh)'),\n",
       " ('EF v3.0',\n",
       "  'human toxicity: carcinogenic, organics',\n",
       "  'comparative toxic unit for human (CTUh)'),\n",
       " ('EF v3.0',\n",
       "  'human toxicity: non-carcinogenic',\n",
       "  'comparative toxic unit for human (CTUh)'),\n",
       " ('EF v3.0',\n",
       "  'human toxicity: non-carcinogenic, inorganics',\n",
       "  'comparative toxic unit for human (CTUh)'),\n",
       " ('EF v3.0',\n",
       "  'human toxicity: non-carcinogenic, metals',\n",
       "  'comparative toxic unit for human (CTUh)'),\n",
       " ('EF v3.0',\n",
       "  'human toxicity: non-carcinogenic, organics',\n",
       "  'comparative toxic unit for human (CTUh)'),\n",
       " ('EF v3.0',\n",
       "  'ionising radiation: human health',\n",
       "  'human exposure efficiency relative to u235'),\n",
       " ('EF v3.0', 'land use', 'soil quality index'),\n",
       " ('EF v3.0',\n",
       "  'material resources: metals/minerals',\n",
       "  'abiotic depletion potential (ADP): elements (ultimate reserves)'),\n",
       " ('EF v3.0', 'ozone depletion', 'ozone depletion potential (ODP)'),\n",
       " ('EF v3.0', 'particulate matter formation', 'impact on human health'),\n",
       " ('EF v3.0',\n",
       "  'photochemical oxidant formation: human health',\n",
       "  'tropospheric ozone concentration increase'),\n",
       " ('EF v3.0',\n",
       "  'water use',\n",
       "  'user deprivation potential (deprivation-weighted water consumption)'),\n",
       " ('EF v3.1 no LT', 'acidification no LT', 'accumulated exceedance (AE) no LT'),\n",
       " ('EF v3.1 no LT',\n",
       "  'climate change no LT',\n",
       "  'global warming potential (GWP100) no LT'),\n",
       " ('EF v3.1 no LT',\n",
       "  'climate change: biogenic no LT',\n",
       "  'global warming potential (GWP100) no LT'),\n",
       " ('EF v3.1 no LT',\n",
       "  'climate change: fossil no LT',\n",
       "  'global warming potential (GWP100) no LT'),\n",
       " ('EF v3.1 no LT',\n",
       "  'climate change: land use and land use change no LT',\n",
       "  'global warming potential (GWP100) no LT'),\n",
       " ('EF v3.1 no LT',\n",
       "  'ecotoxicity: freshwater no LT',\n",
       "  'comparative toxic unit for ecosystems (CTUe) no LT'),\n",
       " ('EF v3.1 no LT',\n",
       "  'ecotoxicity: freshwater, inorganics no LT',\n",
       "  'comparative toxic unit for ecosystems (CTUe) no LT'),\n",
       " ('EF v3.1 no LT',\n",
       "  'ecotoxicity: freshwater, organics no LT',\n",
       "  'comparative toxic unit for ecosystems (CTUe) no LT'),\n",
       " ('EF v3.1 no LT',\n",
       "  'energy resources: non-renewable no LT',\n",
       "  'abiotic depletion potential (ADP): fossil fuels no LT'),\n",
       " ('EF v3.1 no LT',\n",
       "  'eutrophication: freshwater no LT',\n",
       "  'fraction of nutrients reaching freshwater end compartment (P) no LT'),\n",
       " ('EF v3.1 no LT',\n",
       "  'eutrophication: marine no LT',\n",
       "  'fraction of nutrients reaching marine end compartment (N) no LT'),\n",
       " ('EF v3.1 no LT',\n",
       "  'eutrophication: terrestrial no LT',\n",
       "  'accumulated exceedance (AE) no LT'),\n",
       " ('EF v3.1 no LT',\n",
       "  'human toxicity: carcinogenic no LT',\n",
       "  'comparative toxic unit for human (CTUh) no LT'),\n",
       " ('EF v3.1 no LT',\n",
       "  'human toxicity: carcinogenic, inorganics no LT',\n",
       "  'comparative toxic unit for human (CTUh) no LT'),\n",
       " ('EF v3.1 no LT',\n",
       "  'human toxicity: carcinogenic, organics no LT',\n",
       "  'comparative toxic unit for human (CTUh) no LT'),\n",
       " ('EF v3.1 no LT',\n",
       "  'human toxicity: non-carcinogenic no LT',\n",
       "  'comparative toxic unit for human (CTUh) no LT'),\n",
       " ('EF v3.1 no LT',\n",
       "  'human toxicity: non-carcinogenic, inorganics no LT',\n",
       "  'comparative toxic unit for human (CTUh) no LT'),\n",
       " ('EF v3.1 no LT',\n",
       "  'human toxicity: non-carcinogenic, organics no LT',\n",
       "  'comparative toxic unit for human (CTUh) no LT'),\n",
       " ('EF v3.1 no LT',\n",
       "  'ionising radiation: human health no LT',\n",
       "  'human exposure efficiency relative to u235 no LT'),\n",
       " ('EF v3.1 no LT', 'land use no LT', 'soil quality index no LT'),\n",
       " ('EF v3.1 no LT',\n",
       "  'material resources: metals/minerals no LT',\n",
       "  'abiotic depletion potential (ADP): elements (ultimate reserves) no LT'),\n",
       " ('EF v3.1 no LT',\n",
       "  'ozone depletion no LT',\n",
       "  'ozone depletion potential (ODP) no LT'),\n",
       " ('EF v3.1 no LT',\n",
       "  'particulate matter formation no LT',\n",
       "  'impact on human health no LT'),\n",
       " ('EF v3.1 no LT',\n",
       "  'photochemical oxidant formation: human health no LT',\n",
       "  'tropospheric ozone concentration increase no LT'),\n",
       " ('EF v3.1 no LT',\n",
       "  'water use no LT',\n",
       "  'user deprivation potential (deprivation-weighted water consumption) no LT'),\n",
       " ('EF v3.1', 'acidification', 'accumulated exceedance (AE)'),\n",
       " ('EF v3.1', 'climate change', 'global warming potential (GWP100)'),\n",
       " ('EF v3.1', 'climate change: biogenic', 'global warming potential (GWP100)'),\n",
       " ('EF v3.1', 'climate change: fossil', 'global warming potential (GWP100)'),\n",
       " ('EF v3.1',\n",
       "  'climate change: land use and land use change',\n",
       "  'global warming potential (GWP100)'),\n",
       " ('EF v3.1',\n",
       "  'ecotoxicity: freshwater',\n",
       "  'comparative toxic unit for ecosystems (CTUe)'),\n",
       " ('EF v3.1',\n",
       "  'ecotoxicity: freshwater, inorganics',\n",
       "  'comparative toxic unit for ecosystems (CTUe)'),\n",
       " ('EF v3.1',\n",
       "  'ecotoxicity: freshwater, organics',\n",
       "  'comparative toxic unit for ecosystems (CTUe)'),\n",
       " ('EF v3.1',\n",
       "  'energy resources: non-renewable',\n",
       "  'abiotic depletion potential (ADP): fossil fuels'),\n",
       " ('EF v3.1',\n",
       "  'eutrophication: freshwater',\n",
       "  'fraction of nutrients reaching freshwater end compartment (P)'),\n",
       " ('EF v3.1',\n",
       "  'eutrophication: marine',\n",
       "  'fraction of nutrients reaching marine end compartment (N)'),\n",
       " ('EF v3.1', 'eutrophication: terrestrial', 'accumulated exceedance (AE)'),\n",
       " ('EF v3.1',\n",
       "  'human toxicity: carcinogenic',\n",
       "  'comparative toxic unit for human (CTUh)'),\n",
       " ('EF v3.1',\n",
       "  'human toxicity: carcinogenic, inorganics',\n",
       "  'comparative toxic unit for human (CTUh)'),\n",
       " ('EF v3.1',\n",
       "  'human toxicity: carcinogenic, organics',\n",
       "  'comparative toxic unit for human (CTUh)'),\n",
       " ('EF v3.1',\n",
       "  'human toxicity: non-carcinogenic',\n",
       "  'comparative toxic unit for human (CTUh)'),\n",
       " ('EF v3.1',\n",
       "  'human toxicity: non-carcinogenic, inorganics',\n",
       "  'comparative toxic unit for human (CTUh)'),\n",
       " ('EF v3.1',\n",
       "  'human toxicity: non-carcinogenic, organics',\n",
       "  'comparative toxic unit for human (CTUh)'),\n",
       " ('EF v3.1',\n",
       "  'ionising radiation: human health',\n",
       "  'human exposure efficiency relative to u235'),\n",
       " ('EF v3.1', 'land use', 'soil quality index'),\n",
       " ('EF v3.1',\n",
       "  'material resources: metals/minerals',\n",
       "  'abiotic depletion potential (ADP): elements (ultimate reserves)'),\n",
       " ('EF v3.1', 'ozone depletion', 'ozone depletion potential (ODP)'),\n",
       " ('EF v3.1', 'particulate matter formation', 'impact on human health'),\n",
       " ('EF v3.1',\n",
       "  'photochemical oxidant formation: human health',\n",
       "  'tropospheric ozone concentration increase'),\n",
       " ('EF v3.1',\n",
       "  'water use',\n",
       "  'user deprivation potential (deprivation-weighted water consumption)'),\n",
       " ('EPS 2020d no LT', 'emissions to air no LT', 'monetary impact value no LT'),\n",
       " ('EPS 2020d no LT', 'emissions to soil no LT', 'monetary impact value no LT'),\n",
       " ('EPS 2020d no LT',\n",
       "  'emissions to water no LT',\n",
       "  'monetary impact value no LT'),\n",
       " ('EPS 2020d no LT',\n",
       "  'energy resources: non-renewable, fossil no LT',\n",
       "  'monetary impact value no LT'),\n",
       " ('EPS 2020d no LT', 'land use no LT', 'monetary impact value no LT'),\n",
       " ('EPS 2020d no LT',\n",
       "  'material resources: metals no LT',\n",
       "  'monetary impact value no LT'),\n",
       " ('EPS 2020d no LT', 'total no LT', 'monetary impact value no LT'),\n",
       " ('EPS 2020d', 'emissions to air', 'monetary impact value'),\n",
       " ('EPS 2020d', 'emissions to soil', 'monetary impact value'),\n",
       " ('EPS 2020d', 'emissions to water', 'monetary impact value'),\n",
       " ('EPS 2020d',\n",
       "  'energy resources: non-renewable, fossil',\n",
       "  'monetary impact value'),\n",
       " ('EPS 2020d', 'land use', 'monetary impact value'),\n",
       " ('EPS 2020d', 'material resources: metals', 'monetary impact value'),\n",
       " ('EPS 2020d', 'total', 'monetary impact value'),\n",
       " ('IMPACT 2002+ (Endpoint)', 'climate change', 'climate change'),\n",
       " ('IMPACT 2002+ (Endpoint)', 'climate change', 'total'),\n",
       " ('IMPACT 2002+ (Endpoint)', 'ecosystem quality', 'aquatic ecotoxicity'),\n",
       " ('IMPACT 2002+ (Endpoint)', 'ecosystem quality', 'land occupation'),\n",
       " ('IMPACT 2002+ (Endpoint)',\n",
       "  'ecosystem quality',\n",
       "  'terrestrial acidification & nutrification'),\n",
       " ('IMPACT 2002+ (Endpoint)', 'ecosystem quality', 'terrestrial ecotoxicity'),\n",
       " ('IMPACT 2002+ (Endpoint)', 'ecosystem quality', 'total'),\n",
       " ('IMPACT 2002+ (Endpoint)', 'human health', 'human toxicity'),\n",
       " ('IMPACT 2002+ (Endpoint)', 'human health', 'ionising radiation'),\n",
       " ('IMPACT 2002+ (Endpoint)', 'human health', 'ozone layer depletion'),\n",
       " ('IMPACT 2002+ (Endpoint)', 'human health', 'photochemical oxidation'),\n",
       " ('IMPACT 2002+ (Endpoint)',\n",
       "  'human health',\n",
       "  'respiratory effects (inorganics)'),\n",
       " ('IMPACT 2002+ (Endpoint)', 'human health', 'total'),\n",
       " ('IMPACT 2002+ (Endpoint)', 'resources', 'mineral extraction'),\n",
       " ('IMPACT 2002+ (Endpoint)', 'resources', 'non-renewable energy'),\n",
       " ('IMPACT 2002+ (Endpoint)', 'resources', 'total'),\n",
       " ('IMPACT 2002+ (Midpoint)', 'ecosystem quality', 'aquatic acidification'),\n",
       " ('IMPACT 2002+ (Midpoint)', 'ecosystem quality', 'aquatic eutrophication'),\n",
       " ('IPCC 2013 no LT',\n",
       "  'climate change no LT',\n",
       "  'global temperature change potential (GTP100) no LT'),\n",
       " ('IPCC 2013 no LT',\n",
       "  'climate change no LT',\n",
       "  'global temperature change potential (GTP20) no LT'),\n",
       " ('IPCC 2013 no LT',\n",
       "  'climate change no LT',\n",
       "  'global warming potential (GWP100) no LT'),\n",
       " ('IPCC 2013 no LT',\n",
       "  'climate change no LT',\n",
       "  'global warming potential (GWP20) no LT'),\n",
       " ('IPCC 2013',\n",
       "  'climate change',\n",
       "  'global temperature change potential (GTP100)'),\n",
       " ('IPCC 2013',\n",
       "  'climate change',\n",
       "  'global temperature change potential (GTP20)'),\n",
       " ('IPCC 2013', 'climate change', 'global warming potential (GWP100)'),\n",
       " ('IPCC 2013', 'climate change', 'global warming potential (GWP20)'),\n",
       " ('IPCC 2021 no LT',\n",
       "  'climate change no LT',\n",
       "  'global temperature change potential (GTP100) no LT'),\n",
       " ('IPCC 2021 no LT',\n",
       "  'climate change no LT',\n",
       "  'global temperature change potential (GTP50) no LT'),\n",
       " ('IPCC 2021 no LT',\n",
       "  'climate change no LT',\n",
       "  'global warming potential (GWP100) no LT'),\n",
       " ('IPCC 2021 no LT',\n",
       "  'climate change no LT',\n",
       "  'global warming potential (GWP20) no LT'),\n",
       " ('IPCC 2021 no LT',\n",
       "  'climate change no LT',\n",
       "  'global warming potential (GWP500) no LT'),\n",
       " ('IPCC 2021 no LT',\n",
       "  'climate change: biogenic no LT',\n",
       "  'global temperature change potential (GTP100) no LT'),\n",
       " ('IPCC 2021 no LT',\n",
       "  'climate change: biogenic no LT',\n",
       "  'global temperature change potential (GTP50) no LT'),\n",
       " ('IPCC 2021 no LT',\n",
       "  'climate change: biogenic no LT',\n",
       "  'global warming potential (GWP100) no LT'),\n",
       " ('IPCC 2021 no LT',\n",
       "  'climate change: biogenic no LT',\n",
       "  'global warming potential (GWP20) no LT'),\n",
       " ('IPCC 2021 no LT',\n",
       "  'climate change: biogenic no LT',\n",
       "  'global warming potential (GWP500) no LT'),\n",
       " ('IPCC 2021 no LT',\n",
       "  'climate change: biogenic, including SLCFs no LT',\n",
       "  'global temperature change potential (GTP100) no LT'),\n",
       " ('IPCC 2021 no LT',\n",
       "  'climate change: biogenic, including SLCFs no LT',\n",
       "  'global warming potential (GWP100) no LT'),\n",
       " ('IPCC 2021 no LT',\n",
       "  'climate change: biogenic, including SLCFs no LT',\n",
       "  'global warming potential (GWP20) no LT'),\n",
       " ('IPCC 2021 no LT',\n",
       "  'climate change: fossil no LT',\n",
       "  'global temperature change potential (GTP100) no LT'),\n",
       " ('IPCC 2021 no LT',\n",
       "  'climate change: fossil no LT',\n",
       "  'global temperature change potential (GTP50) no LT'),\n",
       " ('IPCC 2021 no LT',\n",
       "  'climate change: fossil no LT',\n",
       "  'global warming potential (GWP100) no LT'),\n",
       " ('IPCC 2021 no LT',\n",
       "  'climate change: fossil no LT',\n",
       "  'global warming potential (GWP20) no LT'),\n",
       " ('IPCC 2021 no LT',\n",
       "  'climate change: fossil no LT',\n",
       "  'global warming potential (GWP500) no LT'),\n",
       " ('IPCC 2021 no LT',\n",
       "  'climate change: fossil, including SLCFs no LT',\n",
       "  'global temperature change potential (GTP100) no LT'),\n",
       " ('IPCC 2021 no LT',\n",
       "  'climate change: fossil, including SLCFs no LT',\n",
       "  'global warming potential (GWP100) no LT'),\n",
       " ('IPCC 2021 no LT',\n",
       "  'climate change: fossil, including SLCFs no LT',\n",
       "  'global warming potential (GWP20) no LT'),\n",
       " ('IPCC 2021 no LT',\n",
       "  'climate change: including SLCFs no LT',\n",
       "  'global temperature change potential (GTP100) no LT'),\n",
       " ('IPCC 2021 no LT',\n",
       "  'climate change: including SLCFs no LT',\n",
       "  'global warming potential (GWP100) no LT'),\n",
       " ('IPCC 2021 no LT',\n",
       "  'climate change: including SLCFs no LT',\n",
       "  'global warming potential (GWP20) no LT'),\n",
       " ('IPCC 2021 no LT',\n",
       "  'climate change: land use no LT',\n",
       "  'global temperature change potential (GTP100) no LT'),\n",
       " ('IPCC 2021 no LT',\n",
       "  'climate change: land use no LT',\n",
       "  'global temperature change potential (GTP50) no LT'),\n",
       " ('IPCC 2021 no LT',\n",
       "  'climate change: land use no LT',\n",
       "  'global warming potential (GWP100) no LT'),\n",
       " ('IPCC 2021 no LT',\n",
       "  'climate change: land use no LT',\n",
       "  'global warming potential (GWP20) no LT'),\n",
       " ('IPCC 2021 no LT',\n",
       "  'climate change: land use no LT',\n",
       "  'global warming potential (GWP500) no LT'),\n",
       " ('IPCC 2021 no LT',\n",
       "  'climate change: land use, including SLCFs no LT',\n",
       "  'global temperature change potential (GTP100) no LT'),\n",
       " ('IPCC 2021 no LT',\n",
       "  'climate change: land use, including SLCFs no LT',\n",
       "  'global warming potential (GWP100) no LT'),\n",
       " ('IPCC 2021 no LT',\n",
       "  'climate change: land use, including SLCFs no LT',\n",
       "  'global warming potential (GWP20) no LT'),\n",
       " ('IPCC 2021',\n",
       "  'climate change',\n",
       "  'global temperature change potential (GTP100)'),\n",
       " ('IPCC 2021',\n",
       "  'climate change',\n",
       "  'global temperature change potential (GTP50)'),\n",
       " ('IPCC 2021', 'climate change', 'global warming potential (GWP100)'),\n",
       " ('IPCC 2021', 'climate change', 'global warming potential (GWP20)'),\n",
       " ('IPCC 2021', 'climate change', 'global warming potential (GWP500)'),\n",
       " ('IPCC 2021',\n",
       "  'climate change: biogenic',\n",
       "  'global temperature change potential (GTP100)'),\n",
       " ('IPCC 2021',\n",
       "  'climate change: biogenic',\n",
       "  'global temperature change potential (GTP50)'),\n",
       " ('IPCC 2021',\n",
       "  'climate change: biogenic',\n",
       "  'global warming potential (GWP100)'),\n",
       " ('IPCC 2021', 'climate change: biogenic', 'global warming potential (GWP20)'),\n",
       " ('IPCC 2021',\n",
       "  'climate change: biogenic',\n",
       "  'global warming potential (GWP500)'),\n",
       " ('IPCC 2021',\n",
       "  'climate change: biogenic, including SLCFs',\n",
       "  'global temperature change potential (GTP100)'),\n",
       " ('IPCC 2021',\n",
       "  'climate change: biogenic, including SLCFs',\n",
       "  'global warming potential (GWP100)'),\n",
       " ('IPCC 2021',\n",
       "  'climate change: biogenic, including SLCFs',\n",
       "  'global warming potential (GWP20)'),\n",
       " ('IPCC 2021',\n",
       "  'climate change: fossil',\n",
       "  'global temperature change potential (GTP100)'),\n",
       " ('IPCC 2021',\n",
       "  'climate change: fossil',\n",
       "  'global temperature change potential (GTP50)'),\n",
       " ('IPCC 2021', 'climate change: fossil', 'global warming potential (GWP100)'),\n",
       " ('IPCC 2021', 'climate change: fossil', 'global warming potential (GWP20)'),\n",
       " ('IPCC 2021', 'climate change: fossil', 'global warming potential (GWP500)'),\n",
       " ('IPCC 2021',\n",
       "  'climate change: fossil, including SLCFs',\n",
       "  'global temperature change potential (GTP100)'),\n",
       " ('IPCC 2021',\n",
       "  'climate change: fossil, including SLCFs',\n",
       "  'global warming potential (GWP100)'),\n",
       " ('IPCC 2021',\n",
       "  'climate change: fossil, including SLCFs',\n",
       "  'global warming potential (GWP20)'),\n",
       " ('IPCC 2021',\n",
       "  'climate change: including SLCFs',\n",
       "  'global temperature change potential (GTP100)'),\n",
       " ('IPCC 2021',\n",
       "  'climate change: including SLCFs',\n",
       "  'global warming potential (GWP100)'),\n",
       " ('IPCC 2021',\n",
       "  'climate change: including SLCFs',\n",
       "  'global warming potential (GWP20)'),\n",
       " ('IPCC 2021',\n",
       "  'climate change: land use',\n",
       "  'global temperature change potential (GTP100)'),\n",
       " ('IPCC 2021',\n",
       "  'climate change: land use',\n",
       "  'global temperature change potential (GTP50)'),\n",
       " ('IPCC 2021',\n",
       "  'climate change: land use',\n",
       "  'global warming potential (GWP100)'),\n",
       " ('IPCC 2021', 'climate change: land use', 'global warming potential (GWP20)'),\n",
       " ('IPCC 2021',\n",
       "  'climate change: land use',\n",
       "  'global warming potential (GWP500)'),\n",
       " ('IPCC 2021',\n",
       "  'climate change: land use, including SLCFs',\n",
       "  'global temperature change potential (GTP100)'),\n",
       " ('IPCC 2021',\n",
       "  'climate change: land use, including SLCFs',\n",
       "  'global warming potential (GWP100)'),\n",
       " ('IPCC 2021',\n",
       "  'climate change: land use, including SLCFs',\n",
       "  'global warming potential (GWP20)'),\n",
       " ('ReCiPe 2016 v1.03, endpoint (E) no LT',\n",
       "  'ecosystem quality no LT',\n",
       "  'acidification: terrestrial no LT'),\n",
       " ('ReCiPe 2016 v1.03, endpoint (E) no LT',\n",
       "  'ecosystem quality no LT',\n",
       "  'climate change: freshwater ecosystems no LT'),\n",
       " ('ReCiPe 2016 v1.03, endpoint (E) no LT',\n",
       "  'ecosystem quality no LT',\n",
       "  'climate change: terrestrial ecosystems no LT'),\n",
       " ('ReCiPe 2016 v1.03, endpoint (E) no LT',\n",
       "  'ecosystem quality no LT',\n",
       "  'ecotoxicity: freshwater no LT'),\n",
       " ('ReCiPe 2016 v1.03, endpoint (E) no LT',\n",
       "  'ecosystem quality no LT',\n",
       "  'ecotoxicity: marine no LT'),\n",
       " ('ReCiPe 2016 v1.03, endpoint (E) no LT',\n",
       "  'ecosystem quality no LT',\n",
       "  'ecotoxicity: terrestrial no LT'),\n",
       " ('ReCiPe 2016 v1.03, endpoint (E) no LT',\n",
       "  'ecosystem quality no LT',\n",
       "  'eutrophication: freshwater no LT'),\n",
       " ('ReCiPe 2016 v1.03, endpoint (E) no LT',\n",
       "  'ecosystem quality no LT',\n",
       "  'eutrophication: marine no LT'),\n",
       " ('ReCiPe 2016 v1.03, endpoint (E) no LT',\n",
       "  'ecosystem quality no LT',\n",
       "  'land use no LT'),\n",
       " ('ReCiPe 2016 v1.03, endpoint (E) no LT',\n",
       "  'ecosystem quality no LT',\n",
       "  'photochemical oxidant formation: terrestrial ecosystems no LT'),\n",
       " ('ReCiPe 2016 v1.03, endpoint (E) no LT',\n",
       "  'ecosystem quality no LT',\n",
       "  'water use: aquatic ecosystems no LT'),\n",
       " ('ReCiPe 2016 v1.03, endpoint (E) no LT',\n",
       "  'ecosystem quality no LT',\n",
       "  'water use: terrestrial ecosystems no LT'),\n",
       " ('ReCiPe 2016 v1.03, endpoint (E) no LT',\n",
       "  'human health no LT',\n",
       "  'climate change: human health no LT'),\n",
       " ('ReCiPe 2016 v1.03, endpoint (E) no LT',\n",
       "  'human health no LT',\n",
       "  'human toxicity: carcinogenic no LT'),\n",
       " ('ReCiPe 2016 v1.03, endpoint (E) no LT',\n",
       "  'human health no LT',\n",
       "  'human toxicity: non-carcinogenic no LT'),\n",
       " ('ReCiPe 2016 v1.03, endpoint (E) no LT',\n",
       "  'human health no LT',\n",
       "  'ionising radiation no LT'),\n",
       " ('ReCiPe 2016 v1.03, endpoint (E) no LT',\n",
       "  'human health no LT',\n",
       "  'ozone depletion no LT'),\n",
       " ('ReCiPe 2016 v1.03, endpoint (E) no LT',\n",
       "  'human health no LT',\n",
       "  'particulate matter formation no LT'),\n",
       " ('ReCiPe 2016 v1.03, endpoint (E) no LT',\n",
       "  'human health no LT',\n",
       "  'photochemical oxidant formation: human health no LT'),\n",
       " ('ReCiPe 2016 v1.03, endpoint (E) no LT',\n",
       "  'human health no LT',\n",
       "  'water use: human health no LT'),\n",
       " ('ReCiPe 2016 v1.03, endpoint (E) no LT',\n",
       "  'natural resources no LT',\n",
       "  'energy resources: non-renewable, fossil no LT'),\n",
       " ('ReCiPe 2016 v1.03, endpoint (E) no LT',\n",
       "  'natural resources no LT',\n",
       "  'material resources: metals/minerals no LT'),\n",
       " ('ReCiPe 2016 v1.03, endpoint (E) no LT',\n",
       "  'total: ecosystem quality no LT',\n",
       "  'ecosystem quality no LT'),\n",
       " ('ReCiPe 2016 v1.03, endpoint (E) no LT',\n",
       "  'total: human health no LT',\n",
       "  'human health no LT'),\n",
       " ('ReCiPe 2016 v1.03, endpoint (E) no LT',\n",
       "  'total: natural resources no LT',\n",
       "  'natural resources no LT'),\n",
       " ('ReCiPe 2016 v1.03, endpoint (E)',\n",
       "  'ecosystem quality',\n",
       "  'acidification: terrestrial'),\n",
       " ('ReCiPe 2016 v1.03, endpoint (E)',\n",
       "  'ecosystem quality',\n",
       "  'climate change: freshwater ecosystems'),\n",
       " ('ReCiPe 2016 v1.03, endpoint (E)',\n",
       "  'ecosystem quality',\n",
       "  'climate change: terrestrial ecosystems'),\n",
       " ('ReCiPe 2016 v1.03, endpoint (E)',\n",
       "  'ecosystem quality',\n",
       "  'ecotoxicity: freshwater'),\n",
       " ('ReCiPe 2016 v1.03, endpoint (E)',\n",
       "  'ecosystem quality',\n",
       "  'ecotoxicity: marine'),\n",
       " ('ReCiPe 2016 v1.03, endpoint (E)',\n",
       "  'ecosystem quality',\n",
       "  'ecotoxicity: terrestrial'),\n",
       " ('ReCiPe 2016 v1.03, endpoint (E)',\n",
       "  'ecosystem quality',\n",
       "  'eutrophication: freshwater'),\n",
       " ('ReCiPe 2016 v1.03, endpoint (E)',\n",
       "  'ecosystem quality',\n",
       "  'eutrophication: marine'),\n",
       " ('ReCiPe 2016 v1.03, endpoint (E)', 'ecosystem quality', 'land use'),\n",
       " ('ReCiPe 2016 v1.03, endpoint (E)',\n",
       "  'ecosystem quality',\n",
       "  'photochemical oxidant formation: terrestrial ecosystems'),\n",
       " ('ReCiPe 2016 v1.03, endpoint (E)',\n",
       "  'ecosystem quality',\n",
       "  'water use: aquatic ecosystems'),\n",
       " ('ReCiPe 2016 v1.03, endpoint (E)',\n",
       "  'ecosystem quality',\n",
       "  'water use: terrestrial ecosystems'),\n",
       " ('ReCiPe 2016 v1.03, endpoint (E)',\n",
       "  'human health',\n",
       "  'climate change: human health'),\n",
       " ('ReCiPe 2016 v1.03, endpoint (E)',\n",
       "  'human health',\n",
       "  'human toxicity: carcinogenic'),\n",
       " ('ReCiPe 2016 v1.03, endpoint (E)',\n",
       "  'human health',\n",
       "  'human toxicity: non-carcinogenic'),\n",
       " ('ReCiPe 2016 v1.03, endpoint (E)', 'human health', 'ionising radiation'),\n",
       " ('ReCiPe 2016 v1.03, endpoint (E)', 'human health', 'ozone depletion'),\n",
       " ('ReCiPe 2016 v1.03, endpoint (E)',\n",
       "  'human health',\n",
       "  'particulate matter formation'),\n",
       " ('ReCiPe 2016 v1.03, endpoint (E)',\n",
       "  'human health',\n",
       "  'photochemical oxidant formation: human health'),\n",
       " ('ReCiPe 2016 v1.03, endpoint (E)',\n",
       "  'human health',\n",
       "  'water use: human health'),\n",
       " ('ReCiPe 2016 v1.03, endpoint (E)',\n",
       "  'natural resources',\n",
       "  'energy resources: non-renewable, fossil'),\n",
       " ('ReCiPe 2016 v1.03, endpoint (E)',\n",
       "  'natural resources',\n",
       "  'material resources: metals/minerals'),\n",
       " ('ReCiPe 2016 v1.03, endpoint (E)',\n",
       "  'total: ecosystem quality',\n",
       "  'ecosystem quality'),\n",
       " ('ReCiPe 2016 v1.03, endpoint (E)', 'total: human health', 'human health'),\n",
       " ('ReCiPe 2016 v1.03, endpoint (E)',\n",
       "  'total: natural resources',\n",
       "  'natural resources'),\n",
       " ('ReCiPe 2016 v1.03, endpoint (H) no LT',\n",
       "  'ecosystem quality no LT',\n",
       "  'acidification: terrestrial no LT'),\n",
       " ('ReCiPe 2016 v1.03, endpoint (H) no LT',\n",
       "  'ecosystem quality no LT',\n",
       "  'climate change: freshwater ecosystems no LT'),\n",
       " ('ReCiPe 2016 v1.03, endpoint (H) no LT',\n",
       "  'ecosystem quality no LT',\n",
       "  'climate change: terrestrial ecosystems no LT'),\n",
       " ('ReCiPe 2016 v1.03, endpoint (H) no LT',\n",
       "  'ecosystem quality no LT',\n",
       "  'ecotoxicity: freshwater no LT'),\n",
       " ('ReCiPe 2016 v1.03, endpoint (H) no LT',\n",
       "  'ecosystem quality no LT',\n",
       "  'ecotoxicity: marine no LT'),\n",
       " ('ReCiPe 2016 v1.03, endpoint (H) no LT',\n",
       "  'ecosystem quality no LT',\n",
       "  'ecotoxicity: terrestrial no LT'),\n",
       " ('ReCiPe 2016 v1.03, endpoint (H) no LT',\n",
       "  'ecosystem quality no LT',\n",
       "  'eutrophication: freshwater no LT'),\n",
       " ('ReCiPe 2016 v1.03, endpoint (H) no LT',\n",
       "  'ecosystem quality no LT',\n",
       "  'eutrophication: marine no LT'),\n",
       " ('ReCiPe 2016 v1.03, endpoint (H) no LT',\n",
       "  'ecosystem quality no LT',\n",
       "  'land use no LT'),\n",
       " ('ReCiPe 2016 v1.03, endpoint (H) no LT',\n",
       "  'ecosystem quality no LT',\n",
       "  'photochemical oxidant formation: terrestrial ecosystems no LT'),\n",
       " ('ReCiPe 2016 v1.03, endpoint (H) no LT',\n",
       "  'ecosystem quality no LT',\n",
       "  'water use: aquatic ecosystems no LT'),\n",
       " ('ReCiPe 2016 v1.03, endpoint (H) no LT',\n",
       "  'ecosystem quality no LT',\n",
       "  'water use: terrestrial ecosystems no LT'),\n",
       " ('ReCiPe 2016 v1.03, endpoint (H) no LT',\n",
       "  'human health no LT',\n",
       "  'climate change: human health no LT'),\n",
       " ('ReCiPe 2016 v1.03, endpoint (H) no LT',\n",
       "  'human health no LT',\n",
       "  'human toxicity: carcinogenic no LT'),\n",
       " ('ReCiPe 2016 v1.03, endpoint (H) no LT',\n",
       "  'human health no LT',\n",
       "  'human toxicity: non-carcinogenic no LT'),\n",
       " ('ReCiPe 2016 v1.03, endpoint (H) no LT',\n",
       "  'human health no LT',\n",
       "  'ionising radiation no LT'),\n",
       " ('ReCiPe 2016 v1.03, endpoint (H) no LT',\n",
       "  'human health no LT',\n",
       "  'ozone depletion no LT'),\n",
       " ('ReCiPe 2016 v1.03, endpoint (H) no LT',\n",
       "  'human health no LT',\n",
       "  'particulate matter formation no LT'),\n",
       " ('ReCiPe 2016 v1.03, endpoint (H) no LT',\n",
       "  'human health no LT',\n",
       "  'photochemical oxidant formation: human health no LT'),\n",
       " ('ReCiPe 2016 v1.03, endpoint (H) no LT',\n",
       "  'human health no LT',\n",
       "  'water use: human health no LT'),\n",
       " ('ReCiPe 2016 v1.03, endpoint (H) no LT',\n",
       "  'natural resources no LT',\n",
       "  'energy resources: non-renewable, fossil no LT'),\n",
       " ('ReCiPe 2016 v1.03, endpoint (H) no LT',\n",
       "  'natural resources no LT',\n",
       "  'material resources: metals/minerals no LT'),\n",
       " ('ReCiPe 2016 v1.03, endpoint (H) no LT',\n",
       "  'total: ecosystem quality no LT',\n",
       "  'ecosystem quality no LT'),\n",
       " ('ReCiPe 2016 v1.03, endpoint (H) no LT',\n",
       "  'total: human health no LT',\n",
       "  'human health no LT'),\n",
       " ('ReCiPe 2016 v1.03, endpoint (H) no LT',\n",
       "  'total: natural resources no LT',\n",
       "  'natural resources no LT'),\n",
       " ('ReCiPe 2016 v1.03, endpoint (H)',\n",
       "  'ecosystem quality',\n",
       "  'acidification: terrestrial'),\n",
       " ('ReCiPe 2016 v1.03, endpoint (H)',\n",
       "  'ecosystem quality',\n",
       "  'climate change: freshwater ecosystems'),\n",
       " ('ReCiPe 2016 v1.03, endpoint (H)',\n",
       "  'ecosystem quality',\n",
       "  'climate change: terrestrial ecosystems'),\n",
       " ('ReCiPe 2016 v1.03, endpoint (H)',\n",
       "  'ecosystem quality',\n",
       "  'ecotoxicity: freshwater'),\n",
       " ('ReCiPe 2016 v1.03, endpoint (H)',\n",
       "  'ecosystem quality',\n",
       "  'ecotoxicity: marine'),\n",
       " ('ReCiPe 2016 v1.03, endpoint (H)',\n",
       "  'ecosystem quality',\n",
       "  'ecotoxicity: terrestrial'),\n",
       " ('ReCiPe 2016 v1.03, endpoint (H)',\n",
       "  'ecosystem quality',\n",
       "  'eutrophication: freshwater'),\n",
       " ('ReCiPe 2016 v1.03, endpoint (H)',\n",
       "  'ecosystem quality',\n",
       "  'eutrophication: marine'),\n",
       " ('ReCiPe 2016 v1.03, endpoint (H)', 'ecosystem quality', 'land use'),\n",
       " ('ReCiPe 2016 v1.03, endpoint (H)',\n",
       "  'ecosystem quality',\n",
       "  'photochemical oxidant formation: terrestrial ecosystems'),\n",
       " ('ReCiPe 2016 v1.03, endpoint (H)',\n",
       "  'ecosystem quality',\n",
       "  'water use: aquatic ecosystems'),\n",
       " ('ReCiPe 2016 v1.03, endpoint (H)',\n",
       "  'ecosystem quality',\n",
       "  'water use: terrestrial ecosystems'),\n",
       " ('ReCiPe 2016 v1.03, endpoint (H)',\n",
       "  'human health',\n",
       "  'climate change: human health'),\n",
       " ('ReCiPe 2016 v1.03, endpoint (H)',\n",
       "  'human health',\n",
       "  'human toxicity: carcinogenic'),\n",
       " ('ReCiPe 2016 v1.03, endpoint (H)',\n",
       "  'human health',\n",
       "  'human toxicity: non-carcinogenic'),\n",
       " ('ReCiPe 2016 v1.03, endpoint (H)', 'human health', 'ionising radiation'),\n",
       " ('ReCiPe 2016 v1.03, endpoint (H)', 'human health', 'ozone depletion'),\n",
       " ('ReCiPe 2016 v1.03, endpoint (H)',\n",
       "  'human health',\n",
       "  'particulate matter formation'),\n",
       " ('ReCiPe 2016 v1.03, endpoint (H)',\n",
       "  'human health',\n",
       "  'photochemical oxidant formation: human health'),\n",
       " ('ReCiPe 2016 v1.03, endpoint (H)',\n",
       "  'human health',\n",
       "  'water use: human health'),\n",
       " ('ReCiPe 2016 v1.03, endpoint (H)',\n",
       "  'natural resources',\n",
       "  'energy resources: non-renewable, fossil'),\n",
       " ('ReCiPe 2016 v1.03, endpoint (H)',\n",
       "  'natural resources',\n",
       "  'material resources: metals/minerals'),\n",
       " ('ReCiPe 2016 v1.03, endpoint (H)',\n",
       "  'total: ecosystem quality',\n",
       "  'ecosystem quality'),\n",
       " ('ReCiPe 2016 v1.03, endpoint (H)', 'total: human health', 'human health'),\n",
       " ('ReCiPe 2016 v1.03, endpoint (H)',\n",
       "  'total: natural resources',\n",
       "  'natural resources'),\n",
       " ('ReCiPe 2016 v1.03, endpoint (I) no LT',\n",
       "  'ecosystem quality no LT',\n",
       "  'acidification: terrestrial no LT'),\n",
       " ('ReCiPe 2016 v1.03, endpoint (I) no LT',\n",
       "  'ecosystem quality no LT',\n",
       "  'climate change: freshwater ecosystems no LT'),\n",
       " ('ReCiPe 2016 v1.03, endpoint (I) no LT',\n",
       "  'ecosystem quality no LT',\n",
       "  'climate change: terrestrial ecosystems no LT'),\n",
       " ('ReCiPe 2016 v1.03, endpoint (I) no LT',\n",
       "  'ecosystem quality no LT',\n",
       "  'ecotoxicity: freshwater no LT'),\n",
       " ('ReCiPe 2016 v1.03, endpoint (I) no LT',\n",
       "  'ecosystem quality no LT',\n",
       "  'ecotoxicity: marine no LT'),\n",
       " ('ReCiPe 2016 v1.03, endpoint (I) no LT',\n",
       "  'ecosystem quality no LT',\n",
       "  'ecotoxicity: terrestrial no LT'),\n",
       " ('ReCiPe 2016 v1.03, endpoint (I) no LT',\n",
       "  'ecosystem quality no LT',\n",
       "  'eutrophication: freshwater no LT'),\n",
       " ('ReCiPe 2016 v1.03, endpoint (I) no LT',\n",
       "  'ecosystem quality no LT',\n",
       "  'eutrophication: marine no LT'),\n",
       " ('ReCiPe 2016 v1.03, endpoint (I) no LT',\n",
       "  'ecosystem quality no LT',\n",
       "  'land use no LT'),\n",
       " ('ReCiPe 2016 v1.03, endpoint (I) no LT',\n",
       "  'ecosystem quality no LT',\n",
       "  'photochemical oxidant formation: terrestrial ecosystems no LT'),\n",
       " ('ReCiPe 2016 v1.03, endpoint (I) no LT',\n",
       "  'ecosystem quality no LT',\n",
       "  'water use: aquatic ecosystems no LT'),\n",
       " ('ReCiPe 2016 v1.03, endpoint (I) no LT',\n",
       "  'human health no LT',\n",
       "  'climate change: human health no LT'),\n",
       " ('ReCiPe 2016 v1.03, endpoint (I) no LT',\n",
       "  'human health no LT',\n",
       "  'human toxicity: carcinogenic no LT'),\n",
       " ('ReCiPe 2016 v1.03, endpoint (I) no LT',\n",
       "  'human health no LT',\n",
       "  'human toxicity: non-carcinogenic no LT'),\n",
       " ('ReCiPe 2016 v1.03, endpoint (I) no LT',\n",
       "  'human health no LT',\n",
       "  'ionising radiation no LT'),\n",
       " ('ReCiPe 2016 v1.03, endpoint (I) no LT',\n",
       "  'human health no LT',\n",
       "  'ozone depletion no LT'),\n",
       " ('ReCiPe 2016 v1.03, endpoint (I) no LT',\n",
       "  'human health no LT',\n",
       "  'particulate matter formation no LT'),\n",
       " ('ReCiPe 2016 v1.03, endpoint (I) no LT',\n",
       "  'human health no LT',\n",
       "  'photochemical oxidant formation: human health no LT'),\n",
       " ('ReCiPe 2016 v1.03, endpoint (I) no LT',\n",
       "  'human health no LT',\n",
       "  'water use: human health no LT'),\n",
       " ('ReCiPe 2016 v1.03, endpoint (I) no LT',\n",
       "  'natural resources no LT',\n",
       "  'energy resources: non-renewable, fossil no LT'),\n",
       " ('ReCiPe 2016 v1.03, endpoint (I) no LT',\n",
       "  'natural resources no LT',\n",
       "  'material resources: metals/minerals no LT'),\n",
       " ('ReCiPe 2016 v1.03, endpoint (I) no LT',\n",
       "  'total: ecosystem quality no LT',\n",
       "  'ecosystem quality no LT'),\n",
       " ('ReCiPe 2016 v1.03, endpoint (I) no LT',\n",
       "  'total: human health no LT',\n",
       "  'human health no LT'),\n",
       " ('ReCiPe 2016 v1.03, endpoint (I) no LT',\n",
       "  'total: natural resources no LT',\n",
       "  'natural resources no LT'),\n",
       " ('ReCiPe 2016 v1.03, endpoint (I)',\n",
       "  'ecosystem quality',\n",
       "  'acidification: terrestrial'),\n",
       " ('ReCiPe 2016 v1.03, endpoint (I)',\n",
       "  'ecosystem quality',\n",
       "  'climate change: freshwater ecosystems'),\n",
       " ('ReCiPe 2016 v1.03, endpoint (I)',\n",
       "  'ecosystem quality',\n",
       "  'climate change: terrestrial ecosystems'),\n",
       " ('ReCiPe 2016 v1.03, endpoint (I)',\n",
       "  'ecosystem quality',\n",
       "  'ecotoxicity: freshwater'),\n",
       " ('ReCiPe 2016 v1.03, endpoint (I)',\n",
       "  'ecosystem quality',\n",
       "  'ecotoxicity: marine'),\n",
       " ('ReCiPe 2016 v1.03, endpoint (I)',\n",
       "  'ecosystem quality',\n",
       "  'ecotoxicity: terrestrial'),\n",
       " ('ReCiPe 2016 v1.03, endpoint (I)',\n",
       "  'ecosystem quality',\n",
       "  'eutrophication: freshwater'),\n",
       " ('ReCiPe 2016 v1.03, endpoint (I)',\n",
       "  'ecosystem quality',\n",
       "  'eutrophication: marine'),\n",
       " ('ReCiPe 2016 v1.03, endpoint (I)', 'ecosystem quality', 'land use'),\n",
       " ('ReCiPe 2016 v1.03, endpoint (I)',\n",
       "  'ecosystem quality',\n",
       "  'photochemical oxidant formation: terrestrial ecosystems'),\n",
       " ('ReCiPe 2016 v1.03, endpoint (I)',\n",
       "  'ecosystem quality',\n",
       "  'water use: aquatic ecosystems'),\n",
       " ('ReCiPe 2016 v1.03, endpoint (I)',\n",
       "  'human health',\n",
       "  'climate change: human health'),\n",
       " ('ReCiPe 2016 v1.03, endpoint (I)',\n",
       "  'human health',\n",
       "  'human toxicity: carcinogenic'),\n",
       " ('ReCiPe 2016 v1.03, endpoint (I)',\n",
       "  'human health',\n",
       "  'human toxicity: non-carcinogenic'),\n",
       " ('ReCiPe 2016 v1.03, endpoint (I)', 'human health', 'ionising radiation'),\n",
       " ('ReCiPe 2016 v1.03, endpoint (I)', 'human health', 'ozone depletion'),\n",
       " ('ReCiPe 2016 v1.03, endpoint (I)',\n",
       "  'human health',\n",
       "  'particulate matter formation'),\n",
       " ('ReCiPe 2016 v1.03, endpoint (I)',\n",
       "  'human health',\n",
       "  'photochemical oxidant formation: human health'),\n",
       " ('ReCiPe 2016 v1.03, endpoint (I)',\n",
       "  'human health',\n",
       "  'water use: human health'),\n",
       " ('ReCiPe 2016 v1.03, endpoint (I)',\n",
       "  'natural resources',\n",
       "  'energy resources: non-renewable, fossil'),\n",
       " ('ReCiPe 2016 v1.03, endpoint (I)',\n",
       "  'natural resources',\n",
       "  'material resources: metals/minerals'),\n",
       " ('ReCiPe 2016 v1.03, endpoint (I)',\n",
       "  'total: ecosystem quality',\n",
       "  'ecosystem quality'),\n",
       " ('ReCiPe 2016 v1.03, endpoint (I)', 'total: human health', 'human health'),\n",
       " ('ReCiPe 2016 v1.03, endpoint (I)',\n",
       "  'total: natural resources',\n",
       "  'natural resources'),\n",
       " ('ReCiPe 2016 v1.03, midpoint (E) no LT',\n",
       "  'acidification: terrestrial no LT',\n",
       "  'terrestrial acidification potential (TAP) no LT'),\n",
       " ('ReCiPe 2016 v1.03, midpoint (E) no LT',\n",
       "  'climate change no LT',\n",
       "  'global warming potential (GWP1000) no LT'),\n",
       " ('ReCiPe 2016 v1.03, midpoint (E) no LT',\n",
       "  'ecotoxicity: freshwater no LT',\n",
       "  'freshwater ecotoxicity potential (FETP) no LT'),\n",
       " ('ReCiPe 2016 v1.03, midpoint (E) no LT',\n",
       "  'ecotoxicity: marine no LT',\n",
       "  'marine ecotoxicity potential (METP) no LT'),\n",
       " ('ReCiPe 2016 v1.03, midpoint (E) no LT',\n",
       "  'ecotoxicity: terrestrial no LT',\n",
       "  'terrestrial ecotoxicity potential (TETP) no LT'),\n",
       " ('ReCiPe 2016 v1.03, midpoint (E) no LT',\n",
       "  'energy resources: non-renewable, fossil no LT',\n",
       "  'fossil fuel potential (FFP) no LT'),\n",
       " ('ReCiPe 2016 v1.03, midpoint (E) no LT',\n",
       "  'eutrophication: freshwater no LT',\n",
       "  'freshwater eutrophication potential (FEP) no LT'),\n",
       " ('ReCiPe 2016 v1.03, midpoint (E) no LT',\n",
       "  'eutrophication: marine no LT',\n",
       "  'marine eutrophication potential (MEP) no LT'),\n",
       " ('ReCiPe 2016 v1.03, midpoint (E) no LT',\n",
       "  'human toxicity: carcinogenic no LT',\n",
       "  'human toxicity potential (HTPc) no LT'),\n",
       " ('ReCiPe 2016 v1.03, midpoint (E) no LT',\n",
       "  'human toxicity: non-carcinogenic no LT',\n",
       "  'human toxicity potential (HTPnc) no LT'),\n",
       " ('ReCiPe 2016 v1.03, midpoint (E) no LT',\n",
       "  'ionising radiation no LT',\n",
       "  'ionising radiation potential (IRP) no LT'),\n",
       " ('ReCiPe 2016 v1.03, midpoint (E) no LT',\n",
       "  'land use no LT',\n",
       "  'agricultural land occupation (LOP) no LT'),\n",
       " ('ReCiPe 2016 v1.03, midpoint (E) no LT',\n",
       "  'material resources: metals/minerals no LT',\n",
       "  'surplus ore potential (SOP) no LT'),\n",
       " ('ReCiPe 2016 v1.03, midpoint (E) no LT',\n",
       "  'ozone depletion no LT',\n",
       "  'ozone depletion potential (ODPinfinite) no LT'),\n",
       " ('ReCiPe 2016 v1.03, midpoint (E) no LT',\n",
       "  'particulate matter formation no LT',\n",
       "  'particulate matter formation potential (PMFP) no LT'),\n",
       " ('ReCiPe 2016 v1.03, midpoint (E) no LT',\n",
       "  'photochemical oxidant formation: human health no LT',\n",
       "  'photochemical oxidant formation potential: humans (HOFP) no LT'),\n",
       " ('ReCiPe 2016 v1.03, midpoint (E) no LT',\n",
       "  'photochemical oxidant formation: terrestrial ecosystems no LT',\n",
       "  'photochemical oxidant formation potential: ecosystems (EOFP) no LT'),\n",
       " ('ReCiPe 2016 v1.03, midpoint (E) no LT',\n",
       "  'water use no LT',\n",
       "  'water consumption potential (WCP) no LT'),\n",
       " ('ReCiPe 2016 v1.03, midpoint (E)',\n",
       "  'acidification: terrestrial',\n",
       "  'terrestrial acidification potential (TAP)'),\n",
       " ('ReCiPe 2016 v1.03, midpoint (E)',\n",
       "  'climate change',\n",
       "  'global warming potential (GWP1000)'),\n",
       " ('ReCiPe 2016 v1.03, midpoint (E)',\n",
       "  'ecotoxicity: freshwater',\n",
       "  'freshwater ecotoxicity potential (FETP)'),\n",
       " ('ReCiPe 2016 v1.03, midpoint (E)',\n",
       "  'ecotoxicity: marine',\n",
       "  'marine ecotoxicity potential (METP)'),\n",
       " ('ReCiPe 2016 v1.03, midpoint (E)',\n",
       "  'ecotoxicity: terrestrial',\n",
       "  'terrestrial ecotoxicity potential (TETP)'),\n",
       " ('ReCiPe 2016 v1.03, midpoint (E)',\n",
       "  'energy resources: non-renewable, fossil',\n",
       "  'fossil fuel potential (FFP)'),\n",
       " ('ReCiPe 2016 v1.03, midpoint (E)',\n",
       "  'eutrophication: freshwater',\n",
       "  'freshwater eutrophication potential (FEP)'),\n",
       " ('ReCiPe 2016 v1.03, midpoint (E)',\n",
       "  'eutrophication: marine',\n",
       "  'marine eutrophication potential (MEP)'),\n",
       " ('ReCiPe 2016 v1.03, midpoint (E)',\n",
       "  'human toxicity: carcinogenic',\n",
       "  'human toxicity potential (HTPc)'),\n",
       " ('ReCiPe 2016 v1.03, midpoint (E)',\n",
       "  'human toxicity: non-carcinogenic',\n",
       "  'human toxicity potential (HTPnc)'),\n",
       " ('ReCiPe 2016 v1.03, midpoint (E)',\n",
       "  'ionising radiation',\n",
       "  'ionising radiation potential (IRP)'),\n",
       " ('ReCiPe 2016 v1.03, midpoint (E)',\n",
       "  'land use',\n",
       "  'agricultural land occupation (LOP)'),\n",
       " ('ReCiPe 2016 v1.03, midpoint (E)',\n",
       "  'material resources: metals/minerals',\n",
       "  'surplus ore potential (SOP)'),\n",
       " ('ReCiPe 2016 v1.03, midpoint (E)',\n",
       "  'ozone depletion',\n",
       "  'ozone depletion potential (ODPinfinite)'),\n",
       " ('ReCiPe 2016 v1.03, midpoint (E)',\n",
       "  'particulate matter formation',\n",
       "  'particulate matter formation potential (PMFP)'),\n",
       " ('ReCiPe 2016 v1.03, midpoint (E)',\n",
       "  'photochemical oxidant formation: human health',\n",
       "  'photochemical oxidant formation potential: humans (HOFP)'),\n",
       " ('ReCiPe 2016 v1.03, midpoint (E)',\n",
       "  'photochemical oxidant formation: terrestrial ecosystems',\n",
       "  'photochemical oxidant formation potential: ecosystems (EOFP)'),\n",
       " ('ReCiPe 2016 v1.03, midpoint (E)',\n",
       "  'water use',\n",
       "  'water consumption potential (WCP)'),\n",
       " ('ReCiPe 2016 v1.03, midpoint (H) no LT',\n",
       "  'acidification: terrestrial no LT',\n",
       "  'terrestrial acidification potential (TAP) no LT'),\n",
       " ('ReCiPe 2016 v1.03, midpoint (H) no LT',\n",
       "  'climate change no LT',\n",
       "  'global warming potential (GWP1000) no LT'),\n",
       " ('ReCiPe 2016 v1.03, midpoint (H) no LT',\n",
       "  'ecotoxicity: freshwater no LT',\n",
       "  'freshwater ecotoxicity potential (FETP) no LT'),\n",
       " ('ReCiPe 2016 v1.03, midpoint (H) no LT',\n",
       "  'ecotoxicity: marine no LT',\n",
       "  'marine ecotoxicity potential (METP) no LT'),\n",
       " ('ReCiPe 2016 v1.03, midpoint (H) no LT',\n",
       "  'ecotoxicity: terrestrial no LT',\n",
       "  'terrestrial ecotoxicity potential (TETP) no LT'),\n",
       " ('ReCiPe 2016 v1.03, midpoint (H) no LT',\n",
       "  'energy resources: non-renewable, fossil no LT',\n",
       "  'fossil fuel potential (FFP) no LT'),\n",
       " ('ReCiPe 2016 v1.03, midpoint (H) no LT',\n",
       "  'eutrophication: freshwater no LT',\n",
       "  'freshwater eutrophication potential (FEP) no LT'),\n",
       " ('ReCiPe 2016 v1.03, midpoint (H) no LT',\n",
       "  'eutrophication: marine no LT',\n",
       "  'marine eutrophication potential (MEP) no LT'),\n",
       " ('ReCiPe 2016 v1.03, midpoint (H) no LT',\n",
       "  'human toxicity: carcinogenic no LT',\n",
       "  'human toxicity potential (HTPc) no LT'),\n",
       " ('ReCiPe 2016 v1.03, midpoint (H) no LT',\n",
       "  'human toxicity: non-carcinogenic no LT',\n",
       "  'human toxicity potential (HTPnc) no LT'),\n",
       " ('ReCiPe 2016 v1.03, midpoint (H) no LT',\n",
       "  'ionising radiation no LT',\n",
       "  'ionising radiation potential (IRP) no LT'),\n",
       " ('ReCiPe 2016 v1.03, midpoint (H) no LT',\n",
       "  'land use no LT',\n",
       "  'agricultural land occupation (LOP) no LT'),\n",
       " ('ReCiPe 2016 v1.03, midpoint (H) no LT',\n",
       "  'material resources: metals/minerals no LT',\n",
       "  'surplus ore potential (SOP) no LT'),\n",
       " ('ReCiPe 2016 v1.03, midpoint (H) no LT',\n",
       "  'ozone depletion no LT',\n",
       "  'ozone depletion potential (ODPinfinite) no LT'),\n",
       " ('ReCiPe 2016 v1.03, midpoint (H) no LT',\n",
       "  'particulate matter formation no LT',\n",
       "  'particulate matter formation potential (PMFP) no LT'),\n",
       " ('ReCiPe 2016 v1.03, midpoint (H) no LT',\n",
       "  'photochemical oxidant formation: human health no LT',\n",
       "  'photochemical oxidant formation potential: humans (HOFP) no LT'),\n",
       " ('ReCiPe 2016 v1.03, midpoint (H) no LT',\n",
       "  'photochemical oxidant formation: terrestrial ecosystems no LT',\n",
       "  'photochemical oxidant formation potential: ecosystems (EOFP) no LT'),\n",
       " ('ReCiPe 2016 v1.03, midpoint (H) no LT',\n",
       "  'water use no LT',\n",
       "  'water consumption potential (WCP) no LT'),\n",
       " ('ReCiPe 2016 v1.03, midpoint (H)',\n",
       "  'acidification: terrestrial',\n",
       "  'terrestrial acidification potential (TAP)'),\n",
       " ('ReCiPe 2016 v1.03, midpoint (H)',\n",
       "  'climate change',\n",
       "  'global warming potential (GWP1000)'),\n",
       " ('ReCiPe 2016 v1.03, midpoint (H)',\n",
       "  'ecotoxicity: freshwater',\n",
       "  'freshwater ecotoxicity potential (FETP)'),\n",
       " ('ReCiPe 2016 v1.03, midpoint (H)',\n",
       "  'ecotoxicity: marine',\n",
       "  'marine ecotoxicity potential (METP)'),\n",
       " ('ReCiPe 2016 v1.03, midpoint (H)',\n",
       "  'ecotoxicity: terrestrial',\n",
       "  'terrestrial ecotoxicity potential (TETP)'),\n",
       " ('ReCiPe 2016 v1.03, midpoint (H)',\n",
       "  'energy resources: non-renewable, fossil',\n",
       "  'fossil fuel potential (FFP)'),\n",
       " ('ReCiPe 2016 v1.03, midpoint (H)',\n",
       "  'eutrophication: freshwater',\n",
       "  'freshwater eutrophication potential (FEP)'),\n",
       " ('ReCiPe 2016 v1.03, midpoint (H)',\n",
       "  'eutrophication: marine',\n",
       "  'marine eutrophication potential (MEP)'),\n",
       " ('ReCiPe 2016 v1.03, midpoint (H)',\n",
       "  'human toxicity: carcinogenic',\n",
       "  'human toxicity potential (HTPc)'),\n",
       " ('ReCiPe 2016 v1.03, midpoint (H)',\n",
       "  'human toxicity: non-carcinogenic',\n",
       "  'human toxicity potential (HTPnc)'),\n",
       " ('ReCiPe 2016 v1.03, midpoint (H)',\n",
       "  'ionising radiation',\n",
       "  'ionising radiation potential (IRP)'),\n",
       " ('ReCiPe 2016 v1.03, midpoint (H)',\n",
       "  'land use',\n",
       "  'agricultural land occupation (LOP)'),\n",
       " ('ReCiPe 2016 v1.03, midpoint (H)',\n",
       "  'material resources: metals/minerals',\n",
       "  'surplus ore potential (SOP)'),\n",
       " ('ReCiPe 2016 v1.03, midpoint (H)',\n",
       "  'ozone depletion',\n",
       "  'ozone depletion potential (ODPinfinite)'),\n",
       " ('ReCiPe 2016 v1.03, midpoint (H)',\n",
       "  'particulate matter formation',\n",
       "  'particulate matter formation potential (PMFP)'),\n",
       " ('ReCiPe 2016 v1.03, midpoint (H)',\n",
       "  'photochemical oxidant formation: human health',\n",
       "  'photochemical oxidant formation potential: humans (HOFP)'),\n",
       " ('ReCiPe 2016 v1.03, midpoint (H)',\n",
       "  'photochemical oxidant formation: terrestrial ecosystems',\n",
       "  'photochemical oxidant formation potential: ecosystems (EOFP)'),\n",
       " ('ReCiPe 2016 v1.03, midpoint (H)',\n",
       "  'water use',\n",
       "  'water consumption potential (WCP)'),\n",
       " ('ReCiPe 2016 v1.03, midpoint (I) no LT',\n",
       "  'acidification: terrestrial no LT',\n",
       "  'terrestrial acidification potential (TAP) no LT'),\n",
       " ('ReCiPe 2016 v1.03, midpoint (I) no LT',\n",
       "  'climate change no LT',\n",
       "  'global warming potential (GWP1000) no LT'),\n",
       " ('ReCiPe 2016 v1.03, midpoint (I) no LT',\n",
       "  'ecotoxicity: freshwater no LT',\n",
       "  'freshwater ecotoxicity potential (FETP) no LT'),\n",
       " ('ReCiPe 2016 v1.03, midpoint (I) no LT',\n",
       "  'ecotoxicity: marine no LT',\n",
       "  'marine ecotoxicity potential (METP) no LT'),\n",
       " ('ReCiPe 2016 v1.03, midpoint (I) no LT',\n",
       "  'ecotoxicity: terrestrial no LT',\n",
       "  'terrestrial ecotoxicity potential (TETP) no LT'),\n",
       " ('ReCiPe 2016 v1.03, midpoint (I) no LT',\n",
       "  'energy resources: non-renewable, fossil no LT',\n",
       "  'fossil fuel potential (FFP) no LT'),\n",
       " ('ReCiPe 2016 v1.03, midpoint (I) no LT',\n",
       "  'eutrophication: freshwater no LT',\n",
       "  'freshwater eutrophication potential (FEP) no LT'),\n",
       " ('ReCiPe 2016 v1.03, midpoint (I) no LT',\n",
       "  'eutrophication: marine no LT',\n",
       "  'marine eutrophication potential (MEP) no LT'),\n",
       " ('ReCiPe 2016 v1.03, midpoint (I) no LT',\n",
       "  'human toxicity: carcinogenic no LT',\n",
       "  'human toxicity potential (HTPc) no LT'),\n",
       " ('ReCiPe 2016 v1.03, midpoint (I) no LT',\n",
       "  'human toxicity: non-carcinogenic no LT',\n",
       "  'human toxicity potential (HTPnc) no LT'),\n",
       " ('ReCiPe 2016 v1.03, midpoint (I) no LT',\n",
       "  'ionising radiation no LT',\n",
       "  'ionising radiation potential (IRP) no LT'),\n",
       " ('ReCiPe 2016 v1.03, midpoint (I) no LT',\n",
       "  'land use no LT',\n",
       "  'agricultural land occupation (LOP) no LT'),\n",
       " ('ReCiPe 2016 v1.03, midpoint (I) no LT',\n",
       "  'material resources: metals/minerals no LT',\n",
       "  'surplus ore potential (SOP) no LT'),\n",
       " ('ReCiPe 2016 v1.03, midpoint (I) no LT',\n",
       "  'ozone depletion no LT',\n",
       "  'ozone depletion potential (ODPinfinite) no LT'),\n",
       " ('ReCiPe 2016 v1.03, midpoint (I) no LT',\n",
       "  'particulate matter formation no LT',\n",
       "  'particulate matter formation potential (PMFP) no LT'),\n",
       " ('ReCiPe 2016 v1.03, midpoint (I) no LT',\n",
       "  'photochemical oxidant formation: human health no LT',\n",
       "  'photochemical oxidant formation potential: humans (HOFP) no LT'),\n",
       " ('ReCiPe 2016 v1.03, midpoint (I) no LT',\n",
       "  'photochemical oxidant formation: terrestrial ecosystems no LT',\n",
       "  'photochemical oxidant formation potential: ecosystems (EOFP) no LT'),\n",
       " ('ReCiPe 2016 v1.03, midpoint (I) no LT',\n",
       "  'water use no LT',\n",
       "  'water consumption potential (WCP) no LT'),\n",
       " ('ReCiPe 2016 v1.03, midpoint (I)',\n",
       "  'acidification: terrestrial',\n",
       "  'terrestrial acidification potential (TAP)'),\n",
       " ('ReCiPe 2016 v1.03, midpoint (I)',\n",
       "  'climate change',\n",
       "  'global warming potential (GWP1000)'),\n",
       " ('ReCiPe 2016 v1.03, midpoint (I)',\n",
       "  'ecotoxicity: freshwater',\n",
       "  'freshwater ecotoxicity potential (FETP)'),\n",
       " ('ReCiPe 2016 v1.03, midpoint (I)',\n",
       "  'ecotoxicity: marine',\n",
       "  'marine ecotoxicity potential (METP)'),\n",
       " ('ReCiPe 2016 v1.03, midpoint (I)',\n",
       "  'ecotoxicity: terrestrial',\n",
       "  'terrestrial ecotoxicity potential (TETP)'),\n",
       " ('ReCiPe 2016 v1.03, midpoint (I)',\n",
       "  'energy resources: non-renewable, fossil',\n",
       "  'fossil fuel potential (FFP)'),\n",
       " ('ReCiPe 2016 v1.03, midpoint (I)',\n",
       "  'eutrophication: freshwater',\n",
       "  'freshwater eutrophication potential (FEP)'),\n",
       " ('ReCiPe 2016 v1.03, midpoint (I)',\n",
       "  'eutrophication: marine',\n",
       "  'marine eutrophication potential (MEP)'),\n",
       " ('ReCiPe 2016 v1.03, midpoint (I)',\n",
       "  'human toxicity: carcinogenic',\n",
       "  'human toxicity potential (HTPc)'),\n",
       " ('ReCiPe 2016 v1.03, midpoint (I)',\n",
       "  'human toxicity: non-carcinogenic',\n",
       "  'human toxicity potential (HTPnc)'),\n",
       " ('ReCiPe 2016 v1.03, midpoint (I)',\n",
       "  'ionising radiation',\n",
       "  'ionising radiation potential (IRP)'),\n",
       " ('ReCiPe 2016 v1.03, midpoint (I)',\n",
       "  'land use',\n",
       "  'agricultural land occupation (LOP)'),\n",
       " ('ReCiPe 2016 v1.03, midpoint (I)',\n",
       "  'material resources: metals/minerals',\n",
       "  'surplus ore potential (SOP)'),\n",
       " ('ReCiPe 2016 v1.03, midpoint (I)',\n",
       "  'ozone depletion',\n",
       "  'ozone depletion potential (ODPinfinite)'),\n",
       " ('ReCiPe 2016 v1.03, midpoint (I)',\n",
       "  'particulate matter formation',\n",
       "  'particulate matter formation potential (PMFP)'),\n",
       " ('ReCiPe 2016 v1.03, midpoint (I)',\n",
       "  'photochemical oxidant formation: human health',\n",
       "  'photochemical oxidant formation potential: humans (HOFP)'),\n",
       " ('ReCiPe 2016 v1.03, midpoint (I)',\n",
       "  'photochemical oxidant formation: terrestrial ecosystems',\n",
       "  'photochemical oxidant formation potential: ecosystems (EOFP)'),\n",
       " ('ReCiPe 2016 v1.03, midpoint (I)',\n",
       "  'water use',\n",
       "  'water consumption potential (WCP)'),\n",
       " ('selected LCI results, additional', 'air', 'carbon monoxide'),\n",
       " ('selected LCI results, additional', 'air', 'lead'),\n",
       " ('selected LCI results, additional', 'air', 'methane'),\n",
       " ('selected LCI results, additional', 'air', 'N2O'),\n",
       " ('selected LCI results, additional', 'air', 'particulates'),\n",
       " ('selected LCI results, additional', 'air', 'particulates >10 um'),\n",
       " ('selected LCI results, additional', 'air', 'particulates, >2.5 um and <10'),\n",
       " ('selected LCI results, additional', 'air', 'zinc'),\n",
       " ('selected LCI results, additional', 'air, radioactive', 'actinides'),\n",
       " ('selected LCI results, additional', 'air, radioactive', 'aerosole'),\n",
       " ('selected LCI results, additional', 'air, radioactive', 'noble gas'),\n",
       " ('selected LCI results, additional', 'air, radioactive', 'radon (+ radium)'),\n",
       " ('selected LCI results, additional', 'resource', 'carbon, biogenic, fixed'),\n",
       " ('selected LCI results, additional', 'resource', 'water'),\n",
       " ('selected LCI results, additional', 'total', 'heat, waste'),\n",
       " ('selected LCI results, additional', 'total', 'oils, unspecified'),\n",
       " ('selected LCI results, additional', 'water, radioactive', 'actinides'),\n",
       " ('selected LCI results, additional', 'water, radioactive', 'nuclides'),\n",
       " ('selected LCI results, additional', 'water, radioactive', 'radium'),\n",
       " ('selected LCI results, additional', 'water, radioactive', 'tritium'),\n",
       " ('selected LCI results', 'air', 'CO2, fossil'),\n",
       " ('selected LCI results', 'air', 'nitrogen oxides'),\n",
       " ('selected LCI results', 'air', 'NMVOC'),\n",
       " ('selected LCI results', 'air', 'particulates, < 2.5 um'),\n",
       " ('selected LCI results', 'air', 'sulphur dioxide'),\n",
       " ('selected LCI results', 'resource', 'land occupation'),\n",
       " ('selected LCI results', 'soil', 'cadmium'),\n",
       " ('selected LCI results', 'water', 'BOD'),\n",
       " ('TRACI v2.1 no LT',\n",
       "  'acidification no LT',\n",
       "  'acidification potential (AP) no LT'),\n",
       " ('TRACI v2.1 no LT',\n",
       "  'climate change no LT',\n",
       "  'global warming potential (GWP100) no LT'),\n",
       " ('TRACI v2.1 no LT',\n",
       "  'ecotoxicity: freshwater no LT',\n",
       "  'ecotoxicity: freshwater no LT'),\n",
       " ('TRACI v2.1 no LT',\n",
       "  'eutrophication no LT',\n",
       "  'eutrophication potential no LT'),\n",
       " ('TRACI v2.1 no LT',\n",
       "  'human toxicity: carcinogenic no LT',\n",
       "  'human toxicity: carcinogenic no LT'),\n",
       " ('TRACI v2.1 no LT',\n",
       "  'human toxicity: non-carcinogenic no LT',\n",
       "  'human toxicity: non-carcinogenic no LT'),\n",
       " ('TRACI v2.1 no LT',\n",
       "  'ozone depletion no LT',\n",
       "  'ozone depletion potential (ODP) no LT'),\n",
       " ('TRACI v2.1 no LT',\n",
       "  'particulate matter formation no LT',\n",
       "  'particulate matter formation potential (PMFP) no LT'),\n",
       " ('TRACI v2.1 no LT',\n",
       "  'photochemical oxidant formation no LT',\n",
       "  'maximum incremental reactivity (MIR) no LT'),\n",
       " ('TRACI v2.1', 'acidification', 'acidification potential (AP)'),\n",
       " ('TRACI v2.1', 'climate change', 'global warming potential (GWP100)'),\n",
       " ('TRACI v2.1', 'ecotoxicity: freshwater', 'ecotoxicity: freshwater'),\n",
       " ('TRACI v2.1', 'eutrophication', 'eutrophication potential'),\n",
       " ('TRACI v2.1',\n",
       "  'human toxicity: carcinogenic',\n",
       "  'human toxicity: carcinogenic'),\n",
       " ('TRACI v2.1',\n",
       "  'human toxicity: non-carcinogenic',\n",
       "  'human toxicity: non-carcinogenic'),\n",
       " ('TRACI v2.1', 'ozone depletion', 'ozone depletion potential (ODP)'),\n",
       " ('TRACI v2.1',\n",
       "  'particulate matter formation',\n",
       "  'particulate matter formation potential (PMFP)'),\n",
       " ('TRACI v2.1',\n",
       "  'photochemical oxidant formation',\n",
       "  'maximum incremental reactivity (MIR)'),\n",
       " ('USEtox no LT', 'ecotoxicity no LT', 'total no LT'),\n",
       " ('USEtox no LT', 'human toxicity no LT', 'carcinogenic no LT'),\n",
       " ('USEtox no LT', 'human toxicity no LT', 'non-carcinogenic no LT'),\n",
       " ('USEtox no LT', 'human toxicity no LT', 'total no LT'),\n",
       " ('USEtox', 'ecotoxicity', 'total'),\n",
       " ('USEtox', 'human toxicity', 'carcinogenic'),\n",
       " ('USEtox', 'human toxicity', 'non-carcinogenic'),\n",
       " ('USEtox', 'human toxicity', 'total'),\n",
       " ('EF v3.0 EN15804', 'acidification', 'accumulated exceedance (AE)'),\n",
       " ('EF v3.0 EN15804', 'climate change', 'global warming potential (GWP100)'),\n",
       " ('EF v3.0 EN15804',\n",
       "  'climate change: biogenic',\n",
       "  'global warming potential (GWP100)'),\n",
       " ('EF v3.0 EN15804',\n",
       "  'climate change: fossil',\n",
       "  'global warming potential (GWP100)'),\n",
       " ('EF v3.0 EN15804',\n",
       "  'climate change: land use and land use change',\n",
       "  'global warming potential (GWP100)'),\n",
       " ('EF v3.0 EN15804',\n",
       "  'ecotoxicity: freshwater',\n",
       "  'comparative toxic unit for ecosystems (CTUe)'),\n",
       " ('EF v3.0 EN15804',\n",
       "  'energy resources: non-renewable',\n",
       "  'abiotic depletion potential (ADP): fossil fuels'),\n",
       " ('EF v3.0 EN15804',\n",
       "  'eutrophication: freshwater',\n",
       "  'fraction of nutrients reaching freshwater end compartment (P)'),\n",
       " ('EF v3.0 EN15804',\n",
       "  'eutrophication: marine',\n",
       "  'fraction of nutrients reaching marine end compartment (N)'),\n",
       " ('EF v3.0 EN15804',\n",
       "  'eutrophication: terrestrial',\n",
       "  'accumulated exceedance (AE)'),\n",
       " ('EF v3.0 EN15804',\n",
       "  'human toxicity: carcinogenic',\n",
       "  'comparative toxic unit for human (CTUh)'),\n",
       " ('EF v3.0 EN15804',\n",
       "  'human toxicity: non-carcinogenic',\n",
       "  'comparative toxic unit for human (CTUh)'),\n",
       " ('EF v3.0 EN15804',\n",
       "  'ionising radiation: human health',\n",
       "  'human exposure efficiency relative to u235'),\n",
       " ('EF v3.0 EN15804', 'land use', 'soil quality index'),\n",
       " ('EF v3.0 EN15804',\n",
       "  'material resources: metals/minerals',\n",
       "  'abiotic depletion potential (ADP): elements (ultimate reserves)'),\n",
       " ('EF v3.0 EN15804', 'ozone depletion', 'ozone depletion potential (ODP)'),\n",
       " ('EF v3.0 EN15804', 'particulate matter formation', 'impact on human health'),\n",
       " ('EF v3.0 EN15804',\n",
       "  'photochemical oxidant formation: human health',\n",
       "  'tropospheric ozone concentration increase'),\n",
       " ('EF v3.0 EN15804',\n",
       "  'water use',\n",
       "  'user deprivation potential (deprivation-weighted water consumption)'),\n",
       " ('EF v3.1 EN15804', 'acidification', 'accumulated exceedance (AE)'),\n",
       " ('EF v3.1 EN15804', 'climate change', 'global warming potential (GWP100)'),\n",
       " ('EF v3.1 EN15804',\n",
       "  'climate change: biogenic',\n",
       "  'global warming potential (GWP100)'),\n",
       " ('EF v3.1 EN15804',\n",
       "  'climate change: fossil',\n",
       "  'global warming potential (GWP100)'),\n",
       " ('EF v3.1 EN15804',\n",
       "  'climate change: land use and land use change',\n",
       "  'global warming potential (GWP100)'),\n",
       " ('EF v3.1 EN15804',\n",
       "  'ecotoxicity: freshwater',\n",
       "  'comparative toxic unit for ecosystems (CTUe)'),\n",
       " ('EF v3.1 EN15804',\n",
       "  'energy resources: non-renewable',\n",
       "  'abiotic depletion potential (ADP): fossil fuels'),\n",
       " ('EF v3.1 EN15804',\n",
       "  'eutrophication: freshwater',\n",
       "  'fraction of nutrients reaching freshwater end compartment (P)'),\n",
       " ('EF v3.1 EN15804',\n",
       "  'eutrophication: marine',\n",
       "  'fraction of nutrients reaching marine end compartment (N)'),\n",
       " ('EF v3.1 EN15804',\n",
       "  'eutrophication: terrestrial',\n",
       "  'accumulated exceedance (AE)'),\n",
       " ('EF v3.1 EN15804',\n",
       "  'human toxicity: carcinogenic',\n",
       "  'comparative toxic unit for human (CTUh)'),\n",
       " ('EF v3.1 EN15804',\n",
       "  'human toxicity: non-carcinogenic',\n",
       "  'comparative toxic unit for human (CTUh)'),\n",
       " ('EF v3.1 EN15804',\n",
       "  'ionising radiation: human health',\n",
       "  'human exposure efficiency relative to u235'),\n",
       " ('EF v3.1 EN15804', 'land use', 'soil quality index'),\n",
       " ('EF v3.1 EN15804',\n",
       "  'material resources: metals/minerals',\n",
       "  'abiotic depletion potential (ADP): elements (ultimate reserves)'),\n",
       " ('EF v3.1 EN15804', 'ozone depletion', 'ozone depletion potential (ODP)'),\n",
       " ('EF v3.1 EN15804', 'particulate matter formation', 'impact on human health'),\n",
       " ('EF v3.1 EN15804',\n",
       "  'photochemical oxidant formation: human health',\n",
       "  'tropospheric ozone concentration increase'),\n",
       " ('EF v3.1 EN15804',\n",
       "  'water use',\n",
       "  'user deprivation potential (deprivation-weighted water consumption)'),\n",
       " ('EN15804', 'inventory indicators ISO21930', 'exported energy - electricity'),\n",
       " ('EN15804', 'inventory indicators ISO21930', 'exported energy - heat'),\n",
       " ('EN15804', 'inventory indicators ISO21930', 'hazardous waste disposed'),\n",
       " ('EN15804',\n",
       "  'inventory indicators ISO21930',\n",
       "  'high-level radioactive waste disposed'),\n",
       " ('EN15804',\n",
       "  'inventory indicators ISO21930',\n",
       "  'intermediate and low-level radioactive waste disposed'),\n",
       " ('EN15804', 'inventory indicators ISO21930', 'materials for energy recovery'),\n",
       " ('EN15804', 'inventory indicators ISO21930', 'materials for recycling'),\n",
       " ('EN15804', 'inventory indicators ISO21930', 'non-hazardous waste disposed'),\n",
       " ('EN15804', 'inventory indicators ISO21930', 'recovered energy'),\n",
       " ('EN15804', 'inventory indicators ISO21930', 'use of net fresh water'),\n",
       " ('EN15804',\n",
       "  'inventory indicators ISO21930',\n",
       "  'use of renewable secondary fuels'),\n",
       " ('EN15804', 'inventory indicators ISO21930', 'use of secondary material'),\n",
       " ('EN15804',\n",
       "  'inventory indicators ISO21930',\n",
       "  'Cumulative Energy Demand - renewable energy resources'),\n",
       " ('EN15804',\n",
       "  'inventory indicators ISO21930',\n",
       "  'Cumulative Energy Demand - non-renewable energy resources')]"
      ]
     },
     "execution_count": 35,
     "metadata": {},
     "output_type": "execute_result"
    }
   ],
   "source": [
    "list(bw.methods)"
   ]
  },
  {
   "cell_type": "code",
   "execution_count": 3,
   "id": "20be9563",
   "metadata": {},
   "outputs": [
    {
     "data": {
      "text/plain": [
       "{'description': '',\n",
       " 'filename': 'LCIA_Implementation_3.9.xlsx',\n",
       " 'unit': 'kg CO2-Eq',\n",
       " 'abbreviation': 'ipcc-2021-no-ltcg.14f35b69b78ce274f1f597afb97e0ff5',\n",
       " 'num_cfs': 182}"
      ]
     },
     "execution_count": 3,
     "metadata": {},
     "output_type": "execute_result"
    }
   ],
   "source": [
    "bw.methods.get(('IPCC 2021 no LT',\n",
    "  'climate change no LT',\n",
    "  'global warming potential (GWP20) no LT'))"
   ]
  },
  {
   "cell_type": "code",
   "execution_count": 7,
   "id": "1e1c0790",
   "metadata": {},
   "outputs": [],
   "source": [
    "functional_unit = {tomato_production:1}\n",
    "IPCC_method = [m for m in bw.methods if 'IPCC 2021' in str(m) and  'climate change' in str(m) and 'GWP100' in str(m) and not 'no LT' in str(m)][0]"
   ]
  },
  {
   "cell_type": "code",
   "execution_count": 8,
   "id": "19e8a4ac",
   "metadata": {},
   "outputs": [],
   "source": [
    "lca = bw.LCA(functional_unit, IPCC_method)"
   ]
  },
  {
   "cell_type": "code",
   "execution_count": 9,
   "id": "dd8bf3dd",
   "metadata": {},
   "outputs": [],
   "source": [
    "lca.lci()\n",
    "lca.lcia()"
   ]
  },
  {
   "cell_type": "code",
   "execution_count": 142,
   "id": "498f13fb",
   "metadata": {},
   "outputs": [
    {
     "data": {
      "text/plain": [
       "{'tomato_production' (unit, GLO, None): 1}"
      ]
     },
     "execution_count": 142,
     "metadata": {},
     "output_type": "execute_result"
    }
   ],
   "source": [
    "lca.demand"
   ]
  },
  {
   "cell_type": "code",
   "execution_count": 143,
   "id": "092b1994",
   "metadata": {},
   "outputs": [
    {
     "data": {
      "text/plain": [
       "('IPCC 2021', 'climate change', 'global warming potential (GWP100)')"
      ]
     },
     "execution_count": 143,
     "metadata": {},
     "output_type": "execute_result"
    }
   ],
   "source": [
    "lca.method"
   ]
  },
  {
   "cell_type": "code",
   "execution_count": 94,
   "id": "237d1188",
   "metadata": {
    "scrolled": true
   },
   "outputs": [],
   "source": [
    "mean_total_score = lca.score"
   ]
  },
  {
   "cell_type": "code",
   "execution_count": 96,
   "id": "4de23c51",
   "metadata": {
    "scrolled": true
   },
   "outputs": [
    {
     "name": "stdout",
     "output_type": "stream",
     "text": [
      "The tomato_production process accounts for 0.339812 kg CO2-Eq.\n"
     ]
    }
   ],
   "source": [
    "print(\"The {} process accounts for {:f} {}.\".format(\n",
    "    list(functional_unit.keys())[0]['name'],\n",
    "    lca.score,\n",
    "    bw.methods.get(IPCC_method).get('unit')\n",
    "    ))"
   ]
  },
  {
   "cell_type": "markdown",
   "id": "96902351",
   "metadata": {},
   "source": [
    "## 4.3 Basic contribution analysis"
   ]
  },
  {
   "cell_type": "code",
   "execution_count": 256,
   "id": "6ecbd051",
   "metadata": {},
   "outputs": [],
   "source": [
    "import bw2analyzer as bwa"
   ]
  },
  {
   "cell_type": "code",
   "execution_count": 257,
   "id": "36273037",
   "metadata": {},
   "outputs": [
    {
     "data": {
      "text/plain": [
       "[(-1.0303334273035216,\n",
       "  -2.09998501284161,\n",
       "  'treatment of municipal solid waste, incineration' (kilogram, GB, None)),\n",
       " (-0.48842252967182165,\n",
       "  -14.439689982069996,\n",
       "  'treatment of biowaste, industrial composting' (kilogram, RoW, None)),\n",
       " (0.4012087496145647,\n",
       "  3.486055733701693,\n",
       "  'heat production, at hard coal industrial furnace 1-10MW' (megajoule, RoW, None)),\n",
       " (0.232689175294045,\n",
       "  0.16164478389214593,\n",
       "  'ethylene production, average' (kilogram, RoW, None)),\n",
       " (0.1660288900397401,\n",
       "  0.1257794571532917,\n",
       "  'carbon black production' (kilogram, GLO, None))]"
      ]
     },
     "execution_count": 257,
     "metadata": {},
     "output_type": "execute_result"
    }
   ],
   "source": [
    "ca = bwa.ContributionAnalysis()\n",
    "ca.annotated_top_processes(lca, limit=5) #returns a list of tuples: (lca score, supply amount, activity name)"
   ]
  },
  {
   "cell_type": "code",
   "execution_count": 258,
   "id": "b6f5af63",
   "metadata": {
    "scrolled": false
   },
   "outputs": [
    {
     "data": {
      "text/plain": [
       "{'results': [(0, 7, 0.054156661106774924),\n",
       "  (0, 8, 0.0017489273449960267),\n",
       "  (1, 0, -1.780877521050475e-05),\n",
       "  (1, 1, -0.38987164803379865),\n",
       "  (1, 3, 0.00012655041148918942),\n",
       "  (1, 6, 3.1189886765996315e-05),\n",
       "  (1, 9, 2.4550817064725052e-05),\n",
       "  (2, 0, -0.027413290714927343),\n",
       "  (2, 1, -0.09855088163802299),\n",
       "  (2, 2, 0.0011896164890734617),\n",
       "  (2, 3, 1.2586922536105087e-11),\n",
       "  (2, 6, 3.1022000166868008e-12),\n",
       "  (2, 9, 2.5283392595045876e-12),\n",
       "  (3, 7, 2.881907894535156e-05),\n",
       "  (3, 8, 0.05130281266070664),\n",
       "  (4, 0, -1.2490878234928051e-05),\n",
       "  (4, 2, 0.0012985556947539855),\n",
       "  (4, 3, 0.050906210378909904),\n",
       "  (4, 6, 0.012546454165736324),\n",
       "  (4, 9, 0.010246242737989481),\n",
       "  (5, 5, -0.09587705624542206),\n",
       "  (6, 0, -1.0028898369351489),\n",
       "  (6, 2, 0.3987176338924613),\n",
       "  (6, 3, 0.18165641448924053),\n",
       "  (6, 4, 0.1660288900397401),\n",
       "  (6, 6, 0.04477143085955363),\n",
       "  (6, 9, 0.03477857858159477),\n",
       "  (7, 7, 0.0002640137165606529),\n",
       "  (7, 8, 2.4774313205113744e-05),\n",
       "  (8, 5, -1.956268113217134e-05)],\n",
       " 'total': 0.3431068068033548,\n",
       " 'xlabels': ['treatment of municipal solid waste, incineration',\n",
       "  'treatment of biowaste, industrial composting',\n",
       "  'heat production, at hard coal industrial furnace 1-10MW',\n",
       "  'ethylene production, average',\n",
       "  'carbon black production',\n",
       "  'machine operation, diesel, >= 74.57 kW, low load factor',\n",
       "  'ethylene production, average',\n",
       "  'electricity production, natural gas, conventional power plant',\n",
       "  'hard coal mine operation and hard coal preparation',\n",
       "  'propylene production'],\n",
       " 'ylabels': ['Carbon dioxide, fossil',\n",
       "  'Methane, non-fossil',\n",
       "  'Dinitrogen monoxide',\n",
       "  'Methane, fossil',\n",
       "  'Methane, fossil',\n",
       "  'Carbon dioxide, fossil',\n",
       "  'Carbon dioxide, fossil',\n",
       "  'Dinitrogen monoxide',\n",
       "  'Methane, fossil',\n",
       "  'Methane, non-fossil']}"
      ]
     },
     "execution_count": 258,
     "metadata": {},
     "output_type": "execute_result"
    }
   ],
   "source": [
    "ca.hinton_matrix(lca, rows=10, cols=10)"
   ]
  },
  {
   "cell_type": "markdown",
   "id": "d0c7bec8",
   "metadata": {},
   "source": [
    "## 4.4 Monte Carlo"
   ]
  },
  {
   "cell_type": "code",
   "execution_count": 10,
   "id": "9c2215f0",
   "metadata": {
    "scrolled": true
   },
   "outputs": [],
   "source": [
    "#MC simulation with 10 iterations for our banana production and the IPCC GWP100a method\n",
    "np.random.seed(999)\n",
    "mc = bw.MonteCarloLCA({tomato_production:1},  ('IPCC 2021', 'climate change', 'global warming potential (GWP100)'))\n",
    "scores = [next(mc) for iteration in range(1000)]"
   ]
  },
  {
   "cell_type": "code",
   "execution_count": 118,
   "id": "64630393",
   "metadata": {
    "scrolled": true
   },
   "outputs": [
    {
     "name": "stdout",
     "output_type": "stream",
     "text": [
      "-0.1278433048349708\n",
      "1.2408035130897388\n"
     ]
    }
   ],
   "source": [
    "# Calculate the 2.5% and 97.5% percentiles\n",
    "lower_bound = np.percentile(scores, 2.5)\n",
    "upper_bound = np.percentile(scores, 97.5)\n",
    "print(lower_bound)\n",
    "print(upper_bound)"
   ]
  },
  {
   "cell_type": "markdown",
   "id": "3d5158a1",
   "metadata": {},
   "source": [
    "### ActivityTotal Data Record"
   ]
  },
  {
   "cell_type": "code",
   "execution_count": 42,
   "id": "9d92e376",
   "metadata": {},
   "outputs": [],
   "source": [
    "import pandas as pd"
   ]
  },
  {
   "cell_type": "code",
   "execution_count": 11,
   "id": "da382a26",
   "metadata": {},
   "outputs": [],
   "source": [
    "# Access the existing data frame\n",
    "df_existing_total = pd.read_excel('output2.xlsx')\n",
    "# Put the Monte Carlo result in a dataframe\n",
    "df_new_total = pd.DataFrame({'total_MC': scores})\n",
    "# Append new data as a new column to the existing DataFrame\n",
    "df_updated_total = pd.concat([df_existing_total, df_new_total], axis=1)"
   ]
  },
  {
   "cell_type": "code",
   "execution_count": 12,
   "id": "15d56f9d",
   "metadata": {},
   "outputs": [],
   "source": [
    "# Save in Excel\n",
    "with pd.ExcelWriter('output2.xlsx') as writer:\n",
    "    df_updated_total.to_excel(writer, index=False, sheet_name='Sheet1')"
   ]
  },
  {
   "cell_type": "code",
   "execution_count": 5,
   "id": "761d1fb3",
   "metadata": {},
   "outputs": [],
   "source": [
    "import matplotlib.pyplot as plt"
   ]
  },
  {
   "cell_type": "code",
   "execution_count": 119,
   "id": "27250663",
   "metadata": {
    "scrolled": true
   },
   "outputs": [
    {
     "data": {
      "text/plain": [
       "Text(1.3408035130897389, 35, '97.5% Range\\n(1.24)')"
      ]
     },
     "execution_count": 119,
     "metadata": {},
     "output_type": "execute_result"
    },
    {
     "data": {
      "image/png": "[encoded data removed]",
      "text/plain": [
       "<Figure size 640x480 with 1 Axes>"
      ]
     },
     "metadata": {},
     "output_type": "display_data"
    }
   ],
   "source": [
    "plt.hist(scores, bins=100, edgecolor='black', color = 'white')\n",
    "plt.xlabel('Global Warming Potential (kg CO2 eq) of Tomato Production')\n",
    "plt.ylabel('Frequency of Data')\n",
    "plt.gca().spines['top'].set_visible(False)\n",
    "plt.gca().spines['right'].set_visible(False)\n",
    "\n",
    "# Add dashed lines for the 2.5% and 97.5% percentiles\n",
    "plt.axvline(lower_bound, color='grey', linestyle='--', label='2.5%')\n",
    "plt.axvline(upper_bound, color='grey', linestyle='--', label='97.5%')\n",
    "\n",
    "# Add text annotations for the number range above the dashed lines\n",
    "plt.text(lower_bound + 0.1, 35, f'2.5% Range\\n({lower_bound:.2f})', color='grey')\n",
    "plt.text(upper_bound + 0.1, 35, f'97.5% Range\\n({upper_bound:.2f})', color='grey')"
   ]
  },
  {
   "cell_type": "code",
   "execution_count": 125,
   "id": "cc4afe8a",
   "metadata": {},
   "outputs": [],
   "source": [
    "import matplotlib.pyplot as plt"
   ]
  },
  {
   "cell_type": "code",
   "execution_count": 128,
   "id": "6a5f18bd",
   "metadata": {
    "scrolled": true
   },
   "outputs": [],
   "source": [
    "\n",
    "plt.style.use('science')"
   ]
  },
  {
   "cell_type": "code",
   "execution_count": 226,
   "id": "2ae8c3e3",
   "metadata": {},
   "outputs": [
    {
     "data": {
      "image/png": "[encoded data removed]",
      "text/plain": [
       "<Figure size 800x600 with 1 Axes>"
      ]
     },
     "metadata": {},
     "output_type": "display_data"
    }
   ],
   "source": [
    "with plt.style.context(['science', 'no-latex', 'retro']):\n",
    "    fig, ax = plt.subplots(figsize=(4,3), dpi=200)\n",
    "    \n",
    "    # Get the current colour cycle\n",
    "    color_cycle = plt.rcParams['axes.prop_cycle'].by_key()['color']\n",
    "    \n",
    "    ax.hist(scores, bins=100, edgecolor='black', color=color_cycle[5], linewidth=0.05, alpha = 0.5)\n",
    "\n",
    "\n",
    "    # Add dashed lines for the 2.5% and 97.5% percentiles\n",
    "    ax.axvline(lower_bound, color='grey', linestyle='--', label='2.5%')\n",
    "    ax.axvline(upper_bound, color='grey', linestyle='--', label='97.5%')\n",
    "    \n",
    "    # Hide top and right axis and ticks\n",
    "    plt.gca().spines['top'].set_visible(False)\n",
    "    plt.gca().spines['right'].set_visible(False)\n",
    "    ax.tick_params(top=False, right=False)\n",
    "    ax.tick_params(top=False, right=False, which='minor')\n",
    "\n",
    "    # Add text annotations for the number range above the dashed lines\n",
    "    ax.text(lower_bound - 0.1, 35, f'2.5% Range\\n({lower_bound:.2f})', color='grey', ha='right')\n",
    "    ax.text(upper_bound + 0.1, 35, f'97.5% Range\\n({upper_bound:.2f})', color='grey')\n",
    "\n",
    "    ax.set_xlabel('Global Warming Potential (kg CO$_2$ eq)')\n",
    "    ax.set_ylabel('Frequency')\n",
    "    \n",
    "    fig.tight_layout()\n",
    "\n",
    "    ax.autoscale(enable=True, axis='y')\n",
    "\n",
    "fig.savefig(\"output_histogram.png\", bbox_inches='tight')"
   ]
  },
  {
   "cell_type": "markdown",
   "id": "209ab3e4",
   "metadata": {},
   "source": [
    "## Plot for main contribution processes"
   ]
  },
  {
   "cell_type": "code",
   "execution_count": 237,
   "id": "12dc9bfb",
   "metadata": {},
   "outputs": [],
   "source": [
    "# Calculate the 2.5% and 97.5% percentiles for 6 activites\n",
    "lower_bound1 = np.percentile(scores1, 2.5)\n",
    "upper_bound1 = np.percentile(scores1, 97.5)\n",
    "lower_bound2 = np.percentile(scores2, 2.5)\n",
    "upper_bound2 = np.percentile(scores2, 97.5)\n",
    "lower_bound3 = np.percentile(scores3, 2.5)\n",
    "upper_bound3 = np.percentile(scores3, 97.5)\n",
    "lower_bound4 = np.percentile(scores4, 2.5)\n",
    "upper_bound4 = np.percentile(scores4, 97.5)\n",
    "lower_bound5 = np.percentile(scores5, 2.5)\n",
    "upper_bound5 = np.percentile(scores5, 97.5)\n",
    "lower_bound6 = np.percentile(scores6, 2.5)\n",
    "upper_bound6 = np.percentile(scores6, 97.5)\n",
    "\n",
    "range_process_contribution = list([lower_bound1, upper_bound1,lower_bound2, upper_bound2,lower_bound3, upper_bound3,lower_bound4, upper_bound4,lower_bound5, upper_bound5, lower_bound6, upper_bound6])\n",
    "\n",
    "# Calculate the percentage contribution\n"
   ]
  },
  {
   "cell_type": "code",
   "execution_count": 238,
   "id": "9c30ddd4",
   "metadata": {},
   "outputs": [],
   "source": [
    "import pandas as pd\n",
    "\n",
    "process_scores = {'Activity': ['Raised Bed Construction', 'Auxiliary Equipment', 'Growing Medium', \n",
    "                               'Crop Growth', 'Storage', 'Waste Management'], \n",
    "                  'Mean Score': [mean_score1, mean_score2, mean_score3, mean_score4, mean_score5, mean_score6]}\n",
    "\n",
    "process_scores_df = pd.DataFrame(process_scores)"
   ]
  },
  {
   "cell_type": "code",
   "execution_count": 239,
   "id": "9ba7fa60",
   "metadata": {},
   "outputs": [],
   "source": [
    "# Calculate the absolute values of the mean scores\n",
    "abs_mean_scores = np.abs(process_scores_df['Mean Score'])\n",
    "\n",
    "# Calculate the percentage contribution and add it as a new column in the DataFrame\n",
    "process_scores_df['Percentage Contribution'] = process_scores_df['Mean Score'] / abs_mean_scores.sum() * 100"
   ]
  },
  {
   "cell_type": "code",
   "execution_count": 240,
   "id": "b1db1824",
   "metadata": {},
   "outputs": [],
   "source": [
    "# Enter the upper and lower value to the df\n",
    "process_scores_df['Upper Score'] = [upper_bound1, upper_bound2, upper_bound3, upper_bound4, upper_bound5, upper_bound6]\n",
    "process_scores_df['Lower Score'] = [lower_bound1, lower_bound2, lower_bound3, lower_bound4, lower_bound5, lower_bound6]"
   ]
  },
  {
   "cell_type": "code",
   "execution_count": 252,
   "id": "f2b5f559",
   "metadata": {},
   "outputs": [
    {
     "name": "stdout",
     "output_type": "stream",
     "text": [
      "                  Activity  Mean Score  Percentage Contribution  Upper Score  \\\n",
      "0  Raised Bed Construction    1.500482                38.299105     2.263387   \n",
      "1      Auxiliary Equipment    0.474859                12.120560     0.701398   \n",
      "2           Growing Medium   -0.740750               -18.907293    -0.601599   \n",
      "3              Crop Growth    0.076065                 1.941534     0.104458   \n",
      "4                  Storage    0.077399                 1.975567     0.160077   \n",
      "5         Waste Management   -1.048244               -26.755942    -0.756605   \n",
      "\n",
      "   Lower Score  Upper Percentage Contribution  Lower Percentage Contribution  \\\n",
      "0     1.381379                      49.337885                      29.999733   \n",
      "1     0.413045                      15.289261                       8.970198   \n",
      "2    -1.105714                      13.113805                      24.013054   \n",
      "3     0.071560                       2.276992                       1.554087   \n",
      "4     0.039321                       3.489391                       0.853943   \n",
      "5    -1.593619                      16.492666                      34.608985   \n",
      "\n",
      "   Upper Error  Lower Error  \n",
      "0    11.038780     8.299372  \n",
      "1     3.168702     3.150362  \n",
      "2     5.793489     5.105761  \n",
      "3     0.335458     0.387448  \n",
      "4     1.513824     1.121624  \n",
      "5    10.263276     7.853044  \n"
     ]
    }
   ],
   "source": [
    "print(process_scores_df)"
   ]
  },
  {
   "cell_type": "code",
   "execution_count": 241,
   "id": "0db7ace4",
   "metadata": {},
   "outputs": [],
   "source": [
    "# Calculate the absolute values of the upper scores\n",
    "abs_upper_scores = np.abs(process_scores_df['Upper Score'])\n",
    "\n",
    "# Calculate the upper percentage contribution and add it as a new column in the DataFrame\n",
    "process_scores_df['Upper Percentage Contribution'] = abs_upper_scores / abs_upper_scores.sum() * 100\n",
    "\n",
    "# Calculate the absolute values of the lower scores\n",
    "abs_lower_scores = np.abs(process_scores_df['Lower Score'])\n",
    "\n",
    "# Calculate the upper percentage contribution and add it as a new column in the DataFrame\n",
    "process_scores_df['Lower Percentage Contribution'] = abs_lower_scores / abs_lower_scores.sum() * 100"
   ]
  },
  {
   "cell_type": "code",
   "execution_count": 242,
   "id": "e0fbaa80",
   "metadata": {},
   "outputs": [
    {
     "data": {
      "text/plain": [
       "Index(['Activity', 'Mean Score', 'Percentage Contribution', 'Upper Score',\n",
       "       'Lower Score', 'Upper Percentage Contribution',\n",
       "       'Lower Percentage Contribution'],\n",
       "      dtype='object')"
      ]
     },
     "execution_count": 242,
     "metadata": {},
     "output_type": "execute_result"
    }
   ],
   "source": [
    "# Calculte the lower and upper errors\n",
    "process_scores_df.columns"
   ]
  },
  {
   "cell_type": "code",
   "execution_count": 251,
   "id": "29a05864",
   "metadata": {},
   "outputs": [],
   "source": [
    "# Calculate the errors\n",
    "process_scores_df['Upper Error'] = abs(abs(process_scores_df['Percentage Contribution']) - abs(process_scores_df['Upper Percentage Contribution']))\n",
    "process_scores_df['Lower Error'] = abs(abs(process_scores_df['Percentage Contribution']) - abs(process_scores_df['Lower Percentage Contribution']))"
   ]
  },
  {
   "cell_type": "code",
   "execution_count": 254,
   "id": "9c481b5f",
   "metadata": {},
   "outputs": [],
   "source": [
    "# Save process_scores_df to excel\n",
    "import openpyxl\n",
    "import xlsxwriter\n",
    "# Write the dataframe object into Excel file\n",
    "process_scores_df.to_excel(\"process_scores_summary.xlsx\", index=False)"
   ]
  },
  {
   "cell_type": "code",
   "execution_count": 268,
   "id": "5eda35dd",
   "metadata": {
    "scrolled": true
   },
   "outputs": [
    {
     "data": {
      "image/png": "[encoded data removed]",
      "text/plain": [
       "<Figure size 350x262.5 with 1 Axes>"
      ]
     },
     "metadata": {},
     "output_type": "display_data"
    }
   ],
   "source": [
    "import matplotlib.pyplot as plt\n",
    "\n",
    "# Create a figure and a set of subplots\n",
    "fig, ax = plt.subplots()\n",
    "\n",
    "\n",
    "# Set colors for bars based on positive or negative values\n",
    "colors = ['lightcoral' if x >= 0 else 'lightgreen' for x in process_scores_df['Percentage Contribution']]\n",
    "\n",
    "# Generate the bar plot with error bars\n",
    "bars = ax.bar(process_scores_df['Activity'], process_scores_df['Percentage Contribution'], \n",
    "       yerr=[process_scores_df['Lower Error'], process_scores_df['Upper Error']], \n",
    "       align='center', alpha=0.5, ecolor='black', capsize=10, color=colors)\n",
    "\n",
    "# Set the labels and title\n",
    "ax.set_ylabel('Percentage Contribution', fontsize = 10)\n",
    "ax.set_xlabel('Activity')\n",
    "\n",
    "# Rotate x labels for better visibility if they are long\n",
    "plt.xticks(rotation=45, ha='right', fontsize = 10)\n",
    "\n",
    "# only show x and y axis\n",
    "plt.gca().spines['top'].set_visible(False)\n",
    "plt.gca().spines['right'].set_visible(False)\n",
    "ax.tick_params(top=False, right=False)\n",
    "ax.tick_params(top=False, right=False, which='minor')\n",
    "\n",
    "\n",
    "# Adding text labels\n",
    "for bar in bars:\n",
    "    yval = bar.get_height()\n",
    "    if yval >= 0:\n",
    "        ax.text(bar.get_x() + bar.get_width()/2 + 0.4, yval + 3, f'{round(yval, 2)}%', ha='center', va='bottom')\n",
    "    else:\n",
    "        ax.text(bar.get_x() + bar.get_width()/2 + 0.6, yval - 1.5, f'{round(yval, 2)}%', ha='center', va='top')\n",
    "\n",
    "# Add custom legend handles with desired colors\n",
    "legend_labels = ['Emission', 'Absorption']\n",
    "legend_handles = [plt.Rectangle((0, 0), 1, 1, color='lightcoral'), plt.Rectangle((0, 0), 1, 1, color='lightgreen')]\n",
    "\n",
    "# Add legend with custom handles and labels\n",
    "ax.legend(legend_handles, legend_labels)\n",
    "\n",
    "# Show the plot\n",
    "plt.tight_layout()  # adjusts subplot params so that the subplot fits into the figure area\n",
    "plt.show()\n"
   ]
  },
  {
   "cell_type": "code",
   "execution_count": 12,
   "id": "96b4c240",
   "metadata": {
    "scrolled": false
   },
   "outputs": [
    {
     "data": {
      "image/png": "[encoded data removed]",
      "text/plain": [
       "<Figure size 1800x1500 with 1 Axes>"
      ]
     },
     "metadata": {},
     "output_type": "display_data"
    }
   ],
   "source": [
    "import matplotlib.pyplot as plt\n",
    "from matplotlib.ticker import FuncFormatter\n",
    "\n",
    "# Read Excel file into DataFrame\n",
    "process_scores_df = pd.read_excel(\"process_scores_summary.xlsx\")\n",
    "\n",
    "plt.style.use(['science', 'no-latex', 'muted'])\n",
    "\n",
    "# Create a figure and a set of subplots\n",
    "fig, ax = plt.subplots(figsize=(6, 5), dpi=300)\n",
    "\n",
    "# Get the current colour cycle\n",
    "color_cycle = plt.rcParams['axes.prop_cycle'].by_key()['color']\n",
    "# Set colors for bars based on positive or negative values\n",
    "colors = [color_cycle[0] if x >= 0 else color_cycle[6] for x in process_scores_df['Percentage Contribution']]\n",
    "\n",
    "# Generate the bar plot with error bars\n",
    "bars = ax.bar(process_scores_df['Activity'], process_scores_df['Percentage Contribution'], \n",
    "       yerr=[process_scores_df['Lower Error'], process_scores_df['Upper Error']], \n",
    "       align='center', alpha=0.5, ecolor='black', capsize=10, color=colors)\n",
    "\n",
    "# Set the labels and title\n",
    "ax.set_ylabel('Percentage Contribution', fontsize = 12)\n",
    "ax.set_xlabel('Activity', fontsize = 12)\n",
    "\n",
    "\n",
    "# Rotate x labels for better visibility if they are long\n",
    "plt.xticks(rotation=45, ha='right', fontsize = 10)\n",
    "\n",
    "# only show x and y axis\n",
    "ax.spines['top'].set_visible(False)\n",
    "ax.spines['right'].set_visible(False)\n",
    "ax.tick_params(top=False, right=False)\n",
    "ax.tick_params(top=False, right=False, which='minor')\n",
    "\n",
    "# Adding text labels\n",
    "for bar in bars:\n",
    "    yval = bar.get_height()\n",
    "    if yval >= 0:\n",
    "        ax.text(bar.get_x() + bar.get_width()/1.2, yval + 4, f'{round(yval, 2)}%', ha='center', va='bottom')\n",
    "    else:\n",
    "        ax.text(bar.get_x() + bar.get_width()/1, yval - 1.8, f'{round(yval, 2)}%', ha='center', va='top')\n",
    "\n",
    "# Add custom legend handles with desired colors\n",
    "legend_labels = ['Emission', 'Absorption']\n",
    "legend_handles = [\n",
    "    plt.Rectangle((0, 0), 1, 1, facecolor=color_cycle[0], alpha=0.5, edgecolor='none'),\n",
    "    plt.Rectangle((0, 0), 1, 1, facecolor=color_cycle[6], alpha=0.5, edgecolor='none')\n",
    "]\n",
    "\n",
    "\n",
    "\n",
    "# Add legend with custom handles and labels\n",
    "ax.legend(legend_handles, legend_labels)\n",
    "\n",
    "# Show the plot\n",
    "plt.tight_layout()  # adjusts subplot params so that the subplot fits into the figure area\n",
    "plt.show()\n",
    "\n",
    "fig.savefig(\"output_barplot.svg\", bbox_inches='tight')"
   ]
  },
  {
   "cell_type": "code",
   "execution_count": 361,
   "id": "5a4b39b0",
   "metadata": {},
   "outputs": [
    {
     "data": {
      "image/png": "[encoded data removed]",
      "text/plain": [
       "<Figure size 1600x1000 with 1 Axes>"
      ]
     },
     "metadata": {},
     "output_type": "display_data"
    }
   ],
   "source": [
    "import matplotlib.pyplot as plt\n",
    "import seaborn as sns\n",
    "\n",
    "plt.style.use(['science', 'no-latex', 'muted'])\n",
    "\n",
    "# Create a figure\n",
    "fig, ax = plt.subplots(figsize=(8,5), dpi=200)\n",
    "\n",
    "# Get the absolute values of percentage contributions to accurately represent the sizes in the pie chart\n",
    "absolute_percentage_contributions = abs(process_scores_df['Percentage Contribution'])\n",
    "\n",
    "# Get the current colour cycle\n",
    "color_cycle = plt.rcParams['axes.prop_cycle'].by_key()['color']\n",
    "\n",
    "# Add alpha to the colors\n",
    "colors = [color_cycle[2], color_cycle[7], color_cycle[6], color_cycle[8], color_cycle[1], color_cycle[4]]\n",
    "\n",
    "# Generate the pie chart\n",
    "wedges, texts, autotexts = ax.pie(absolute_percentage_contributions, labels=process_scores_df['Activity'],\n",
    "                                  autopct='%1.1f%%', startangle=90, textprops={'fontsize': 10},\n",
    "                                  colors=colors, pctdistance=0.7, wedgeprops={'alpha': 0.5})\n",
    "\n",
    "# Equal aspect ratio ensures that pie is drawn as a circle\n",
    "ax.axis('equal')  \n",
    "\n",
    "plt.show()\n",
    "fig.savefig(\"output_Pie.png\", bbox_inches='tight')\n"
   ]
  }
 ],
 "metadata": {
  "kernelspec": {
   "display_name": "Python 3 (ipykernel)",
   "language": "python",
   "name": "python3"
  },
  "language_info": {
   "codemirror_mode": {
    "name": "ipython",
    "version": 3
   },
   "file_extension": ".py",
   "mimetype": "text/x-python",
   "name": "python",
   "nbconvert_exporter": "python",
   "pygments_lexer": "ipython3",
   "version": "3.10.9"
  }
 },
 "nbformat": 4,
 "nbformat_minor": 5
}
